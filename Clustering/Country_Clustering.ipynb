{
 "cells": [
  {
   "cell_type": "code",
   "execution_count": 1,
   "metadata": {},
   "outputs": [],
   "source": [
    "import pandas as pd\n",
    "import numpy as np\n",
    "import statsmodels.api as sm\n",
    "import matplotlib.pyplot as plt\n",
    "import scipy.cluster.hierarchy as shc\n",
    "from scipy.cluster.hierarchy import dendrogram, linkage\n",
    "from sklearn.cluster import AgglomerativeClustering\n",
    "from statsmodels.tsa.arima_model import ARIMA\n",
    "from sklearn.decomposition import PCA\n",
    "from datetime import datetime\n",
    "import warnings\n",
    "from collections import defaultdict\n",
    "import os\n",
    "\n",
    "%matplotlib inline\n",
    "warnings.filterwarnings('ignore')\n",
    "\n",
    "# Output directory\n",
    "OUTPUT_DIR = '../Outputs/country_clusters/'\n",
    "COUNTRY_DATA_PATH = '../Data/country_data/'"
   ]
  },
  {
   "cell_type": "code",
   "execution_count": 2,
   "metadata": {},
   "outputs": [],
   "source": [
    "# Load ETF returns for Equities\n",
    "equity_etfs = pd.read_csv(COUNTRY_DATA_PATH + 'ETF_adj_close.csv', index_col=0)\n",
    "equity_etfs.index = pd.to_datetime(equity_etfs.index)"
   ]
  },
  {
   "cell_type": "code",
   "execution_count": 3,
   "metadata": {},
   "outputs": [],
   "source": [
    "# Read country sovereign bond data\n",
    "ticker = pd.read_excel(os.path.join(COUNTRY_DATA_PATH, 'ice_bofa_sovereign_indices_data.xlsx'), sheet_name='ticker mapping')\n",
    "ticker['Country'] = ticker['Index Name'].apply(lambda x:' '.join(x.split()[4:-2]))\n",
    "ticker['Index Full Name'] = ticker['Index'] + ' Index'\n",
    "ticker_dict = pd.Series(data=ticker['Country'].values, index=ticker['Index Full Name']).to_dict()\n",
    "\n",
    "bnd_idx_price = pd.read_excel(os.path.join(COUNTRY_DATA_PATH, 'ice_bofa_sovereign_indices_data.xlsx'), \n",
    "                            sheet_name='px_last data',\n",
    "                            skiprows=3,\n",
    "                            header=0)\n",
    "bnd_idx_price.drop(index=[0, 1], inplace=True)\n",
    "bnd_idx_price.rename(columns={\"Unnamed: 0\":\"Date\"}, inplace=True)\n",
    "bnd_idx_price.set_index('Date', inplace=True)\n",
    "bnd_idx_price = bnd_idx_price.astype('float')\n",
    "bnd_idx_price_weekly = bnd_idx_price.resample('W').last()\n",
    "\n",
    "bnd_idx_price_weekly.rename(columns=ticker_dict, inplace=True)"
   ]
  },
  {
   "cell_type": "markdown",
   "metadata": {},
   "source": [
    "# Fixed Income Country Clustering"
   ]
  },
  {
   "cell_type": "markdown",
   "metadata": {},
   "source": [
    "## 1. Clean historical data\n",
    "Gather country sovereign bond indices and convert weekly indices to log-returns. Drop country if returns contain NaN's or mostly zero's."
   ]
  },
  {
   "cell_type": "code",
   "execution_count": 4,
   "metadata": {},
   "outputs": [],
   "source": [
    "# Set start date\n",
    "start_date = '2003-10-01'\n",
    "bnd_weekly_prices_df = bnd_idx_price_weekly[bnd_idx_price_weekly.index>start_date]\n",
    "bnd_weekly_prices_df = bnd_weekly_prices_df.dropna(axis=1)\n",
    "bnd_w_log_ret = np.log(bnd_weekly_prices_df).diff().iloc[1:]\n",
    "\n",
    "# Drop columns if it contains nan's\n",
    "bnd_w_log_ret = bnd_w_log_ret.dropna(axis=1, how='any')\n",
    "# Drop columns if it contains 50%+ 0's\n",
    "bnd_w_log_ret = bnd_w_log_ret.loc[:, (bnd_w_log_ret==0).mean() < .5]\n",
    "\n",
    "normalized_bnd_ret = (bnd_w_log_ret-bnd_w_log_ret.mean())/bnd_w_log_ret.std()\n",
    "normalized_bnd_ret = normalized_bnd_ret.dropna(axis=1)"
   ]
  },
  {
   "cell_type": "markdown",
   "metadata": {},
   "source": [
    "## 2. Generate hierarchical clustering\n",
    "Compute hierarchical clustering based on Ward's method based on weekly bond returns."
   ]
  },
  {
   "cell_type": "code",
   "execution_count": 5,
   "metadata": {},
   "outputs": [
    {
     "data": {
      "image/png": "[encoded data removed]",
      "text/plain": [
       "<Figure size 720x288 with 1 Axes>"
      ]
     },
     "metadata": {
      "needs_background": "light"
     },
     "output_type": "display_data"
    }
   ],
   "source": [
    "# First check for the entire sample\n",
    "plt.figure(figsize=(10, 4))\n",
    "plt.title(\"Dendograms\")\n",
    "dend_FI = shc.dendrogram(shc.linkage(normalized_bnd_ret.T, method='ward'))"
   ]
  },
  {
   "cell_type": "code",
   "execution_count": 6,
   "metadata": {},
   "outputs": [],
   "source": [
    "fi_cluster_full = AgglomerativeClustering(n_clusters=4, affinity='euclidean', linkage='ward')\n",
    "fi_cluster_full.fit_predict(normalized_bnd_ret.T)\n",
    "\n",
    "# Generate dataframe\n",
    "fi_cluster_full_df = pd.DataFrame({'Countries': list(normalized_bnd_ret), 'cluster_label': fi_cluster_full.labels_})\n",
    "fi_cluster_full_df = fi_cluster_full_df.sort_values(by=['cluster_label'], ascending=True).reset_index(drop=True)"
   ]
  },
  {
   "cell_type": "code",
   "execution_count": 20,
   "metadata": {},
   "outputs": [
    {
     "data": {
      "text/html": [
       "<div>\n",
       "<style scoped>\n",
       "    .dataframe tbody tr th:only-of-type {\n",
       "        vertical-align: middle;\n",
       "    }\n",
       "\n",
       "    .dataframe tbody tr th {\n",
       "        vertical-align: top;\n",
       "    }\n",
       "\n",
       "    .dataframe thead th {\n",
       "        text-align: right;\n",
       "    }\n",
       "</style>\n",
       "<table border=\"1\" class=\"dataframe\">\n",
       "  <thead>\n",
       "    <tr style=\"text-align: right;\">\n",
       "      <th></th>\n",
       "      <th>Countries</th>\n",
       "      <th>cluster_label</th>\n",
       "    </tr>\n",
       "  </thead>\n",
       "  <tbody>\n",
       "    <tr>\n",
       "      <th>0</th>\n",
       "      <td>Bulgaria</td>\n",
       "      <td>0</td>\n",
       "    </tr>\n",
       "    <tr>\n",
       "      <th>1</th>\n",
       "      <td>Bolivia</td>\n",
       "      <td>0</td>\n",
       "    </tr>\n",
       "    <tr>\n",
       "      <th>2</th>\n",
       "      <td>Ukraine</td>\n",
       "      <td>0</td>\n",
       "    </tr>\n",
       "    <tr>\n",
       "      <th>3</th>\n",
       "      <td>Venezuela</td>\n",
       "      <td>0</td>\n",
       "    </tr>\n",
       "    <tr>\n",
       "      <th>4</th>\n",
       "      <td>El Salvador</td>\n",
       "      <td>1</td>\n",
       "    </tr>\n",
       "  </tbody>\n",
       "</table>\n",
       "</div>"
      ],
      "text/plain": [
       "     Countries  cluster_label\n",
       "0     Bulgaria              0\n",
       "1      Bolivia              0\n",
       "2      Ukraine              0\n",
       "3    Venezuela              0\n",
       "4  El Salvador              1"
      ]
     },
     "execution_count": 20,
     "metadata": {},
     "output_type": "execute_result"
    }
   ],
   "source": [
    "fi_cluster_full_df.head()"
   ]
  },
  {
   "cell_type": "code",
   "execution_count": 8,
   "metadata": {},
   "outputs": [],
   "source": [
    "fi_cluster_full_df.to_pickle(OUTPUT_DIR + 'clusters_bond_idx_ret_full.pkl')"
   ]
  },
  {
   "cell_type": "markdown",
   "metadata": {},
   "source": [
    "## 3. (Optional) Generate \"expanding window\" clusters\n",
    "Using an expanding window approach, generate different clusters for each year. \n",
    "* Window size = 4 years to start. \n",
    "* **NOTES:** Kept the code here if we need it in the future, but I found that country clusters tend to stay the same except during the crisis periods. Also, if we take a subsample of the time series vs. another, we'd get similar clusters. Clusters are very sensitive to changes in returns - our goal is not to predict returns, but to figure out which countries are similar vs. dis-similar beyond basic economic fundamentals."
   ]
  },
  {
   "cell_type": "code",
   "execution_count": 9,
   "metadata": {},
   "outputs": [],
   "source": [
    "# Inspect cluster sizes for each year based on dendograms\n",
    "# def plot_dendograms(df, K = 4):\n",
    "#     # Compute different clusters by year\n",
    "#     start_year = df.index.year.unique()[0]\n",
    "#     end_year = df.index.year.unique()[-1]\n",
    "#     num_years = end_year - start_year\n",
    "    \n",
    "#     for ii in range(num_years - K):\n",
    "#         new_df = df[(df.index.year >= (start_year + ii)) & (df.index.year <= (ii + start_year + K))]\n",
    "#         predict_year = new_df.index.year.unique()[-1] + 1\n",
    "        \n",
    "#         # First check for the entire sample\n",
    "#         plt.figure(figsize=(10, 4))\n",
    "#         plt.title(\"Dendograms: \" + str(predict_year))\n",
    "#         dend_FI = shc.dendrogram(shc.linkage(new_df.T, method='ward'))"
   ]
  },
  {
   "cell_type": "code",
   "execution_count": 10,
   "metadata": {},
   "outputs": [],
   "source": [
    "# plot_dendograms(normalized_bnd_ret)"
   ]
  },
  {
   "cell_type": "markdown",
   "metadata": {},
   "source": [
    "# Equity Returns & Clustering"
   ]
  },
  {
   "cell_type": "markdown",
   "metadata": {},
   "source": [
    "## 1. Generate hierarchical clustering\n",
    "Perform hierarchical clustering based on country equity returns. Create a dendrogram that illustrate the hierarchical clustering"
   ]
  },
  {
   "cell_type": "code",
   "execution_count": 11,
   "metadata": {},
   "outputs": [],
   "source": [
    "equity_etfs_w = equity_etfs.resample('W').last()\n",
    "equity_rets_w = np.log(equity_etfs_w).diff()\n",
    "equity_rets_w = equity_rets_w.dropna()"
   ]
  },
  {
   "cell_type": "code",
   "execution_count": 12,
   "metadata": {},
   "outputs": [
    {
     "data": {
      "image/png": "[encoded data removed]",
      "text/plain": [
       "<Figure size 864x360 with 1 Axes>"
      ]
     },
     "metadata": {
      "needs_background": "light"
     },
     "output_type": "display_data"
    }
   ],
   "source": [
    "plt.figure(figsize=(12, 5))\n",
    "plt.title(\"Dendograms\")\n",
    "dend_equity = shc.dendrogram(shc.linkage(equity_rets_w.T, method='ward'))"
   ]
  },
  {
   "cell_type": "code",
   "execution_count": 18,
   "metadata": {},
   "outputs": [
    {
     "data": {
      "text/html": [
       "<div>\n",
       "<style scoped>\n",
       "    .dataframe tbody tr th:only-of-type {\n",
       "        vertical-align: middle;\n",
       "    }\n",
       "\n",
       "    .dataframe tbody tr th {\n",
       "        vertical-align: top;\n",
       "    }\n",
       "\n",
       "    .dataframe thead th {\n",
       "        text-align: right;\n",
       "    }\n",
       "</style>\n",
       "<table border=\"1\" class=\"dataframe\">\n",
       "  <thead>\n",
       "    <tr style=\"text-align: right;\">\n",
       "      <th></th>\n",
       "      <th>Countries</th>\n",
       "      <th>cluster_label</th>\n",
       "    </tr>\n",
       "  </thead>\n",
       "  <tbody>\n",
       "    <tr>\n",
       "      <th>0</th>\n",
       "      <td>Pakistan</td>\n",
       "      <td>0</td>\n",
       "    </tr>\n",
       "    <tr>\n",
       "      <th>1</th>\n",
       "      <td>Saudi Arabia</td>\n",
       "      <td>0</td>\n",
       "    </tr>\n",
       "    <tr>\n",
       "      <th>2</th>\n",
       "      <td>Qatar</td>\n",
       "      <td>0</td>\n",
       "    </tr>\n",
       "    <tr>\n",
       "      <th>3</th>\n",
       "      <td>Egypt</td>\n",
       "      <td>0</td>\n",
       "    </tr>\n",
       "    <tr>\n",
       "      <th>4</th>\n",
       "      <td>United Arab Emirates</td>\n",
       "      <td>0</td>\n",
       "    </tr>\n",
       "  </tbody>\n",
       "</table>\n",
       "</div>"
      ],
      "text/plain": [
       "              Countries  cluster_label\n",
       "0              Pakistan              0\n",
       "1          Saudi Arabia              0\n",
       "2                 Qatar              0\n",
       "3                 Egypt              0\n",
       "4  United Arab Emirates              0"
      ]
     },
     "execution_count": 18,
     "metadata": {},
     "output_type": "execute_result"
    }
   ],
   "source": [
    "cluster_ret_etf = AgglomerativeClustering(n_clusters=4, affinity='euclidean', linkage='ward')\n",
    "cluster_ret_etf.fit_predict(equity_rets_w.T)\n",
    "\n",
    "# Match countries to clusters, income status, geography\n",
    "cluster_ret_etf_df = pd.DataFrame({'Countries': list(equity_rets_w), 'cluster_label': cluster_ret_etf.labels_})\n",
    "cluster_ret_etf_df = cluster_ret_etf_df.sort_values(by=['cluster_label'], ascending=True).reset_index(drop=True)\n",
    "cluster_ret_etf_df.head()"
   ]
  },
  {
   "cell_type": "code",
   "execution_count": 14,
   "metadata": {},
   "outputs": [],
   "source": [
    "cluster_ret_etf_df.to_pickle(OUTPUT_DIR + 'clusters_equity_etf_full.pkl')"
   ]
  }
 ],
 "metadata": {
  "environment": {
   "name": "common-cpu.mnightly-2021-01-20-debian-10-test",
   "type": "gcloud",
   "uri": "gcr.io/deeplearning-platform-release/base-cpu:mnightly-2021-01-20-debian-10-test"
  },
  "kernelspec": {
   "display_name": "Python 3",
   "language": "python",
   "name": "python3"
  },
  "language_info": {
   "codemirror_mode": {
    "name": "ipython",
    "version": 3
   },
   "file_extension": ".py",
   "mimetype": "text/x-python",
   "name": "python",
   "nbconvert_exporter": "python",
   "pygments_lexer": "ipython3",
   "version": "3.7.9"
  }
 },
 "nbformat": 4,
 "nbformat_minor": 4
}
