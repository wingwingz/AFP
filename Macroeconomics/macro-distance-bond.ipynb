{
 "cells": [
  {
   "cell_type": "code",
   "execution_count": 1,
   "id": "incoming-milwaukee",
   "metadata": {},
   "outputs": [],
   "source": [
    "import pandas as pd\n",
    "import pandas_datareader as pdr\n",
    "import numpy as np\n",
    "import matplotlib.pyplot as plt\n",
    "import matplotlib\n",
    "import statsmodels.api as sm\n",
    "from statsmodels.regression.rolling import RollingOLS\n",
    "from dateutil.relativedelta import relativedelta\n",
    "import seaborn as sns\n",
    "from arch import arch_model\n",
    "from sklearn.preprocessing import MinMaxScaler\n",
    "import datetime"
   ]
  },
  {
   "cell_type": "code",
   "execution_count": 2,
   "id": "native-convertible",
   "metadata": {},
   "outputs": [],
   "source": [
    "# Directories\n",
    "MACRO_DIR = '../Data/macro_factors/'\n",
    "OUTPUT_DIR = '../Outputs/bond/'\n",
    "CLUSTER_DIR = '../Outputs/country_clusters/'\n",
    "\n",
    "# Filter by year\n",
    "start_date = '2003-10-01'\n",
    "end_date = '2021-01-31'"
   ]
  },
  {
   "cell_type": "code",
   "execution_count": 3,
   "id": "finnish-therapy",
   "metadata": {},
   "outputs": [],
   "source": [
    "# Load equity ETF log returns\n",
    "bond_rets = pd.read_pickle(OUTPUT_DIR + 'bond_country_returns.pkl')\n",
    "\n",
    "# Load market returns, i.e., EM Aggregate returns from EEM ETF index\n",
    "market_rets = pd.read_pickle(OUTPUT_DIR + 'bond_benchmark_ret.pkl')\n",
    "\n",
    "# Load clusters\n",
    "bond_clusters = pd.read_pickle(CLUSTER_DIR + 'clusters_bond_idx_ret_full.pkl')"
   ]
  },
  {
   "cell_type": "markdown",
   "id": "vertical-authorization",
   "metadata": {},
   "source": [
    "# Purpose of Notebook:\n",
    "Construct similarity measure to determine periods of similar volatility and GDP for each country.\n",
    "\n",
    "We use adjusted cosine similarity (http://www10.org/cdrom/papers/519/node14.html):\n",
    "$$\n",
    "similarity = cos \\theta = \\frac{A B}{||A|| ||B||}\n",
    "$$\n",
    "This measure computes the cosine angle between vectors A, B - in this case, A, B would be today $t$ vs. all periods in the past before $t$, respectively. Note that A and B excludes the mean of both features. A cosine angle of 0 means that the 2 vectors are at 90 degrees to each other (i.e. orthogonal) and have no match. The closer the cosine value is to 1, the smaller the angle and greater the similarity. (Cosine similarity ranges from 0 to 1).\n",
    "\n",
    "Then, it follows that distances is defined by:\n",
    "$$\n",
    "cos distance = 1 / similarity\n",
    "$$\n",
    "\n",
    "We would like to **overweight** periods that are similar to today, and **underweight** periods that are not similar to today. \n",
    "\n",
    "**Framework:**\n",
    "1. Construct GDP growth\n",
    "2. Construct volatility measures\n",
    "3. Construct total distance measure based on volatility and GDP growth: 2/3 * distance on GDP growth + 1/3 distance on volatility"
   ]
  },
  {
   "cell_type": "markdown",
   "id": "tight-blink",
   "metadata": {},
   "source": [
    "## 1. GDP Growth"
   ]
  },
  {
   "cell_type": "code",
   "execution_count": 4,
   "id": "applied-confirmation",
   "metadata": {},
   "outputs": [],
   "source": [
    "# Load macro data - GDP growth (annual percentage change)\n",
    "gdp_growth = pd.read_csv(MACRO_DIR + 'EM_GDP_QPCHNG.csv')\n",
    "gdp_growth = gdp_growth[['LOCATION', 'TIME', 'Value']]\n",
    "gdp_growth = pd.pivot_table(gdp_growth, values='Value', index=['TIME'], columns='LOCATION').reset_index()\n",
    "gdp_growth.index = pd.date_range('1961-01', '2021-01', freq='Q')\n",
    "del gdp_growth['TIME']\n",
    "del gdp_growth['OECD']"
   ]
  },
  {
   "cell_type": "code",
   "execution_count": 5,
   "id": "necessary-afternoon",
   "metadata": {},
   "outputs": [],
   "source": [
    "gdp_codes_dict = {'ARG': 'Argentina', 'BRA': 'Brazil', 'CHL':'Chile', 'CHN':'China', 'COL':'Colombia', 'GRC': 'Greece', 'IND':'India', \\\n",
    "                 'KOR': 'Korea', 'MEX': 'Mexico', 'POL': 'Poland', 'RUS':'Russia', 'SAU':'Saudi Arabia', 'TUR': 'Turkey', 'ZAF': 'South Africa'}\n",
    "gdp_growth.rename(gdp_codes_dict, axis=1, inplace=True)\n",
    "gdp_growth = gdp_growth[(gdp_growth.index>=start_date) & (gdp_growth.index<=end_date)]\n",
    "gdp_growth = gdp_growth.fillna(method='ffill').fillna(method='bfill')"
   ]
  },
  {
   "cell_type": "code",
   "execution_count": 6,
   "id": "outdoor-sterling",
   "metadata": {},
   "outputs": [],
   "source": [
    "#####################################################################################################################################################\n",
    "# Load macro data - GDP: This file contains raw GDP values for every country; we are missing some GDPs in the dataset above\n",
    "# So we need to manually calculate annual % change in GDP at every quarter\n",
    "country_GDP = pd.read_csv(MACRO_DIR + 'world_real_GDP.csv', skiprows=51)\n",
    "country_GDP_match = pd.read_csv(MACRO_DIR + 'world_real_GDP.csv', nrows=50)\n",
    "country_GDP_match = country_GDP_match[['Ticker', 'Country']]\n",
    "country_GDP_dict = country_GDP_match.set_index('Ticker')['Country'].to_dict()\n",
    "country_GDP_dict = {k+'_Close': v for k, v in country_GDP_dict.items()}\n",
    "\n",
    "country_GDP.index = country_GDP['Date']\n",
    "del country_GDP['Date']"
   ]
  },
  {
   "cell_type": "code",
   "execution_count": 7,
   "id": "serial-tender",
   "metadata": {},
   "outputs": [],
   "source": [
    "# Rename columns\n",
    "em_countries = bond_rets.columns.values\n",
    "country_GDP.rename(country_GDP_dict, axis=1, inplace=True)"
   ]
  },
  {
   "cell_type": "code",
   "execution_count": 8,
   "id": "governmental-healthcare",
   "metadata": {},
   "outputs": [],
   "source": [
    "missing_countries = set(bond_rets.columns) - set(gdp_growth.columns)"
   ]
  },
  {
   "cell_type": "code",
   "execution_count": 9,
   "id": "treated-happening",
   "metadata": {},
   "outputs": [],
   "source": [
    "country_GDP.rename(columns={'Korea, Republic Of':'South Korea'}, inplace=True)"
   ]
  },
  {
   "cell_type": "code",
   "execution_count": 10,
   "id": "floating-elizabeth",
   "metadata": {},
   "outputs": [],
   "source": [
    "missing_GDP = country_GDP[missing_countries.intersection(country_GDP.columns)]\n",
    "missing_GDP = missing_GDP.dropna(how='all')\n",
    "missing_GDP.index = pd.to_datetime(missing_GDP.index)\n",
    "missing_GDP = missing_GDP[(missing_GDP.index>=start_date) & (missing_GDP.index<=end_date)]"
   ]
  },
  {
   "cell_type": "code",
   "execution_count": 11,
   "id": "greatest-bundle",
   "metadata": {},
   "outputs": [],
   "source": [
    "missing_GDP_GRO = missing_GDP.pct_change(4)*100\n",
    "\n",
    "# Combine gdP\n",
    "gdp_growth_em = pd.concat([gdp_growth, missing_GDP_GRO], axis=1)\n",
    "gdp_growth_em = gdp_growth_em[(gdp_growth_em.index>=start_date) & (gdp_growth_em.index<=end_date)]\n",
    "gdp_growth_em = gdp_growth_em.fillna(method='bfill')\n",
    "\n",
    "#####################################################################################################################################################\n",
    "# Convert to weekly: NOTE: GDP Growth was in annualized quarterly %, we interpolated this number to weekly, so it's weekly annualized\n",
    "df_daily = gdp_growth_em.asfreq('D').interpolate(method='polynomial', order=2).dropna()\n",
    "gdp_growth_em_monthly = df_daily.resample('M').last()"
   ]
  },
  {
   "cell_type": "markdown",
   "id": "hydraulic-trinity",
   "metadata": {},
   "source": [
    "## 2. Volatility\n",
    "We used rolling past 26-weeks sum of squared returns to obtain realized variance, then realized volatility associated with each country."
   ]
  },
  {
   "cell_type": "code",
   "execution_count": 105,
   "id": "rental-helena",
   "metadata": {},
   "outputs": [],
   "source": [
    "bond_vol = np.sqrt(np.power(bond_rets, 2).rolling(12).sum())"
   ]
  },
  {
   "cell_type": "code",
   "execution_count": 106,
   "id": "present-trader",
   "metadata": {},
   "outputs": [],
   "source": [
    "bond_vol.dropna(how='all', inplace=True)"
   ]
  },
  {
   "cell_type": "code",
   "execution_count": 107,
   "id": "sensitive-casino",
   "metadata": {},
   "outputs": [],
   "source": [
    "bond_vol.dropna(how='any', axis=1, inplace=True)"
   ]
  },
  {
   "cell_type": "markdown",
   "id": "alert-waste",
   "metadata": {},
   "source": [
    "## 3. Distance Score"
   ]
  },
  {
   "cell_type": "code",
   "execution_count": 37,
   "id": "auburn-sleep",
   "metadata": {},
   "outputs": [],
   "source": [
    "def distance_score(df, method='expanding', start=51, window=25):\n",
    "    '''\n",
    "    Computes distance score given dataframe of macro data\n",
    "    + Start: this is the starting month since the beginning of the macro-data \n",
    "    as the macro data begins a little before equity returns to allow\n",
    "    for all scores to be computed / data does not need to be truncated\n",
    "    + Window: If method = 'rolling', then we use the last 25 weeks' worth of macro data \n",
    "    to compute distance score\n",
    "    Outputs:\n",
    "    + distances_df: contains distance scores computed from macro data, df\n",
    "    '''\n",
    "    estimated_dist_ = []\n",
    "    dates_ = []\n",
    "    \n",
    "    for ii in range(df.shape[0]-start-1):\n",
    "        current_t = df.iloc[start+ii,:]\n",
    "        if method == 'expanding':\n",
    "            previous_t = df.iloc[:start+ii,:]\n",
    "        else:\n",
    "            previous_t = df.iloc[window+ii:start+ii,:]\n",
    "\n",
    "        def calc_distance(current, previous):\n",
    "            # Find cosine similarity first\n",
    "            no_mean_current = current - current.mean()\n",
    "            no_mean_previous = previous - previous.mean()\n",
    "            cos_sim = np.dot(no_mean_current, no_mean_previous)/(np.linalg.norm(no_mean_current) * np.linalg.norm(no_mean_previous))\n",
    "            cos_distance = 1/cos_sim\n",
    "            return cos_distance\n",
    "\n",
    "        all_distances = []\n",
    "        all_dates = []\n",
    "        for index, row in previous_t.iterrows():\n",
    "            distance_score = calc_distance(current_t, row)\n",
    "            all_distances.append(distance_score)\n",
    "            all_dates.append(row.name)\n",
    "        all_prev_dist_df = pd.DataFrame(all_distances, index=all_dates)\n",
    "        all_prev_dist_df.columns = ['Distance']\n",
    "        all_prev_dist_df['ewm_dist'] = all_prev_dist_df['Distance'].ewm(alpha=0.3,adjust=False).mean()\n",
    "\n",
    "        # Take the most recent distances\n",
    "        current_t_dist = all_prev_dist_df['ewm_dist'][-1]\n",
    "        estimated_dist_.append(current_t_dist)\n",
    "        dates_.append(current_t.name)\n",
    "    \n",
    "    distances_df = pd.DataFrame(estimated_dist_, index=dates_)\n",
    "    distances_df.columns = ['dist']\n",
    "    \n",
    "    return distances_df"
   ]
  },
  {
   "cell_type": "code",
   "execution_count": 38,
   "id": "sensitive-phoenix",
   "metadata": {},
   "outputs": [],
   "source": [
    "gdp_distances = distance_score(gdp_growth_em_monthly, start=6, window=6, method='expanding')"
   ]
  },
  {
   "cell_type": "code",
   "execution_count": 39,
   "id": "unknown-ontario",
   "metadata": {},
   "outputs": [
    {
     "data": {
      "text/html": [
       "<div>\n",
       "<style scoped>\n",
       "    .dataframe tbody tr th:only-of-type {\n",
       "        vertical-align: middle;\n",
       "    }\n",
       "\n",
       "    .dataframe tbody tr th {\n",
       "        vertical-align: top;\n",
       "    }\n",
       "\n",
       "    .dataframe thead th {\n",
       "        text-align: right;\n",
       "    }\n",
       "</style>\n",
       "<table border=\"1\" class=\"dataframe\">\n",
       "  <thead>\n",
       "    <tr style=\"text-align: right;\">\n",
       "      <th></th>\n",
       "      <th>dist</th>\n",
       "    </tr>\n",
       "  </thead>\n",
       "  <tbody>\n",
       "    <tr>\n",
       "      <th>2006-12-31</th>\n",
       "      <td>1.521779</td>\n",
       "    </tr>\n",
       "    <tr>\n",
       "      <th>2010-01-31</th>\n",
       "      <td>1.585063</td>\n",
       "    </tr>\n",
       "    <tr>\n",
       "      <th>2010-02-28</th>\n",
       "      <td>-64.024708</td>\n",
       "    </tr>\n",
       "    <tr>\n",
       "      <th>2010-06-30</th>\n",
       "      <td>2.480319</td>\n",
       "    </tr>\n",
       "    <tr>\n",
       "      <th>2010-07-31</th>\n",
       "      <td>115.389674</td>\n",
       "    </tr>\n",
       "    <tr>\n",
       "      <th>2017-04-30</th>\n",
       "      <td>5.191116</td>\n",
       "    </tr>\n",
       "    <tr>\n",
       "      <th>2017-06-30</th>\n",
       "      <td>1.514165</td>\n",
       "    </tr>\n",
       "    <tr>\n",
       "      <th>2017-07-31</th>\n",
       "      <td>1.638642</td>\n",
       "    </tr>\n",
       "    <tr>\n",
       "      <th>2018-02-28</th>\n",
       "      <td>3.312083</td>\n",
       "    </tr>\n",
       "    <tr>\n",
       "      <th>2018-03-31</th>\n",
       "      <td>2.037276</td>\n",
       "    </tr>\n",
       "    <tr>\n",
       "      <th>2018-05-31</th>\n",
       "      <td>-5.763314</td>\n",
       "    </tr>\n",
       "    <tr>\n",
       "      <th>2018-06-30</th>\n",
       "      <td>1.544664</td>\n",
       "    </tr>\n",
       "    <tr>\n",
       "      <th>2018-11-30</th>\n",
       "      <td>1.633921</td>\n",
       "    </tr>\n",
       "    <tr>\n",
       "      <th>2018-12-31</th>\n",
       "      <td>3.417869</td>\n",
       "    </tr>\n",
       "    <tr>\n",
       "      <th>2019-01-31</th>\n",
       "      <td>2.477051</td>\n",
       "    </tr>\n",
       "    <tr>\n",
       "      <th>2019-04-30</th>\n",
       "      <td>1.607840</td>\n",
       "    </tr>\n",
       "    <tr>\n",
       "      <th>2019-07-31</th>\n",
       "      <td>2.676571</td>\n",
       "    </tr>\n",
       "    <tr>\n",
       "      <th>2019-11-30</th>\n",
       "      <td>1.702597</td>\n",
       "    </tr>\n",
       "    <tr>\n",
       "      <th>2020-01-31</th>\n",
       "      <td>5.597458</td>\n",
       "    </tr>\n",
       "    <tr>\n",
       "      <th>2020-03-31</th>\n",
       "      <td>4.786310</td>\n",
       "    </tr>\n",
       "    <tr>\n",
       "      <th>2020-04-30</th>\n",
       "      <td>-1.600529</td>\n",
       "    </tr>\n",
       "    <tr>\n",
       "      <th>2020-05-31</th>\n",
       "      <td>-2.367650</td>\n",
       "    </tr>\n",
       "    <tr>\n",
       "      <th>2020-06-30</th>\n",
       "      <td>5.314485</td>\n",
       "    </tr>\n",
       "    <tr>\n",
       "      <th>2020-07-31</th>\n",
       "      <td>6.470870</td>\n",
       "    </tr>\n",
       "    <tr>\n",
       "      <th>2020-10-31</th>\n",
       "      <td>4.487682</td>\n",
       "    </tr>\n",
       "    <tr>\n",
       "      <th>2020-11-30</th>\n",
       "      <td>1.662988</td>\n",
       "    </tr>\n",
       "  </tbody>\n",
       "</table>\n",
       "</div>"
      ],
      "text/plain": [
       "                  dist\n",
       "2006-12-31    1.521779\n",
       "2010-01-31    1.585063\n",
       "2010-02-28  -64.024708\n",
       "2010-06-30    2.480319\n",
       "2010-07-31  115.389674\n",
       "2017-04-30    5.191116\n",
       "2017-06-30    1.514165\n",
       "2017-07-31    1.638642\n",
       "2018-02-28    3.312083\n",
       "2018-03-31    2.037276\n",
       "2018-05-31   -5.763314\n",
       "2018-06-30    1.544664\n",
       "2018-11-30    1.633921\n",
       "2018-12-31    3.417869\n",
       "2019-01-31    2.477051\n",
       "2019-04-30    1.607840\n",
       "2019-07-31    2.676571\n",
       "2019-11-30    1.702597\n",
       "2020-01-31    5.597458\n",
       "2020-03-31    4.786310\n",
       "2020-04-30   -1.600529\n",
       "2020-05-31   -2.367650\n",
       "2020-06-30    5.314485\n",
       "2020-07-31    6.470870\n",
       "2020-10-31    4.487682\n",
       "2020-11-30    1.662988"
      ]
     },
     "execution_count": 39,
     "metadata": {},
     "output_type": "execute_result"
    }
   ],
   "source": [
    "gdp_distances[gdp_distances['dist'].abs() > 1.5]"
   ]
  },
  {
   "cell_type": "code",
   "execution_count": 22,
   "id": "entitled-variable",
   "metadata": {},
   "outputs": [
    {
     "data": {
      "image/png": "[encoded data removed]",
      "text/plain": [
       "<Figure size 432x288 with 1 Axes>"
      ]
     },
     "metadata": {
      "needs_background": "light"
     },
     "output_type": "display_data"
    }
   ],
   "source": [
    "plt.plot(gdp_distances['dist'])\n",
    "plt.ylabel('Cosine Distance (EWM)')\n",
    "plt.title('GDP Distance Measure')\n",
    "plt.show()"
   ]
  },
  {
   "cell_type": "code",
   "execution_count": 17,
   "id": "above-replica",
   "metadata": {},
   "outputs": [],
   "source": [
    "vol_distances = distance_score(bond_vol, start=6, method='expanding')"
   ]
  },
  {
   "cell_type": "code",
   "execution_count": 18,
   "id": "recognized-thomas",
   "metadata": {},
   "outputs": [
    {
     "data": {
      "image/png": "[encoded data removed]",
      "text/plain": [
       "<Figure size 432x288 with 1 Axes>"
      ]
     },
     "metadata": {
      "needs_background": "light"
     },
     "output_type": "display_data"
    }
   ],
   "source": [
    "plt.plot(vol_distances['dist'])\n",
    "plt.ylabel('Cosine Distance (EWM)')\n",
    "plt.title('Volatility Distance Measure')\n",
    "plt.xticks(rotation=45)\n",
    "plt.show()"
   ]
  },
  {
   "cell_type": "code",
   "execution_count": 19,
   "id": "rational-circular",
   "metadata": {},
   "outputs": [],
   "source": [
    "# Combine distance scores\n",
    "weights = [1/3, 2/3]\n",
    "# Clean up dates a little bit\n",
    "gdp_score = gdp_distances[gdp_distances.index>=start_date]\n",
    "vol_score = vol_distances.iloc[:-4]\n",
    "# Combine\n",
    "tot_dist_equity = weights[0] * gdp_score['dist'] + weights[1] * vol_score['dist']"
   ]
  },
  {
   "cell_type": "code",
   "execution_count": 27,
   "id": "boring-witch",
   "metadata": {},
   "outputs": [
    {
     "data": {
      "image/png": "[encoded data removed]",
      "text/plain": [
       "<Figure size 432x288 with 1 Axes>"
      ]
     },
     "metadata": {
      "needs_background": "light"
     },
     "output_type": "display_data"
    }
   ],
   "source": [
    "plt.plot(tot_dist_equity)\n",
    "plt.ylabel('Distance Score')\n",
    "plt.title('Equity: Total Distance Score from GDP Growth and Volatility')\n",
    "plt.xticks(rotation=45)\n",
    "plt.show()"
   ]
  },
  {
   "cell_type": "code",
   "execution_count": 28,
   "id": "handmade-machinery",
   "metadata": {},
   "outputs": [],
   "source": [
    "tot_dist_equity = pd.DataFrame(tot_dist_equity)\n",
    "tot_dist_equity.columns = ['dist']\n",
    "tot_dist_equity['similarity_score'] = 1/tot_dist_equity['dist']\n",
    "\n",
    "# transform data\n",
    "tot_dist_equity['similarity_score_scaled'] = (tot_dist_equity['similarity_score'] -  min(tot_dist_equity['similarity_score']))/ \\\n",
    "                                                (max(tot_dist_equity['similarity_score'])-min(tot_dist_equity['similarity_score']))"
   ]
  },
  {
   "cell_type": "markdown",
   "id": "processed-structure",
   "metadata": {},
   "source": [
    "# Outputs"
   ]
  },
  {
   "cell_type": "code",
   "execution_count": 29,
   "id": "prescription-planner",
   "metadata": {},
   "outputs": [
    {
     "data": {
      "text/plain": [
       "<AxesSubplot:>"
      ]
     },
     "execution_count": 29,
     "metadata": {},
     "output_type": "execute_result"
    },
    {
     "data": {
      "image/png": "[encoded data removed]",
      "text/plain": [
       "<Figure size 432x288 with 1 Axes>"
      ]
     },
     "metadata": {
      "needs_background": "light"
     },
     "output_type": "display_data"
    }
   ],
   "source": [
    "tot_dist_equity.plot()"
   ]
  },
  {
   "cell_type": "code",
   "execution_count": null,
   "id": "dated-lighting",
   "metadata": {},
   "outputs": [],
   "source": [
    "tot_dist_equity.to_pickle(OUTPUT_DIR + 'bond_distance_score.pkl')"
   ]
  },
  {
   "cell_type": "markdown",
   "id": "alone-clinic",
   "metadata": {},
   "source": [
    "## Modified Outputs"
   ]
  },
  {
   "cell_type": "code",
   "execution_count": 108,
   "id": "chinese-temple",
   "metadata": {},
   "outputs": [],
   "source": [
    "def distance_score1(df, method='expanding', start=12, window=6):\n",
    "    '''\n",
    "    Computes distance score given dataframe of macro data\n",
    "    + Start: this is the starting month since the beginning of the macro-data \n",
    "    as the macro data begins a little before equity returns to allow\n",
    "    for all scores to be computed / data does not need to be truncated\n",
    "    + Window: If method = 'rolling', then we use the last 25 weeks' worth of macro data \n",
    "    to compute distance score\n",
    "    Outputs:\n",
    "    + distances_df: contains distance scores computed from macro data, df\n",
    "    '''\n",
    "    estimated_dist_ = []\n",
    "    dates_ = []\n",
    "    \n",
    "    for ii in range(df.shape[0]-start-1):\n",
    "        current_t = df.iloc[start+ii,:]\n",
    "        if method == 'expanding':\n",
    "            previous_t = df.iloc[:start+ii,:]\n",
    "        else:\n",
    "            previous_t = df.iloc[window+ii:start+ii,:]\n",
    "\n",
    "        def calc_distance(current, previous):\n",
    "            # Find cosine similarity first\n",
    "            no_mean_current = current - current.mean()\n",
    "            no_mean_previous = previous - previous.mean()\n",
    "            cos_sim = np.dot(no_mean_current, no_mean_previous)/(np.linalg.norm(no_mean_current) * np.linalg.norm(no_mean_previous))\n",
    "            cos_distance = 1/cos_sim\n",
    "            return cos_distance\n",
    "\n",
    "        all_distances = []\n",
    "        all_dates = []\n",
    "        for index, row in previous_t.iterrows():\n",
    "            distance_score = calc_distance(current_t, row)\n",
    "            all_distances.append(distance_score)\n",
    "            all_dates.append(row.name)\n",
    "        all_prev_dist_df = pd.DataFrame(all_distances, index=all_dates)\n",
    "        all_prev_dist_df.columns = ['Distance']\n",
    "#         all_prev_dist_df['ewm_dist'] = all_prev_dist_df['Distance'].ewm(alpha=0.3,adjust=False).mean()\n",
    "\n",
    "        # Take the most recent distances\n",
    "#         current_t_dist = all_prev_dist_df['ewm_dist'][-1]\n",
    "        estimated_dist_.append(all_prev_dist_df)\n",
    "        dates_.append(current_t.name)\n",
    "    \n",
    "#     distances_df = pd.DataFrame(estimated_dist_, index=dates_)\n",
    "#     distances_df.columns = ['dist']\n",
    "    \n",
    "    return estimated_dist_, dates_"
   ]
  },
  {
   "cell_type": "code",
   "execution_count": 109,
   "id": "compressed-casino",
   "metadata": {},
   "outputs": [],
   "source": [
    "# align start dates\n",
    "common_dates = set(bond_vol.index).intersection(gdp_growth_em_monthly.index)\n",
    "gdp_growth_em_monthly = gdp_growth_em_monthly.loc[common_dates].sort_index()"
   ]
  },
  {
   "cell_type": "code",
   "execution_count": 110,
   "id": "urban-three",
   "metadata": {},
   "outputs": [],
   "source": [
    "bond_vol = bond_vol.loc[common_dates].sort_index()"
   ]
  },
  {
   "cell_type": "code",
   "execution_count": 111,
   "id": "applied-element",
   "metadata": {},
   "outputs": [],
   "source": [
    "all_gdp_dist,all_dates = distance_score1(gdp_growth_em_monthly, start=12, method='expanding')\n",
    "all_vol_dist,all_dates = distance_score1(bond_vol, start=12, method='expanding')"
   ]
  },
  {
   "cell_type": "code",
   "execution_count": 112,
   "id": "automotive-entertainment",
   "metadata": {},
   "outputs": [],
   "source": [
    "for i in range(len(all_dates)):\n",
    "    all_gdp_dist[i].rename(columns = {'Distance':all_dates[i]},inplace = True)\n",
    "all_gdp_df = pd.concat(all_gdp_dist,axis=1)\n",
    "for i in range(len(all_dates)):\n",
    "    all_vol_dist[i].rename(columns = {'Distance':all_dates[i]},inplace = True)\n",
    "all_vol_df = pd.concat(all_vol_dist,axis=1)"
   ]
  },
  {
   "cell_type": "code",
   "execution_count": 113,
   "id": "legislative-surgeon",
   "metadata": {},
   "outputs": [],
   "source": [
    "def inverse_minmax(s):\n",
    "    t = 1/s\n",
    "    min_t = min(t)\n",
    "    max_t = max(t)\n",
    "    return (t-min_t)/(max_t-min_t)\n",
    "all_gdp_df = all_gdp_df.apply(inverse_minmax,axis=0)\n",
    "all_vol_df = all_vol_df.apply(inverse_minmax,axis=0)"
   ]
  },
  {
   "cell_type": "code",
   "execution_count": 114,
   "id": "determined-eugene",
   "metadata": {},
   "outputs": [
    {
     "data": {
      "text/plain": [
       "2004-12-31    0.038051\n",
       "2005-01-31    0.081626\n",
       "2005-02-28    0.054438\n",
       "2005-03-31    0.000000\n",
       "2005-04-30    0.276049\n",
       "                ...   \n",
       "2020-06-30         NaN\n",
       "2020-07-31         NaN\n",
       "2020-08-31         NaN\n",
       "2020-09-30         NaN\n",
       "2020-10-31         NaN\n",
       "Freq: M, Name: 2005-12-31 00:00:00, Length: 191, dtype: float64"
      ]
     },
     "execution_count": 114,
     "metadata": {},
     "output_type": "execute_result"
    }
   ],
   "source": [
    "all_vol_df.iloc[:,0]"
   ]
  },
  {
   "cell_type": "code",
   "execution_count": 115,
   "id": "configured-chester",
   "metadata": {},
   "outputs": [],
   "source": [
    "all_gdp_df.to_pickle('../Outputs/macroeconomics/gdp_distance_bond_12m.pickle')\n",
    "all_vol_df.to_pickle('../Outputs/macroeconomics/vol_distance_bond_12m.pickle')"
   ]
  },
  {
   "cell_type": "code",
   "execution_count": null,
   "id": "demanding-flower",
   "metadata": {},
   "outputs": [],
   "source": []
  }
 ],
 "metadata": {
  "environment": {
   "name": "common-cpu.mnightly-2021-02-02-debian-10-test",
   "type": "gcloud",
   "uri": "gcr.io/deeplearning-platform-release/base-cpu:mnightly-2021-02-02-debian-10-test"
  },
  "kernelspec": {
   "display_name": "Python 3",
   "language": "python",
   "name": "python3"
  },
  "language_info": {
   "codemirror_mode": {
    "name": "ipython",
    "version": 3
   },
   "file_extension": ".py",
   "mimetype": "text/x-python",
   "name": "python",
   "nbconvert_exporter": "python",
   "pygments_lexer": "ipython3",
   "version": "3.7.9"
  }
 },
 "nbformat": 4,
 "nbformat_minor": 5
}
