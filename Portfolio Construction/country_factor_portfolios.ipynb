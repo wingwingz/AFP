{
 "cells": [
  {
   "cell_type": "code",
   "execution_count": null,
   "metadata": {},
   "outputs": [],
   "source": [
    "import pandas as pd\n",
    "import pandas_datareader as pdr\n",
    "import numpy as np\n",
    "import matplotlib.pyplot as plt\n",
    "import matplotlib\n",
    "import statsmodels.api as sm\n",
    "from statsmodels.regression.rolling import RollingOLS\n",
    "from dateutil.relativedelta import relativedelta\n",
    "import seaborn as sns\n",
    "import datetime\n",
    "\n",
    "#matplotlib.style.use('ggplot')"
   ]
  },
  {
   "cell_type": "code",
   "execution_count": null,
   "metadata": {},
   "outputs": [],
   "source": [
    "# Directories\n",
    "OUTPUT_DIR = '../Outputs/country_clusters/'\n",
    "INPUT_DIR = '../Data/country_data/'\n",
    "MACRO_DIR = '../Data/macro_factors/'\n",
    "\n",
    "# Filter by year\n",
    "start_date = '2015-09-27'\n",
    "end_date = '2021-01-31'"
   ]
  },
  {
   "cell_type": "markdown",
   "metadata": {},
   "source": [
    "# Load Data & Clean to Weekly"
   ]
  },
  {
   "cell_type": "markdown",
   "metadata": {},
   "source": [
    "## Equity ETFs"
   ]
  },
  {
   "cell_type": "code",
   "execution_count": null,
   "metadata": {},
   "outputs": [],
   "source": [
    "# Load ETF returns for Equities\n",
    "equity_etfs = pd.read_csv(INPUT_DIR + 'ETF_adj_close.csv', index_col=0)\n",
    "equity_etfs.index = pd.to_datetime(equity_etfs.index)\n",
    "\n",
    "equity_etfs_w = equity_etfs.resample('W').last()\n",
    "equity_rets_w = np.log(equity_etfs_w).diff()\n",
    "equity_rets_w = equity_rets_w.dropna()"
   ]
  },
  {
   "cell_type": "markdown",
   "metadata": {},
   "source": [
    "## Market Cap"
   ]
  },
  {
   "cell_type": "code",
   "execution_count": null,
   "metadata": {},
   "outputs": [],
   "source": [
    "# Load market cap data for countries\n",
    "country_mkt_cap = pd.read_csv(INPUT_DIR + 'country_market_caps.csv',skiprows=4)\n",
    "country_mkt_cap = country_mkt_cap[country_mkt_cap.columns[~country_mkt_cap.columns.isin(['Country Code', 'Indicator Name', 'Indicator Code'])]]\n",
    "country_mkt_cap = country_mkt_cap.T.rename_axis('Date')\n",
    "country_mkt_cap = country_mkt_cap.rename(columns=country_mkt_cap.iloc[0]).drop(country_mkt_cap.index[0])\n",
    "\n",
    "# Only select countries in EM universe\n",
    "# Remove Taiwan since it doesn't exist in the market cap data; change names for Korea, Russia, Egypt for better search\n",
    "em_countries = equity_rets_w.columns.values\n",
    "em_countries = np.where(em_countries=='Korea', 'Korea, Rep.', em_countries) \n",
    "em_countries = np.where(em_countries=='Russia', 'Russian Federation', em_countries) \n",
    "em_countries = np.where(em_countries=='Egypt', 'Egypt, Arab Rep.', em_countries)\n",
    "em_countries = em_countries[~np.isin(em_countries, 'Taiwan')]\n",
    "\n",
    "country_mkt_cap = country_mkt_cap[em_countries]\n",
    "country_mkt_cap.index = pd.to_datetime(country_mkt_cap.index, format='%Y')\n",
    "country_mkt_cap = country_mkt_cap[(country_mkt_cap.index>='2015-01-01') & (country_mkt_cap.index<=end_date)]\n",
    "country_mkt_cap.rename(columns={'Korea, Rep.': 'Korea', 'Russian Federation': 'Russia', 'Egypt, Arab Rep.': 'Egypt'}, inplace=True)\n",
    "country_mkt_cap = country_mkt_cap.fillna(method='ffill')\n",
    "country_mkt_cap = country_mkt_cap.append(country_mkt_cap.iloc[-1])\n",
    "country_mkt_cap.index = pd.date_range('2015', '2022', freq='Y')\n",
    "\n",
    "# Make market cap df to be in weekly\n",
    "new_df = pd.DataFrame(index=equity_rets_w.index)\n",
    "def merge_by_year(df):\n",
    "    df['year'] = list(df.index.year)\n",
    "    return df\n",
    "\n",
    "country_mkt_cap = merge_by_year(new_df).merge(merge_by_year(country_mkt_cap), on=['year'])\n",
    "country_mkt_cap.index = equity_rets_w.index\n",
    "del country_mkt_cap['year']"
   ]
  },
  {
   "cell_type": "markdown",
   "metadata": {},
   "source": [
    "## Market ETF"
   ]
  },
  {
   "cell_type": "code",
   "execution_count": null,
   "metadata": {},
   "outputs": [],
   "source": [
    "# Market portfolio: Uses iShares MSCI EM ETF\n",
    "market_etfs = pd.read_csv(INPUT_DIR + 'etf_msci_em_agg_indices.csv',skiprows=5, index_col=0)\n",
    "market_etfs.columns = ['EEM ETF', 'MSCI EM']\n",
    "market_etfs.index = pd.to_datetime(market_etfs.index)\n",
    "\n",
    "# Market portfolio returns\n",
    "market_rets_w = market_etfs.resample('W').last()\n",
    "market_rets_w = np.log(market_rets_w).diff()\n",
    "market_rets_w = market_rets_w.dropna()\n",
    "\n",
    "market_rets_w = market_rets_w[(market_rets_w.index>=start_date) & (market_rets_w.index<=end_date)]\n",
    "market_rets_w['EEM_cum_rets'] = np.exp(market_rets_w['EEM ETF'].cumsum())-1"
   ]
  },
  {
   "cell_type": "code",
   "execution_count": null,
   "metadata": {},
   "outputs": [],
   "source": [
    "market_rets_w.to_pickle('../Outputs/equity/equity_EM_agg_market_returns.pkl')"
   ]
  },
  {
   "cell_type": "markdown",
   "metadata": {},
   "source": [
    "## Country PE Ratios"
   ]
  },
  {
   "cell_type": "code",
   "execution_count": null,
   "metadata": {},
   "outputs": [],
   "source": [
    "# Load country PE ratios\n",
    "country_pe = pd.read_csv(MACRO_DIR + 'world_PEratio.csv', skiprows=51)\n",
    "country_pe_match = pd.read_csv(MACRO_DIR + 'world_PEratio.csv', nrows=50)\n",
    "country_pe_match = country_pe_match[['Ticker', 'Country']]\n",
    "country_pe_dict = country_pe_match.set_index('Ticker')['Country'].to_dict()\n",
    "country_pe_dict = {k+'_Close': v for k, v in country_pe_dict.items()}\n",
    "\n",
    "country_pe.index = country_pe['Date']\n",
    "del country_pe['Date']\n",
    "\n",
    "# Rename columns\n",
    "country_pe.rename(country_pe_dict, axis=1, inplace=True)\n",
    "em_countries_new = list(np.where(em_countries=='Korea, Rep.', 'Korea, Republic Of', em_countries))\n",
    "for country in ['United Arab Emirates', 'Saudi Arabia', 'Egypt, Arab Rep.', 'Pakistan', 'Qatar']:\n",
    "    em_countries_new.remove(country)\n",
    "country_pe = country_pe[em_countries_new]\n",
    "country_pe.rename(columns={'Korea, Republic Of': 'Korea', 'Russian Federation': 'Russia'}, inplace=True)\n",
    "\n",
    "country_pe.index = pd.to_datetime(country_pe.index)\n",
    "country_pe = country_pe[(country_pe.index>=start_date) & (country_pe.index<=end_date)]\n",
    "# Fillna's with previous values\n",
    "country_pe = country_pe.fillna(method='ffill')\n",
    "\n",
    "# Convert to weekly\n",
    "new_df = pd.DataFrame(index=equity_rets_w.index)\n",
    "def merge_by_year_month(df):\n",
    "    df['year'] = list(df.index.year)\n",
    "    df['month'] = list(df.index.month)\n",
    "    return df\n",
    "\n",
    "country_pe = merge_by_year_month(new_df).merge(merge_by_year_month(country_pe), on=['year', 'month'])\n",
    "country_pe.index = equity_rets_w.index\n",
    "del country_pe['year']\n",
    "del country_pe['month']"
   ]
  },
  {
   "cell_type": "markdown",
   "metadata": {},
   "source": [
    "## FF"
   ]
  },
  {
   "cell_type": "code",
   "execution_count": null,
   "metadata": {},
   "outputs": [],
   "source": [
    "ff5 = pdr.famafrench.FamaFrenchReader('Emerging_5_Factors',start = '2000-01-01').read()[0]\n",
    "ff_mom = pdr.famafrench.FamaFrenchReader('Emerging_MOM_Factor',start = '2000-01-01').read()[0]\n",
    "ff6 = pd.concat([ff5,ff_mom],axis=1)\n",
    "ff6['Date'] = ff6.index\n",
    "ff6.index = pd.to_datetime(ff6['Date'].dt.to_timestamp('s').dt.strftime('%Y-%m-%d'))\n",
    "del ff6['Date']"
   ]
  },
  {
   "cell_type": "code",
   "execution_count": null,
   "metadata": {},
   "outputs": [],
   "source": [
    "ff6 = ff6[(ff6.index>='2015-09-01') & (ff6.index<=end_date)]\n",
    "#ff6_rf = np.log(ff6[['RF']]/100*12/52+1)\n",
    "ff6_rf = np.log((1+ff6[['RF']]/100)**(1/52))\n",
    "ff6 = ff6[['SMB', 'HML', 'WML', 'Mkt-RF']]\n",
    "ff6 = np.log(ff6/100+1)"
   ]
  },
  {
   "cell_type": "markdown",
   "metadata": {},
   "source": [
    "## Equity Clusters"
   ]
  },
  {
   "cell_type": "code",
   "execution_count": null,
   "metadata": {},
   "outputs": [],
   "source": [
    "equity_clusters = pd.read_pickle(OUTPUT_DIR + 'clusters_equity_etf_full.pkl')\n",
    "equity_clusters = equity_clusters.groupby('cluster_label')['Countries'].apply(list).reset_index()"
   ]
  },
  {
   "cell_type": "markdown",
   "metadata": {},
   "source": [
    "# Purpose of the Notebook\n",
    "**Part I: Country Factor Portfolios**\n",
    "1. Construct country factor\n",
    "2. Construct portfolios from country-level factors\n",
    "3. Backtest and construct performance metrics\n",
    "\n",
    "**Part II: Cluster Factor Portfolios**\n"
   ]
  },
  {
   "cell_type": "markdown",
   "metadata": {},
   "source": [
    "# Part I: Country Factor Portfolios\n",
    "## 1. Construct country factors\n",
    "### Small cap portfolio\n",
    "- Use country_mkt_cap as proxy for low capitalization countries.\n",
    "\n",
    "### Value portfolio\n",
    "- Use country_pe as proxy for value. This df contains PE ratios by country index."
   ]
  },
  {
   "cell_type": "markdown",
   "metadata": {},
   "source": [
    "### Momentum portfolio\n",
    "- Calculate every week the cumulative trailing weekly returns for $t$-2 to $t$-52 and form three portfolios containing in equal numbers the highest, medium, and lowest momentum countries."
   ]
  },
  {
   "cell_type": "code",
   "execution_count": null,
   "metadata": {},
   "outputs": [],
   "source": [
    "def calc_momentum_ret(df, window=52):\n",
    "    '''\n",
    "    Takes input a dataframe, containing weekly equity etf returns, and finds cumulative returns for trailing year\n",
    "    + Input: df: equity_rets_w\n",
    "    + Output: mom_df\n",
    "    '''\n",
    "    rolling_sum = df.rolling(window, closed='left').sum().dropna()\n",
    "    rolling_ret_mom = np.exp(rolling_sum) - 1\n",
    "    \n",
    "    return rolling_ret_mom"
   ]
  },
  {
   "cell_type": "code",
   "execution_count": null,
   "metadata": {},
   "outputs": [],
   "source": [
    "mom_df = calc_momentum_ret(equity_rets_w)"
   ]
  },
  {
   "cell_type": "markdown",
   "metadata": {},
   "source": [
    "### Beta portfolio\n",
    "* Calculate every week the country beta against the ETF EM index (EEM) using a rolling sample of 52 weekly observations and create portfolios of lowest beta countries."
   ]
  },
  {
   "cell_type": "code",
   "execution_count": null,
   "metadata": {},
   "outputs": [],
   "source": [
    "def calc_beta_ret(df, market_port_ret, window=52):\n",
    "    # Find country beta's through rolling regression\n",
    "    y = market_port_ret\n",
    "    rolling_betas = {}\n",
    "    for c in df.columns:\n",
    "        X = sm.add_constant(df[c])\n",
    "        model = RollingOLS(y, X, window)\n",
    "        rolling_res = model.fit(params_only=True)\n",
    "        rolling_betas[c] = rolling_res.params.dropna()\n",
    "    \n",
    "    # Put all beta's for every country and every date in a dataframe\n",
    "    out_df = pd.DataFrame()\n",
    "    for key, value in rolling_betas.items():\n",
    "        col = pd.DataFrame(value[key])\n",
    "        if out_df.empty:\n",
    "            out_df = out_df.append(col)\n",
    "        else:\n",
    "            out_df = pd.concat([out_df, col], axis=1)\n",
    "    \n",
    "    return out_df"
   ]
  },
  {
   "cell_type": "code",
   "execution_count": null,
   "metadata": {},
   "outputs": [],
   "source": [
    "beta_df = calc_beta_ret(equity_rets_w, market_rets_w['EEM ETF'])"
   ]
  },
  {
   "cell_type": "markdown",
   "metadata": {},
   "source": [
    "## 2. Construct portfolios from country-level factors"
   ]
  },
  {
   "cell_type": "code",
   "execution_count": null,
   "metadata": {},
   "outputs": [],
   "source": [
    "def construct_factor(df_factor_measure, df_return_all, ascending):\n",
    "    '''\n",
    "    + Inputs: df_factor_measure is the factor df; df_return_all is the returns df\n",
    "    + Outputs: df_factor_ret is the returns on the factor portfolio; df_port is the long-short positions\n",
    "    '''\n",
    "    \n",
    "    df_rank = df_factor_measure.rank(axis=1, ascending=ascending, pct=True)\n",
    "\n",
    "    df_pos = df_rank.applymap(lambda x:1 if x <= 1/3 else 0)\n",
    "    df_neg = df_rank.applymap(lambda x:-1 if x > 2/3 else 0)\n",
    "    \n",
    "    df_return = df_return_all.loc[df_factor_measure.index, df_factor_measure.columns]\n",
    "\n",
    "    df_pos_ret_country = df_pos.multiply(df_return).div(df_pos.sum(axis=1), axis=0)\n",
    "    df_pos_ret = df_pos_ret_country.sum(axis=1)\n",
    "    \n",
    "    df_neg_ret_country = df_neg.multiply(df_return).div(-df_neg.sum(axis=1), axis=0)\n",
    "    df_neg_ret = df_neg_ret_country.sum(axis=1)\n",
    "    \n",
    "    df_factor_ret = df_pos_ret + df_neg_ret\n",
    "    df_port = df_pos + df_neg\n",
    "    \n",
    "    #df_factor_cum_ret = np.exp(df_factor_ret.cumsum()) - 1\n",
    "    \n",
    "    return df_factor_ret, df_port"
   ]
  },
  {
   "cell_type": "code",
   "execution_count": null,
   "metadata": {},
   "outputs": [],
   "source": [
    "small_cap_ret, small_cap_port = construct_factor(country_mkt_cap, equity_rets_w, ascending=False)\n",
    "value_ret, value_port = construct_factor(country_pe, equity_rets_w, ascending=False)\n",
    "mom_ret, mom_port = construct_factor(mom_df, equity_rets_w, ascending=True)\n",
    "low_beta_ret, low_beta_port = construct_factor(beta_df, equity_rets_w, ascending=False)"
   ]
  },
  {
   "cell_type": "code",
   "execution_count": null,
   "metadata": {},
   "outputs": [],
   "source": [
    "# Excess market returns\n",
    "# Convert to weekly\n",
    "new_df_w = pd.DataFrame(index=market_rets_w.index)\n",
    "ff6_rf = merge_by_year_month(new_df_w).merge(merge_by_year_month(ff6_rf), on=['year', 'month'])\n",
    "ff6_rf.index = pd.date_range('2015-09-27', '2021-01', freq='W')\n",
    "del ff6_rf['year']\n",
    "del ff6_rf['month']\n",
    "\n",
    "jan2021 = pd.DataFrame(index=new_df_w.index[-5:])\n",
    "jan2021['RF'] = ff6_rf['RF'].iloc[-1]\n",
    "ff6_rf = ff6_rf.append(jan2021)\n",
    "market_rets_w['EEM ETF-RF'] = market_rets_w['EEM ETF'] - ff6_rf['RF']"
   ]
  },
  {
   "cell_type": "code",
   "execution_count": null,
   "metadata": {},
   "outputs": [],
   "source": [
    "# Create a single df of all returns\n",
    "all_port_rets = pd.concat([small_cap_ret, value_ret, mom_ret, low_beta_ret, market_rets_w['EEM ETF-RF'],ff6_rf['RF']], axis=1)\n",
    "all_port_rets.columns = ['size', 'value', 'momentum', 'low_beta', 'market-rf','rf']\n",
    "all_port_rets.to_pickle('../Outputs/equity/equity_country_factors_rf.pkl')"
   ]
  },
  {
   "cell_type": "code",
   "execution_count": null,
   "metadata": {},
   "outputs": [],
   "source": [
    "# Create a single df of all returns\n",
    "all_port_rets = pd.concat([small_cap_ret, value_ret, mom_ret, low_beta_ret, market_rets_w['EEM ETF-RF']], axis=1)\n",
    "all_port_rets.columns = ['size', 'value', 'momentum', 'low_beta', 'market-rf']"
   ]
  },
  {
   "cell_type": "markdown",
   "metadata": {},
   "source": [
    "## 3. Performance"
   ]
  },
  {
   "cell_type": "code",
   "execution_count": null,
   "metadata": {},
   "outputs": [],
   "source": [
    "# Calculate cumulative returns\n",
    "def calc_cum_returns(df, log_ret = True):\n",
    "    '''\n",
    "    Computes cumulative returns either from simple returns or log returns\n",
    "    + Input: df dataframe containing return series\n",
    "    '''\n",
    "    if log_ret == False:\n",
    "        df = np.log(df + 1)\n",
    "    \n",
    "    df_ = df.copy()\n",
    "    df_ = df_.dropna()\n",
    "    df_ = np.exp(df_.cumsum()) - 1\n",
    "    df_.columns = df_.columns.map(lambda x : x+'_cum_ret')\n",
    "    return df_\n",
    "\n",
    "# Generate performance assessment statistics\n",
    "def calc_performance(rets_series, log_ret = True, time = 52):\n",
    "    '''\n",
    "    Generates performance metrics for portfolio or market\n",
    "    + Input: return series (in log returns)\n",
    "    + Output: mean annualized returns, SR, volatility\n",
    "    '''\n",
    "    if log_ret == False:\n",
    "        rets_series = np.log(rets_series + 1)\n",
    "    \n",
    "    perf_df = pd.DataFrame(rets_series)\n",
    "    perf_df.columns = ['returns']\n",
    "    \n",
    "    # Compute mean return, annualized\n",
    "    def calc_mean_return(df, column):\n",
    "        mean_log_return = np.mean(df[column]) * time\n",
    "        # Convert back to simple returns\n",
    "        mean_return_annualized = np.exp(mean_log_return) - 1\n",
    "        return mean_return_annualized\n",
    "    \n",
    "    # Compute volatility, annualized\n",
    "    def calc_vol(df, column):\n",
    "        simple_returns = np.exp(df[column]) - 1\n",
    "        std_annualized = simple_returns.std() * np.sqrt(time)\n",
    "        return std_annualized\n",
    "    \n",
    "    # Compute SR, annualized\n",
    "    def calc_sharpe_ratio(df, column):\n",
    "        mean_ret = calc_mean_return(df, column)\n",
    "        std_ = calc_vol(df, column)\n",
    "        sr_annualized = mean_ret/std_\n",
    "        return sr_annualized\n",
    "    \n",
    "    # Compute skewness and kurtosis\n",
    "    def calc_skewness_kurtosis(df, column):\n",
    "        skewness = df[column].skew()\n",
    "        kurtosis = df[column].kurtosis()\n",
    "        return skewness, kurtosis\n",
    "\n",
    "    # Compute max drawdown \n",
    "    def calc_max_drawdown(df, column):\n",
    "        # Calculate using simple returns\n",
    "        returns = np.exp(df[column])-1\n",
    "        cum_returns = (1 + returns).cumprod()\n",
    "        drawdown = 1 - cum_returns.div(cum_returns.cummax())\n",
    "        max_drawdown = np.max(drawdown.expanding().max())\n",
    "        max_drawdown_date = (drawdown.expanding().max().idxmax()).strftime('%Y-%m-%d')\n",
    "        return max_drawdown, max_drawdown_date\n",
    "    \n",
    "    # Compute all metrics for portfolio\n",
    "    mean_return_ann = calc_mean_return(perf_df, 'returns')\n",
    "    std_ann = calc_vol(perf_df, 'returns')\n",
    "    sr_ann = calc_sharpe_ratio(perf_df, 'returns')\n",
    "    skewness, kurtosis = calc_skewness_kurtosis(perf_df, 'returns')\n",
    "    max_drawdown, max_drawdown_date = calc_max_drawdown(perf_df, 'returns')\n",
    "    \n",
    "    all_ = [round(mean_return_ann*100,2), round(std_ann*100,2), round(sr_ann, 2), \\\n",
    "            round(skewness, 2), round(kurtosis, 2), round(max_drawdown*100, 2), max_drawdown_date]\n",
    "    \n",
    "    return all_\n",
    "\n",
    "def plot_corr(factor_returns_df, title):\n",
    "    '''\n",
    "    Takes in factor returns dataframe and outputs factor correlations matrix\n",
    "    '''\n",
    "    # Construct correlation matrix \n",
    "    corr = factor_returns_df.corr()\n",
    "    mask = np.triu(np.ones_like(corr, dtype=bool))\n",
    "    sns.heatmap(corr, mask = mask, annot = True, vmin=-1, vmax=1, center= 0, cmap= 'coolwarm')\n",
    "    plt.title(title)\n",
    "    plt.show()\n",
    "\n",
    "\n",
    "# Generate graphs of returns\n",
    "def plot_perf(perf, perf_bm, label, title):\n",
    "    fig, ax = plt.subplots(nrows=1, figsize=(12,6))\n",
    "    if type(perf) is not list:\n",
    "        perf = [perf]\n",
    "        label = [label]\n",
    "    for i in range(len(perf)):\n",
    "        ax.plot(perf[i], linewidth=1, label=label[i])\n",
    "    ax.plot(perf_bm, linewidth=1, linestyle='--', c='black', label='Market-RF')\n",
    "    ax.set_ylabel('Cumulative Returns')\n",
    "    ax.set_title(title)\n",
    "    ax.legend()"
   ]
  },
  {
   "cell_type": "markdown",
   "metadata": {},
   "source": [
    "## Country Factor Portfolio Returns"
   ]
  },
  {
   "cell_type": "code",
   "execution_count": null,
   "metadata": {},
   "outputs": [],
   "source": [
    "all_port_cum_ret_df = calc_cum_returns(all_port_rets)\n",
    "\n",
    "# Plot cumulative returns\n",
    "plot_perf(perf=[all_port_cum_ret_df[x] for x in list(all_port_cum_ret_df.columns.values)[:-1]], \\\n",
    "          perf_bm=all_port_cum_ret_df['market-rf_cum_ret'], label=['Size', 'Value', 'MOM', 'Low Beta'], \\\n",
    "          title='Country Factor Portfolio Cumulative Returns')"
   ]
  },
  {
   "cell_type": "code",
   "execution_count": null,
   "metadata": {},
   "outputs": [],
   "source": [
    "all_perf = []\n",
    "for col in all_port_rets.columns:\n",
    "    perf_ = calc_performance(all_port_rets[col])\n",
    "    all_perf.append(perf_)\n",
    "\n",
    "perf_df = pd.DataFrame(all_perf, columns = ['Mean Return Ann. (%)', 'Std Ann. (%)', 'Sharpe Ratio Ann.', 'Skewness', 'Kurtosis', 'Max Drawdown (%)', 'Max Drawdown Date'], \\\n",
    "                       index = ['Size', 'Value', 'MOM', 'Low Beta', 'Market-RF'])\n",
    "perf_df"
   ]
  },
  {
   "cell_type": "code",
   "execution_count": null,
   "metadata": {},
   "outputs": [],
   "source": [
    "# Correlations of country factors\n",
    "corr_country_df = plot_corr(all_port_rets, 'Country Factors')\n",
    "corr_country_df"
   ]
  },
  {
   "cell_type": "markdown",
   "metadata": {},
   "source": [
    "## FF Factor Portfolio Returns"
   ]
  },
  {
   "cell_type": "code",
   "execution_count": 24,
   "metadata": {},
   "outputs": [
    {
     "data": {
      "image/png": "[encoded data removed]",
      "text/plain": [
       "<Figure size 864x432 with 1 Axes>"
      ]
     },
     "metadata": {
      "needs_background": "light"
     },
     "output_type": "display_data"
    }
   ],
   "source": [
    "first_date = all_port_cum_ret_df.index[0]\n",
    "ff6_ = ff6[ff6.index>=first_date]\n",
    "all_ff_cum_ret_df = calc_cum_returns(ff6)\n",
    "\n",
    "# Plot cumulative returns\n",
    "plot_perf(perf=[all_ff_cum_ret_df[x] for x in list(all_ff_cum_ret_df.columns.values)[:-1]], \\\n",
    "          perf_bm=all_ff_cum_ret_df['Mkt-RF_cum_ret'], label=list(ff6.columns.values)[:-1], \\\n",
    "          title='FF Factor Portfolio Returns')"
   ]
  },
  {
   "cell_type": "code",
   "execution_count": 25,
   "metadata": {},
   "outputs": [
    {
     "data": {
      "text/html": [
       "<div>\n",
       "<style scoped>\n",
       "    .dataframe tbody tr th:only-of-type {\n",
       "        vertical-align: middle;\n",
       "    }\n",
       "\n",
       "    .dataframe tbody tr th {\n",
       "        vertical-align: top;\n",
       "    }\n",
       "\n",
       "    .dataframe thead th {\n",
       "        text-align: right;\n",
       "    }\n",
       "</style>\n",
       "<table border=\"1\" class=\"dataframe\">\n",
       "  <thead>\n",
       "    <tr style=\"text-align: right;\">\n",
       "      <th></th>\n",
       "      <th>Mean Return Ann. (%)</th>\n",
       "      <th>Std Ann. (%)</th>\n",
       "      <th>Sharpe Ratio Ann.</th>\n",
       "      <th>Skewness</th>\n",
       "      <th>Kurtosis</th>\n",
       "      <th>Max Drawdown (%)</th>\n",
       "      <th>Max Drawdown Date</th>\n",
       "    </tr>\n",
       "  </thead>\n",
       "  <tbody>\n",
       "    <tr>\n",
       "      <th>SMB</th>\n",
       "      <td>-3.79</td>\n",
       "      <td>4.87</td>\n",
       "      <td>-0.78</td>\n",
       "      <td>-0.15</td>\n",
       "      <td>-0.77</td>\n",
       "      <td>18.01</td>\n",
       "      <td>2020-03-01</td>\n",
       "    </tr>\n",
       "    <tr>\n",
       "      <th>HML</th>\n",
       "      <td>0.52</td>\n",
       "      <td>7.90</td>\n",
       "      <td>0.07</td>\n",
       "      <td>-0.01</td>\n",
       "      <td>1.53</td>\n",
       "      <td>19.52</td>\n",
       "      <td>2020-10-01</td>\n",
       "    </tr>\n",
       "    <tr>\n",
       "      <th>WML</th>\n",
       "      <td>12.25</td>\n",
       "      <td>7.80</td>\n",
       "      <td>1.57</td>\n",
       "      <td>-1.17</td>\n",
       "      <td>6.11</td>\n",
       "      <td>8.36</td>\n",
       "      <td>2020-11-01</td>\n",
       "    </tr>\n",
       "    <tr>\n",
       "      <th>Mkt-RF</th>\n",
       "      <td>9.36</td>\n",
       "      <td>17.45</td>\n",
       "      <td>0.54</td>\n",
       "      <td>-1.03</td>\n",
       "      <td>3.02</td>\n",
       "      <td>32.91</td>\n",
       "      <td>2020-03-01</td>\n",
       "    </tr>\n",
       "  </tbody>\n",
       "</table>\n",
       "</div>"
      ],
      "text/plain": [
       "        Mean Return Ann. (%)  Std Ann. (%)  Sharpe Ratio Ann.  Skewness  \\\n",
       "SMB                    -3.79          4.87              -0.78     -0.15   \n",
       "HML                     0.52          7.90               0.07     -0.01   \n",
       "WML                    12.25          7.80               1.57     -1.17   \n",
       "Mkt-RF                  9.36         17.45               0.54     -1.03   \n",
       "\n",
       "        Kurtosis  Max Drawdown (%) Max Drawdown Date  \n",
       "SMB        -0.77             18.01        2020-03-01  \n",
       "HML         1.53             19.52        2020-10-01  \n",
       "WML         6.11              8.36        2020-11-01  \n",
       "Mkt-RF      3.02             32.91        2020-03-01  "
      ]
     },
     "execution_count": 25,
     "metadata": {},
     "output_type": "execute_result"
    }
   ],
   "source": [
    "all_perf_ff = []\n",
    "for col in ff6_.columns:\n",
    "    perf_ff_ = calc_performance(ff6_[col], time = 12)\n",
    "    all_perf_ff.append(perf_ff_)\n",
    "\n",
    "perf_ff_df = pd.DataFrame(all_perf_ff, columns = ['Mean Return Ann. (%)', 'Std Ann. (%)', 'Sharpe Ratio Ann.', 'Skewness', 'Kurtosis', 'Max Drawdown (%)', 'Max Drawdown Date'], \\\n",
    "                       index = list(ff6_.columns.values))\n",
    "perf_ff_df"
   ]
  },
  {
   "cell_type": "code",
   "execution_count": 26,
   "metadata": {},
   "outputs": [
    {
     "data": {
      "image/png": "[encoded data removed]",
      "text/plain": [
       "<Figure size 432x288 with 2 Axes>"
      ]
     },
     "metadata": {
      "needs_background": "light"
     },
     "output_type": "display_data"
    }
   ],
   "source": [
    "# Correlations of ff factors\n",
    "corr_ff_df = plot_corr(ff6_, 'FF Factors')\n",
    "corr_ff_df"
   ]
  },
  {
   "cell_type": "markdown",
   "metadata": {},
   "source": [
    "## Output"
   ]
  },
  {
   "cell_type": "code",
   "execution_count": 27,
   "metadata": {},
   "outputs": [],
   "source": [
    "all_port_rets.to_pickle('../Outputs/equity/equity_country_factors.pkl')"
   ]
  },
  {
   "cell_type": "markdown",
   "metadata": {},
   "source": [
    "# Part II: Cluster Factor Portfolios\n",
    "Using clusters, construct size, value, momentum, and low beta factors, similar to the country-index approach above."
   ]
  },
  {
   "cell_type": "markdown",
   "metadata": {},
   "source": [
    "## 1. Construct cluster factor measures"
   ]
  },
  {
   "cell_type": "code",
   "execution_count": 28,
   "metadata": {},
   "outputs": [],
   "source": [
    "def calc_cluster_factor_measure(cluster_df, df_factor_measure):\n",
    "    '''\n",
    "    Takes country cluster df and country-level factor measures, and constructs cluster-level factor measures\n",
    "    '''\n",
    "    \n",
    "    # Take care of countries that appear in clustering but not in df_factor_measure due to data inavailability\n",
    "    country_level = list(df_factor_measure.columns)\n",
    "    all_countries = cluster_df['Countries'].tolist()\n",
    "    cluster_level = [item for items in all_countries for item in items]\n",
    "    extras = list(set(cluster_level) - set(country_level))\n",
    "    \n",
    "    factor_cluster_dict = {}\n",
    "    for cluster_num in list(cluster_df['cluster_label'].unique()):\n",
    "        \n",
    "        countries_selected = cluster_df[cluster_df['cluster_label']==cluster_num]['Countries'].iloc[0]\n",
    "        \n",
    "        # Check whether we have countries in 'extras', if yes remove those countries\n",
    "        to_remove = list(set(countries_selected).intersection(extras))\n",
    "        if to_remove:\n",
    "            countries_selected = [country for country in countries_selected if country not in to_remove]\n",
    "        \n",
    "        factor_clusters_df = df_factor_measure[countries_selected]\n",
    "        avg_cap = factor_clusters_df.mean(axis=1)\n",
    "        factor_cluster_dict['cluster_'+str(cluster_num)] = avg_cap\n",
    "    \n",
    "    cluster_factor_measure = pd.DataFrame(factor_cluster_dict)\n",
    "    \n",
    "    return cluster_factor_measure"
   ]
  },
  {
   "cell_type": "markdown",
   "metadata": {},
   "source": [
    "### Small cap portfolio\n",
    "- Use country_mkt_cap as proxy for low capitalization clusters. Value-weight countries within a cluster."
   ]
  },
  {
   "cell_type": "code",
   "execution_count": 29,
   "metadata": {},
   "outputs": [],
   "source": [
    "cluster_mkt_cap = calc_cluster_factor_measure(equity_clusters, country_mkt_cap)"
   ]
  },
  {
   "cell_type": "markdown",
   "metadata": {},
   "source": [
    "### Value portfolio\n",
    "- Use country_pe as proxy for value. This df contains PE ratios by country index."
   ]
  },
  {
   "cell_type": "code",
   "execution_count": 30,
   "metadata": {},
   "outputs": [],
   "source": [
    "cluster_pe_ratios = calc_cluster_factor_measure(equity_clusters, country_pe)"
   ]
  },
  {
   "cell_type": "markdown",
   "metadata": {},
   "source": [
    "### Momentum portfolio\n",
    "- Calculate every week the cumulative trailing weekly returns for $t$-2 to $t$-52."
   ]
  },
  {
   "cell_type": "code",
   "execution_count": 31,
   "metadata": {},
   "outputs": [],
   "source": [
    "avg_cluster_ret = calc_cluster_factor_measure(equity_clusters, equity_rets_w)"
   ]
  },
  {
   "cell_type": "code",
   "execution_count": 32,
   "metadata": {},
   "outputs": [],
   "source": [
    "cluster_mom_df = calc_momentum_ret(avg_cluster_ret)"
   ]
  },
  {
   "cell_type": "markdown",
   "metadata": {},
   "source": [
    "### Beta portfolio\n",
    "* Calculate every week the cluster-level beta against the ETF EM index (EEM) using a rolling sample of 52 weekly observations and create portfolios of lowest beta clusters."
   ]
  },
  {
   "cell_type": "code",
   "execution_count": 33,
   "metadata": {},
   "outputs": [],
   "source": [
    "cluster_beta_df = calc_beta_ret(avg_cluster_ret, market_rets_w['EEM ETF'])"
   ]
  },
  {
   "cell_type": "markdown",
   "metadata": {},
   "source": [
    "## 2. Construct portfolios from cluster-level factors"
   ]
  },
  {
   "cell_type": "code",
   "execution_count": 34,
   "metadata": {},
   "outputs": [],
   "source": [
    "cluster_size_ret, _ = construct_factor(cluster_mkt_cap, avg_cluster_ret, ascending=False)\n",
    "cluster_value_ret, _ = construct_factor(cluster_pe_ratios, avg_cluster_ret, ascending=False)\n",
    "cluster_mom_ret, _ = construct_factor(cluster_mom_df, avg_cluster_ret, ascending=True)\n",
    "cluster_low_beta_ret, _ = construct_factor(cluster_beta_df, avg_cluster_ret, ascending=False)"
   ]
  },
  {
   "cell_type": "code",
   "execution_count": 35,
   "metadata": {},
   "outputs": [],
   "source": [
    "# Create a single df of all returns\n",
    "all_cluster_rets = pd.concat([cluster_size_ret, cluster_value_ret, cluster_mom_ret, cluster_low_beta_ret, market_rets_w['EEM ETF-RF']], axis=1)\n",
    "all_cluster_rets.columns = ['size', 'value', 'momentum', 'low_beta', 'market-rf']"
   ]
  },
  {
   "cell_type": "markdown",
   "metadata": {},
   "source": [
    "## 3. Performance"
   ]
  },
  {
   "cell_type": "code",
   "execution_count": 36,
   "metadata": {},
   "outputs": [
    {
     "data": {
      "image/png": "[encoded data removed]",
      "text/plain": [
       "<Figure size 864x432 with 1 Axes>"
      ]
     },
     "metadata": {
      "needs_background": "light"
     },
     "output_type": "display_data"
    }
   ],
   "source": [
    "all_cluster_cum_ret_df = calc_cum_returns(all_cluster_rets)\n",
    "\n",
    "# Plot cumulative returns\n",
    "plot_perf(perf=[all_cluster_cum_ret_df[x] for x in list(all_cluster_cum_ret_df.columns.values)[:-1]], \\\n",
    "          perf_bm=all_cluster_cum_ret_df['market-rf_cum_ret'], label=['Size', 'Value', 'MOM', 'Low Beta'], \\\n",
    "          title='Cluster Factor Portfolio Cumulative Returns')"
   ]
  },
  {
   "cell_type": "code",
   "execution_count": 37,
   "metadata": {},
   "outputs": [
    {
     "data": {
      "text/html": [
       "<div>\n",
       "<style scoped>\n",
       "    .dataframe tbody tr th:only-of-type {\n",
       "        vertical-align: middle;\n",
       "    }\n",
       "\n",
       "    .dataframe tbody tr th {\n",
       "        vertical-align: top;\n",
       "    }\n",
       "\n",
       "    .dataframe thead th {\n",
       "        text-align: right;\n",
       "    }\n",
       "</style>\n",
       "<table border=\"1\" class=\"dataframe\">\n",
       "  <thead>\n",
       "    <tr style=\"text-align: right;\">\n",
       "      <th></th>\n",
       "      <th>Mean Return Ann. (%)</th>\n",
       "      <th>Std Ann. (%)</th>\n",
       "      <th>Sharpe Ratio Ann.</th>\n",
       "      <th>Skewness</th>\n",
       "      <th>Kurtosis</th>\n",
       "      <th>Max Drawdown (%)</th>\n",
       "      <th>Max Drawdown Date</th>\n",
       "    </tr>\n",
       "  </thead>\n",
       "  <tbody>\n",
       "    <tr>\n",
       "      <th>Size</th>\n",
       "      <td>4.90</td>\n",
       "      <td>18.01</td>\n",
       "      <td>0.27</td>\n",
       "      <td>0.50</td>\n",
       "      <td>1.92</td>\n",
       "      <td>24.70</td>\n",
       "      <td>2021-01-10</td>\n",
       "    </tr>\n",
       "    <tr>\n",
       "      <th>Value</th>\n",
       "      <td>11.42</td>\n",
       "      <td>28.23</td>\n",
       "      <td>0.40</td>\n",
       "      <td>0.59</td>\n",
       "      <td>4.25</td>\n",
       "      <td>27.46</td>\n",
       "      <td>2020-02-02</td>\n",
       "    </tr>\n",
       "    <tr>\n",
       "      <th>MOM</th>\n",
       "      <td>-0.01</td>\n",
       "      <td>26.40</td>\n",
       "      <td>-0.00</td>\n",
       "      <td>-0.70</td>\n",
       "      <td>7.09</td>\n",
       "      <td>42.90</td>\n",
       "      <td>2018-09-02</td>\n",
       "    </tr>\n",
       "    <tr>\n",
       "      <th>Low Beta</th>\n",
       "      <td>10.19</td>\n",
       "      <td>17.11</td>\n",
       "      <td>0.60</td>\n",
       "      <td>0.64</td>\n",
       "      <td>3.52</td>\n",
       "      <td>23.35</td>\n",
       "      <td>2021-01-03</td>\n",
       "    </tr>\n",
       "    <tr>\n",
       "      <th>Market-RF</th>\n",
       "      <td>8.72</td>\n",
       "      <td>20.40</td>\n",
       "      <td>0.43</td>\n",
       "      <td>-0.61</td>\n",
       "      <td>2.87</td>\n",
       "      <td>39.99</td>\n",
       "      <td>2020-03-22</td>\n",
       "    </tr>\n",
       "  </tbody>\n",
       "</table>\n",
       "</div>"
      ],
      "text/plain": [
       "           Mean Return Ann. (%)  Std Ann. (%)  Sharpe Ratio Ann.  Skewness  \\\n",
       "Size                       4.90         18.01               0.27      0.50   \n",
       "Value                     11.42         28.23               0.40      0.59   \n",
       "MOM                       -0.01         26.40              -0.00     -0.70   \n",
       "Low Beta                  10.19         17.11               0.60      0.64   \n",
       "Market-RF                  8.72         20.40               0.43     -0.61   \n",
       "\n",
       "           Kurtosis  Max Drawdown (%) Max Drawdown Date  \n",
       "Size           1.92             24.70        2021-01-10  \n",
       "Value          4.25             27.46        2020-02-02  \n",
       "MOM            7.09             42.90        2018-09-02  \n",
       "Low Beta       3.52             23.35        2021-01-03  \n",
       "Market-RF      2.87             39.99        2020-03-22  "
      ]
     },
     "execution_count": 37,
     "metadata": {},
     "output_type": "execute_result"
    }
   ],
   "source": [
    "all_cluster_perf = []\n",
    "for col in all_cluster_rets.columns:\n",
    "    perf_ = calc_performance(all_cluster_rets[col])\n",
    "    all_cluster_perf.append(perf_)\n",
    "\n",
    "cluster_perf_df = pd.DataFrame(all_cluster_perf, \\\n",
    "                               columns = ['Mean Return Ann. (%)', 'Std Ann. (%)', 'Sharpe Ratio Ann.', 'Skewness', 'Kurtosis', 'Max Drawdown (%)', 'Max Drawdown Date'], \n",
    "                                index = ['Size', 'Value', 'MOM', 'Low Beta', 'Market-RF'])\n",
    "cluster_perf_df"
   ]
  },
  {
   "cell_type": "code",
   "execution_count": 38,
   "metadata": {},
   "outputs": [
    {
     "data": {
      "image/png": "[encoded data removed]",
      "text/plain": [
       "<Figure size 432x288 with 2 Axes>"
      ]
     },
     "metadata": {
      "needs_background": "light"
     },
     "output_type": "display_data"
    }
   ],
   "source": [
    "# Correlations of cluster factors\n",
    "corr_cluster_df = plot_corr(all_cluster_rets, 'Cluster Factors')\n",
    "corr_cluster_df"
   ]
  },
  {
   "cell_type": "markdown",
   "metadata": {},
   "source": [
    "## Outputs"
   ]
  },
  {
   "cell_type": "code",
   "execution_count": 39,
   "metadata": {},
   "outputs": [],
   "source": [
    "all_cluster_rets.to_pickle('../Outputs/equity/equity_cluster_factors.pkl')"
   ]
  }
 ],
 "metadata": {
  "environment": {
   "name": "common-cpu.mnightly-2021-02-02-debian-10-test",
   "type": "gcloud",
   "uri": "gcr.io/deeplearning-platform-release/base-cpu:mnightly-2021-02-02-debian-10-test"
  },
  "kernelspec": {
   "display_name": "Python 3",
   "language": "python",
   "name": "python3"
  },
  "language_info": {
   "codemirror_mode": {
    "name": "ipython",
    "version": 3
   },
   "file_extension": ".py",
   "mimetype": "text/x-python",
   "name": "python",
   "nbconvert_exporter": "python",
   "pygments_lexer": "ipython3",
   "version": "3.7.9"
  }
 },
 "nbformat": 4,
 "nbformat_minor": 4
}
