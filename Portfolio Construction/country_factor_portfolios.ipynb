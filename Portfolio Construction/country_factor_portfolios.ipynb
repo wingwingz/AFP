{
 "cells": [
  {
   "cell_type": "code",
   "execution_count": 1,
   "metadata": {},
   "outputs": [],
   "source": [
    "import pandas as pd\n",
    "import pandas_datareader as pdr\n",
    "import numpy as np\n",
    "import matplotlib.pyplot as plt\n",
    "import matplotlib\n",
    "import statsmodels.api as sm\n",
    "from statsmodels.regression.rolling import RollingOLS\n",
    "import datetime\n",
    "\n",
    "matplotlib.style.use('ggplot')"
   ]
  },
  {
   "cell_type": "code",
   "execution_count": 2,
   "metadata": {},
   "outputs": [],
   "source": [
    "# Directories\n",
    "OUTPUT_DIR = '../Outputs/country_clusters/'\n",
    "INPUT_DIR = '../Data/country_data/'"
   ]
  },
  {
   "cell_type": "code",
   "execution_count": 3,
   "metadata": {},
   "outputs": [],
   "source": [
    "# Load ETF returns for Equities\n",
    "equity_etfs = pd.read_csv(INPUT_DIR + 'ETF_adj_close.csv', index_col=0)\n",
    "equity_etfs.index = pd.to_datetime(equity_etfs.index)\n",
    "\n",
    "equity_etfs_w = equity_etfs.resample('W').last()\n",
    "equity_rets_w = np.log(equity_etfs_w).diff()\n",
    "equity_rets_w = equity_rets_w.dropna()"
   ]
  },
  {
   "cell_type": "code",
   "execution_count": 4,
   "metadata": {},
   "outputs": [],
   "source": [
    "# Load market cap data for countries\n",
    "country_mkt_cap = pd.read_csv(INPUT_DIR + 'country_market_caps.csv',skiprows=4)\n",
    "country_mkt_cap = country_mkt_cap[country_mkt_cap.columns[~country_mkt_cap.columns.isin(['Country Code', 'Indicator Name', 'Indicator Code'])]]\n",
    "country_mkt_cap = country_mkt_cap.T.rename_axis('Year')\n",
    "country_mkt_cap = country_mkt_cap.rename(columns=country_mkt_cap.iloc[0]).drop(country_mkt_cap.index[0])\n",
    "\n",
    "# Only select countries in EM universe\n",
    "# Remove Taiwan since it doesn't exist in the market cap data; change names for Korea, Russia, Egypt for better search\n",
    "em_countries = equity_rets_w.columns.values\n",
    "em_countries = np.where(em_countries=='Korea', 'Korea, Rep.', em_countries) \n",
    "em_countries = np.where(em_countries=='Russia', 'Russian Federation', em_countries) \n",
    "em_countries = np.where(em_countries=='Egypt', 'Egypt, Arab Rep.', em_countries)\n",
    "em_countries = em_countries[~np.isin(em_countries, 'Taiwan')]\n",
    "\n",
    "start_year = 2015\n",
    "country_mkt_cap = country_mkt_cap[em_countries]\n",
    "country_mkt_cap.index = pd.to_numeric(country_mkt_cap.index)\n",
    "country_mkt_cap = country_mkt_cap[country_mkt_cap.index>=start_year]\n",
    "country_mkt_cap.rename(columns={'Korea, Rep.': 'Korea', 'Russian Federation': 'Russia', 'Egypt, Arab Rep.': 'Egypt'}, inplace=True)"
   ]
  },
  {
   "cell_type": "code",
   "execution_count": 5,
   "metadata": {},
   "outputs": [],
   "source": [
    "# Market portfolio: Uses iShares MSCI EM ETF\n",
    "market_etfs = pd.read_csv(INPUT_DIR + 'etf_msci_em_agg_indices.csv',skiprows=5, index_col=0)\n",
    "market_etfs.columns = ['EEM ETF', 'MSCI EM']\n",
    "market_etfs.index = pd.to_datetime(market_etfs.index)\n",
    "\n",
    "# Market portfolio returns\n",
    "market_rets_w = market_etfs.resample('W').last()\n",
    "market_rets_w = np.log(market_rets_w).diff()\n",
    "market_rets_w = market_rets_w.dropna()\n",
    "\n",
    "# Filter by year\n",
    "start_date = '2015-09-27'\n",
    "end_date = '2021-01-31'\n",
    "market_rets_w = market_rets_w[(market_rets_w.index>=start_date) & (market_rets_w.index<=end_date)]\n",
    "market_rets_w['EEM_cum_rets'] = np.exp(market_rets_w['EEM ETF'].cumsum())-1"
   ]
  },
  {
   "cell_type": "code",
   "execution_count": null,
   "metadata": {},
   "outputs": [],
   "source": [
    "# Load PE ratios\n"
   ]
  },
  {
   "cell_type": "markdown",
   "metadata": {},
   "source": [
    "# Purpose of the Notebook\n",
    "1. Construct country factor portfolios\n",
    "2. Construct different weighting schemes\n",
    "3. Backtest and construct performance metrics"
   ]
  },
  {
   "cell_type": "markdown",
   "metadata": {},
   "source": [
    "# 1. Construct country factor portfolios"
   ]
  },
  {
   "cell_type": "markdown",
   "metadata": {},
   "source": [
    "## Small cap portfolio\n",
    "Small cap portfolio contains a third of all countries with the lowest capitalization and uses a 12-months rebalancing rule."
   ]
  },
  {
   "cell_type": "code",
   "execution_count": 6,
   "metadata": {},
   "outputs": [],
   "source": [
    "def calc_small_cap(df):\n",
    "    '''\n",
    "    Takes input a dataframe and computes small cap countries by year\n",
    "    + Input: df\n",
    "    + Output: small_cap_df: a df containing list of small cap EM countries by year\n",
    "    '''\n",
    "    small_cap_dict = {}\n",
    "    num_countries = int(len(df.columns)/3)\n",
    "    \n",
    "    for year in df.index.values:\n",
    "        new_df = df[df.index==year]\n",
    "        new_df = new_df.apply(pd.to_numeric)\n",
    "        new_dfT = new_df.T\n",
    "        new_dfT.columns = ['Market Cap']\n",
    "        smallest_market_cap = new_dfT.nsmallest(num_countries, 'Market Cap')\n",
    "        \n",
    "        # Store\n",
    "        if smallest_market_cap.empty:\n",
    "            small_cap_dict[year] = small_cap_dict[year-1]\n",
    "        else:\n",
    "            small_cap_dict[year] = list(smallest_market_cap.index.values)\n",
    "        \n",
    "    # Convert dictionary to dataframe\n",
    "    small_cap_df = pd.DataFrame(small_cap_dict.items(), columns = ['Date', 'DateValue'])\n",
    "    small_cap_df.index = pd.to_datetime(small_cap_df.Date, format='%Y')\n",
    "    del small_cap_df['Date']\n",
    "    \n",
    "    return small_cap_df"
   ]
  },
  {
   "cell_type": "code",
   "execution_count": 7,
   "metadata": {},
   "outputs": [],
   "source": [
    "small_cap_df = calc_small_cap(country_mkt_cap)"
   ]
  },
  {
   "cell_type": "markdown",
   "metadata": {},
   "source": [
    "## Momentum portfolio\n",
    "We calculate every week the cumulative trailing weekly returns for $t$-2 to $t$-52 and form three portfolios containing in equal numbers the highest, medium, and lowest momentum countries."
   ]
  },
  {
   "cell_type": "code",
   "execution_count": 8,
   "metadata": {},
   "outputs": [],
   "source": [
    "def calc_momentum(df, window=52):\n",
    "    rolling_sum = df.rolling(window).sum().dropna()\n",
    "    rolling_ret_mom = np.exp(rolling_sum) - 1\n",
    "    num_countries = int(len(df.columns)/3)\n",
    "    \n",
    "    mom_df = rolling_ret_mom.apply(lambda x: pd.Series(x.nlargest(num_countries).index), axis=1)\n",
    "    # Convert columns to list\n",
    "    mom_df['countries'] = mom_df[mom_df.columns].values.tolist()\n",
    "    mom_df = mom_df[['countries']]\n",
    "    \n",
    "    return mom_df"
   ]
  },
  {
   "cell_type": "code",
   "execution_count": 9,
   "metadata": {},
   "outputs": [],
   "source": [
    "mom_df = calc_momentum(equity_rets_w)"
   ]
  },
  {
   "cell_type": "markdown",
   "metadata": {},
   "source": [
    "## Low Country Beta portfolio\n",
    "We estimate every week the country beta against the ETF EM index (EEM) using a rolling sample of 52 weekly observations and create portfolios of lowest beta countries."
   ]
  },
  {
   "cell_type": "code",
   "execution_count": 10,
   "metadata": {},
   "outputs": [],
   "source": [
    "def calc_country_beta(df, market_port_ret, window=52):\n",
    "    # Find country beta's through rolling regression\n",
    "    y = market_port_ret\n",
    "    rolling_betas = {}\n",
    "    for c in df.columns:\n",
    "        X = sm.add_constant(df[c])\n",
    "        model = RollingOLS(y, X, window)\n",
    "        rolling_res = model.fit(params_only=True)\n",
    "        rolling_betas[c] = rolling_res.params.dropna()\n",
    "    \n",
    "    # Put all beta's for every country and every date in a dataframe\n",
    "    out_df = pd.DataFrame()\n",
    "    for key, value in rolling_betas.items():\n",
    "        col = pd.DataFrame(value[key])\n",
    "        if out_df.empty:\n",
    "            out_df = out_df.append(col)\n",
    "        else:\n",
    "            out_df = pd.concat([out_df, col], axis=1)\n",
    "        \n",
    "    # Sort for lowest betas\n",
    "    num_countries = int(len(df.columns)/3)\n",
    "    low_beta_df = out_df.apply(lambda x: pd.Series(x.nlargest(num_countries).index), axis=1)\n",
    "    # Convert columns to list\n",
    "    low_beta_df['countries'] = low_beta_df[low_beta_df.columns].values.tolist()\n",
    "    low_beta_df = low_beta_df[['countries']]\n",
    "        \n",
    "    return low_beta_df"
   ]
  },
  {
   "cell_type": "code",
   "execution_count": 11,
   "metadata": {},
   "outputs": [],
   "source": [
    "low_beta_df = calc_country_beta(equity_rets_w, market_rets_w['EEM ETF'])"
   ]
  },
  {
   "cell_type": "markdown",
   "metadata": {},
   "source": [
    "## Value portfolio"
   ]
  },
  {
   "cell_type": "code",
   "execution_count": null,
   "metadata": {},
   "outputs": [],
   "source": []
  },
  {
   "cell_type": "code",
   "execution_count": null,
   "metadata": {},
   "outputs": [],
   "source": []
  },
  {
   "cell_type": "markdown",
   "metadata": {},
   "source": [
    "# 2. Construct weighting methodologies\n",
    "* Equal weighting (EW)\n",
    "* Inverse variance (IV)\n",
    "* Minimum variance (MinVar)"
   ]
  },
  {
   "cell_type": "markdown",
   "metadata": {},
   "source": [
    "## Equal Weighting (EW)-Size only"
   ]
  },
  {
   "cell_type": "code",
   "execution_count": 12,
   "metadata": {},
   "outputs": [],
   "source": [
    "# Equal weighting\n",
    "def calc_EW(ret_df, country_factor_df, month = 9, day = 1):\n",
    "    out_df = pd.DataFrame()\n",
    "    for idx, year in enumerate(list(country_factor_df.index.year)):\n",
    "        # Countries to include in portfolio        \n",
    "        port_countries = country_factor_df[country_factor_df.index.year==year].iloc[0][0]\n",
    "        ret_port = ret_df[port_countries]\n",
    "        \n",
    "        # Subset return data for next 12 months (Sep-Sep of each year)\n",
    "        if idx == 0:\n",
    "            start = datetime.datetime(year, month, day)\n",
    "        else:\n",
    "            start = end\n",
    "        end = datetime.datetime(year+1, month+1, day)\n",
    "        ret_port = ret_port[(ret_port.index >= start) & (ret_port.index <= end)]\n",
    "        \n",
    "        # Create equal weights on every country for the next 12 months\n",
    "        w = 1/len(port_countries)\n",
    "        port_ret = pd.DataFrame((w*ret_port).sum(axis=1))\n",
    "        \n",
    "        # Store\n",
    "        out_df = out_df.append(port_ret)\n",
    "    \n",
    "    out_df.columns = ['EW log returns']\n",
    "    out_df = out_df[~out_df.index.duplicated(keep='first')]\n",
    "    \n",
    "    # Cumulative returns\n",
    "    out_df['cum_rets'] = np.exp(out_df['EW log returns'].cumsum())-1\n",
    "    \n",
    "    return out_df"
   ]
  },
  {
   "cell_type": "code",
   "execution_count": 13,
   "metadata": {},
   "outputs": [],
   "source": [
    "size_ew_rets = calc_EW(equity_rets_w, small_cap_df)"
   ]
  },
  {
   "cell_type": "markdown",
   "metadata": {},
   "source": [
    "## Equal Weighting (EW)"
   ]
  },
  {
   "cell_type": "code",
   "execution_count": 14,
   "metadata": {},
   "outputs": [],
   "source": [
    "def calc_EW_w(ret_df, country_factor_df):\n",
    "    out_df = pd.DataFrame()\n",
    "    for idx, row in country_factor_df.iterrows():\n",
    "        country_lst = row['countries']\n",
    "        ret_df_sub = ret_df[ret_df.index==idx][country_lst]\n",
    "        \n",
    "        # Construct weightings\n",
    "        w = 1/len(country_lst)\n",
    "        port_ret = pd.DataFrame((w*ret_df_sub).sum(axis=1))\n",
    "        \n",
    "        # Store\n",
    "        out_df = out_df.append(port_ret)\n",
    "    \n",
    "    out_df.columns = ['EW log returns']\n",
    "    out_df = out_df[~out_df.index.duplicated(keep='first')]\n",
    "    \n",
    "    # Cumulative returns\n",
    "    out_df['cum_rets'] = np.exp(out_df['EW log returns'].cumsum())-1\n",
    "    \n",
    "    return out_df"
   ]
  },
  {
   "cell_type": "code",
   "execution_count": 15,
   "metadata": {},
   "outputs": [],
   "source": [
    "mom_ew_rets = calc_EW_w(equity_rets_w, mom_df)\n",
    "low_beta_ew_rets = calc_EW_w(equity_rets_w, low_beta_df)"
   ]
  },
  {
   "cell_type": "markdown",
   "metadata": {},
   "source": [
    "## Inverse Variance (IV)"
   ]
  },
  {
   "cell_type": "code",
   "execution_count": 16,
   "metadata": {},
   "outputs": [],
   "source": [
    "# # Estimate volatilities using GARCH(1,1)\n",
    "# def calc_GARCH_vol(df, K=52):\n",
    "#     date_list = []\n",
    "#     vol_list = []\n",
    "\n",
    "#     for col in df:\n",
    "#         for ii in range(len(col)-K):\n",
    "#             train_ret = col.iloc[:ii+K, :]\n",
    "#             am = arch_model(train_ret*100, mean='ARX', lags=0, vol='GARCH', p=1, o=0, q=1, dist='Normal')"
   ]
  },
  {
   "cell_type": "code",
   "execution_count": 27,
   "metadata": {},
   "outputs": [],
   "source": [
    "# equity_rets_w.head()"
   ]
  },
  {
   "cell_type": "code",
   "execution_count": null,
   "metadata": {},
   "outputs": [],
   "source": []
  },
  {
   "cell_type": "markdown",
   "metadata": {},
   "source": [
    "# 3. Performance"
   ]
  },
  {
   "cell_type": "code",
   "execution_count": 25,
   "metadata": {},
   "outputs": [],
   "source": [
    "# Generate performance assessment statistics\n",
    "def calc_performance(rets_series, time = 52):\n",
    "    '''\n",
    "    Generates performance metrics for portfolio or market\n",
    "    + Input: return series (in log returns)\n",
    "    + Output: mean annualized returns, SR, volatility\n",
    "    '''\n",
    "    perf_df = pd.DataFrame(rets_series)\n",
    "    perf_df.columns = ['returns']\n",
    "    \n",
    "    # Compute mean return, annualized\n",
    "    def calc_mean_return(df, column):\n",
    "        mean_log_return = np.mean(df[column]) \n",
    "        # Convert back to simple returns\n",
    "        mean_return_annualized = (np.exp(mean_log_return) - 1) * time\n",
    "        return mean_return_annualized\n",
    "    \n",
    "    # Compute volatility, annualized\n",
    "    def calc_vol(df, column):\n",
    "        std_annualized = df[column].std() * np.sqrt(time)\n",
    "        return std_annualized\n",
    "    \n",
    "    # Compute all metrics for portfolio\n",
    "    mean_return_ann = calc_mean_return(perf_df, 'returns')\n",
    "    std_annualized = calc_vol(perf_df, 'returns')\n",
    "    \n",
    "    all_ = [round(mean_return_ann*100,2), round(std_annualized*100,2)]\n",
    "    \n",
    "    return all_\n",
    "\n",
    "# Generate graphs of returns\n",
    "def plot_perf(perf, perf_bm, label):\n",
    "    fig, ax = plt.subplots(nrows=1, figsize=(12,6))\n",
    "    if type(perf) is not list:\n",
    "        perf = [perf]\n",
    "        label = [label]\n",
    "    for i in range(len(perf)):\n",
    "        ax.plot(perf[i]*100, linewidth=1, label=f'Portfolio Return ({label[i]})')\n",
    "    ax.plot(perf_bm*100, linewidth=1, linestyle='--', c='black', label='EM ETF Market Portfolio Return (Benchmark)')\n",
    "    ax.set_ylabel('Cumulative Returns (%)')\n",
    "    ax.legend()"
   ]
  },
  {
   "cell_type": "code",
   "execution_count": 26,
   "metadata": {},
   "outputs": [
    {
     "data": {
      "image/png": "[encoded data removed]",
      "text/plain": [
       "<Figure size 864x432 with 1 Axes>"
      ]
     },
     "metadata": {},
     "output_type": "display_data"
    }
   ],
   "source": [
    "# Plot\n",
    "plot_perf(perf=[size_ew_rets['cum_rets'], mom_ew_rets['cum_rets'], low_beta_ew_rets['cum_rets']], perf_bm=market_rets_w['EEM_cum_rets'], label=['Size', 'MOM', 'Low Beta'])"
   ]
  },
  {
   "cell_type": "code",
   "execution_count": 19,
   "metadata": {},
   "outputs": [],
   "source": [
    "# Performance Assessment\n",
    "# Country factor portfolios\n",
    "size_ew_perf = calc_performance(size_ew_rets['EW log returns'])\n",
    "mom_ew_perf = calc_performance(mom_ew_rets['EW log returns'])\n",
    "low_beta_ew_perf = calc_performance(low_beta_ew_rets['EW log returns'])\n",
    "\n",
    "# Market\n",
    "market_perf = calc_performance(market_rets_w['EEM ETF'])"
   ]
  }
 ],
 "metadata": {
  "environment": {
   "name": "common-cpu.mnightly-2021-02-02-debian-10-test",
   "type": "gcloud",
   "uri": "gcr.io/deeplearning-platform-release/base-cpu:mnightly-2021-02-02-debian-10-test"
  },
  "kernelspec": {
   "display_name": "Python 3",
   "language": "python",
   "name": "python3"
  },
  "language_info": {
   "codemirror_mode": {
    "name": "ipython",
    "version": 3
   },
   "file_extension": ".py",
   "mimetype": "text/x-python",
   "name": "python",
   "nbconvert_exporter": "python",
   "pygments_lexer": "ipython3",
   "version": "3.7.9"
  }
 },
 "nbformat": 4,
 "nbformat_minor": 4
}
