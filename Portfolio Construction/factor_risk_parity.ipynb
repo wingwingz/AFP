{
 "cells": [
  {
   "cell_type": "code",
   "execution_count": 4,
   "id": "under-october",
   "metadata": {},
   "outputs": [],
   "source": [
    "import pandas as pd\n",
    "import pandas_datareader as pdr\n",
    "import numpy as np\n",
    "import matplotlib.pyplot as plt\n",
    "import matplotlib\n",
    "import statsmodels.api as sm\n",
    "from statsmodels.regression.rolling import RollingOLS\n",
    "matplotlib.style.use('ggplot')"
   ]
  },
  {
   "cell_type": "markdown",
   "id": "little-works",
   "metadata": {},
   "source": [
    "# Purpose of the Notebook\n",
    "\n",
    "Factor Risk Parity Prototype"
   ]
  },
  {
   "cell_type": "code",
   "execution_count": 5,
   "id": "varying-plastic",
   "metadata": {},
   "outputs": [],
   "source": [
    "country_etfs = pd.read_csv('../Data/country_data/ETF_adj_close.csv',index_col=0)\n",
    "country_etfs.index = pd.to_datetime(country_etfs.index)\n",
    "ff5 = pdr.famafrench.FamaFrenchReader('Emerging_5_Factors',start = '2000-01-01').read()[0]"
   ]
  },
  {
   "cell_type": "code",
   "execution_count": 6,
   "id": "infectious-brake",
   "metadata": {},
   "outputs": [],
   "source": []
  },
  {
   "cell_type": "code",
   "execution_count": null,
   "id": "animated-leave",
   "metadata": {},
   "outputs": [],
   "source": []
  }
 ],
 "metadata": {
  "environment": {
   "name": "common-cpu.mnightly-2021-01-20-debian-10-test",
   "type": "gcloud",
   "uri": "gcr.io/deeplearning-platform-release/base-cpu:mnightly-2021-01-20-debian-10-test"
  },
  "kernelspec": {
   "display_name": "Python 3",
   "language": "python",
   "name": "python3"
  },
  "language_info": {
   "codemirror_mode": {
    "name": "ipython",
    "version": 3
   },
   "file_extension": ".py",
   "mimetype": "text/x-python",
   "name": "python",
   "nbconvert_exporter": "python",
   "pygments_lexer": "ipython3",
   "version": "3.7.9"
  }
 },
 "nbformat": 4,
 "nbformat_minor": 5
}
