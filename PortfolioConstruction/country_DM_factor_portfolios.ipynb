{
 "cells": [
  {
   "cell_type": "code",
   "execution_count": 1,
   "id": "mechanical-upper",
   "metadata": {},
   "outputs": [],
   "source": [
    "import os\n",
    "import sys\n",
    "module_path = os.path.abspath(os.path.join('..'))\n",
    "if module_path not in sys.path:\n",
    "    sys.path.append(module_path)"
   ]
  },
  {
   "cell_type": "code",
   "execution_count": 2,
   "id": "comparable-motorcycle",
   "metadata": {},
   "outputs": [],
   "source": [
    "import pandas as pd\n",
    "import pandas_datareader as pdr\n",
    "import numpy as np\n",
    "import matplotlib.pyplot as plt\n",
    "import matplotlib\n",
    "import statsmodels.api as sm\n",
    "from statsmodels.regression.rolling import RollingOLS\n",
    "from dateutil.relativedelta import relativedelta\n",
    "import datetime"
   ]
  },
  {
   "cell_type": "code",
   "execution_count": 3,
   "id": "later-modem",
   "metadata": {},
   "outputs": [],
   "source": [
    "from PortfolioConstruction.factor import construct_factor, calc_momentum_ret, calc_beta_ret\n",
    "from PortfolioConstruction.performance import calc_performance, calc_cum_returns, plot_corr, plot_perf"
   ]
  },
  {
   "cell_type": "code",
   "execution_count": 4,
   "id": "acute-candidate",
   "metadata": {},
   "outputs": [],
   "source": [
    "# Directories\n",
    "OUTPUT_DIR = '../Outputs/equity/'\n",
    "INPUT_DIR = '../Data/country_data/'\n",
    "MACRO_DIR = '../Data/macro_factors/'\n",
    "\n",
    "# Filter by year\n",
    "start_date = '2015-09-27'\n",
    "end_date = '2021-01-31'"
   ]
  },
  {
   "cell_type": "markdown",
   "id": "international-meditation",
   "metadata": {},
   "source": [
    "# Purpose of Notebook\n",
    "Construction of DM+EM country factors. Extending EM universe to include DM countries.\n",
    "\n",
    "7 EM countries are added: Australia, New Zealand, France, Germany, Italy, Japan, UK, US."
   ]
  },
  {
   "cell_type": "markdown",
   "id": "dangerous-determination",
   "metadata": {},
   "source": [
    "# Load Data & Clean to Weekly\n",
    "\n",
    "## EM+DM Equity ETFs"
   ]
  },
  {
   "cell_type": "code",
   "execution_count": 5,
   "id": "numerous-configuration",
   "metadata": {},
   "outputs": [],
   "source": [
    "# Load equity ETF log returns - EM\n",
    "equity_rets_w = pd.read_pickle(OUTPUT_DIR + 'equity_etf_returns_weekly.pkl')\n",
    "\n",
    "# Load ETF returns for Equities\n",
    "equity_etfs_DM = pd.read_excel(INPUT_DIR + 'ETF_close_price.xlsx', sheet_name = 'DM', index_col=0)\n",
    "equity_etfs_DM.index = pd.to_datetime(equity_etfs_DM.index)\n",
    "equity_etfs_DM = equity_etfs_DM.resample('W').last()\n",
    "equity_rets_DM = np.log(equity_etfs_DM).diff()\n",
    "equity_rets_DM = equity_rets_DM.dropna()\n",
    "\n",
    "DM_countries = ['Australia', 'New Zealand', 'France', 'Germany', 'Italy', 'Japan', 'United Kingdom', 'United States']\n",
    "equity_rets_DM = equity_rets_DM[DM_countries]\n",
    "equity_rets_DM = equity_rets_DM[(equity_rets_DM.index>=start_date) & (equity_rets_DM.index<=end_date)]\n",
    "\n",
    "# Combine EM and DM\n",
    "equity_rets_all = pd.concat([equity_rets_w, equity_rets_DM], axis=1)"
   ]
  },
  {
   "cell_type": "code",
   "execution_count": 6,
   "id": "romance-situation",
   "metadata": {},
   "outputs": [],
   "source": [
    "# Get all countries in a list\n",
    "all_countries = list(equity_rets_w.columns.values) + DM_countries"
   ]
  },
  {
   "cell_type": "markdown",
   "id": "periodic-truck",
   "metadata": {},
   "source": [
    "## Market Cap"
   ]
  },
  {
   "cell_type": "code",
   "execution_count": 8,
   "id": "union-recycling",
   "metadata": {},
   "outputs": [],
   "source": [
    "# Load market cap data for countries\n",
    "country_mkt_cap = pd.read_csv(INPUT_DIR + 'country_market_caps.csv',skiprows=4)\n",
    "country_mkt_cap = country_mkt_cap[country_mkt_cap.columns[~country_mkt_cap.columns.isin(['Country Code', 'Indicator Name', 'Indicator Code'])]]\n",
    "country_mkt_cap = country_mkt_cap.T.rename_axis('Date')\n",
    "country_mkt_cap = country_mkt_cap.rename(columns=country_mkt_cap.iloc[0]).drop(country_mkt_cap.index[0])\n",
    "\n",
    "# Remove Taiwan since it doesn't exist in the market cap data; change names for Korea, Russia, Egypt for better search\n",
    "all_countries = np.where(all_countries=='Korea', 'Korea, Rep.', all_countries) \n",
    "all_countries = np.where(all_countries=='Russia', 'Russian Federation', all_countries) \n",
    "all_countries = np.where(all_countries=='Egypt', 'Egypt, Arab Rep.', all_countries)\n",
    "all_countries = all_countries[~np.isin(all_countries, 'Taiwan')]\n",
    "\n",
    "# Only grab countries in all_countries from country_mkt_cap\n",
    "country_mkt_cap = country_mkt_cap[all_countries]\n",
    "country_mkt_cap.index = pd.to_datetime(country_mkt_cap.index, format='%Y')\n",
    "country_mkt_cap = country_mkt_cap[(country_mkt_cap.index>='2015-01-01') & (country_mkt_cap.index<=end_date)]\n",
    "country_mkt_cap.rename(columns={'Korea, Rep.': 'Korea', 'Russian Federation': 'Russia', 'Egypt, Arab Rep.': 'Egypt'}, inplace=True)\n",
    "country_mkt_cap = country_mkt_cap.fillna(method='ffill')\n",
    "country_mkt_cap = country_mkt_cap.append(country_mkt_cap.iloc[-1])\n",
    "country_mkt_cap.index = pd.date_range('2015', '2022', freq='Y')\n",
    "\n",
    "# Make market cap df to be in weekly\n",
    "new_df = pd.DataFrame(index=equity_rets_w.index)\n",
    "def merge_by_year(df):\n",
    "    df['year'] = list(df.index.year)\n",
    "    return df\n",
    "\n",
    "country_mkt_cap = merge_by_year(new_df).merge(merge_by_year(country_mkt_cap), on=['year'])\n",
    "country_mkt_cap.index = equity_rets_w.index\n",
    "del country_mkt_cap['year']\n",
    "\n",
    "# Missing: Italy and UK Market caps\n",
    "country_mkt_cap.dropna(axis=1, inplace=True)"
   ]
  },
  {
   "cell_type": "markdown",
   "id": "strategic-spoke",
   "metadata": {},
   "source": [
    "## Country PE Ratios"
   ]
  },
  {
   "cell_type": "code",
   "execution_count": 9,
   "id": "norwegian-kinase",
   "metadata": {},
   "outputs": [],
   "source": [
    "# Load country PE ratios\n",
    "country_pe = pd.read_csv(MACRO_DIR + 'world_PEratio.csv', skiprows=51)\n",
    "country_pe_match = pd.read_csv(MACRO_DIR + 'world_PEratio.csv', nrows=50)\n",
    "country_pe_match = country_pe_match[['Ticker', 'Country']]\n",
    "country_pe_dict = country_pe_match.set_index('Ticker')['Country'].to_dict()\n",
    "country_pe_dict = {k+'_Close': v for k, v in country_pe_dict.items()}\n",
    "\n",
    "country_pe.index = country_pe['Date']\n",
    "del country_pe['Date']\n",
    "\n",
    "# Rename columns\n",
    "country_pe.rename(country_pe_dict, axis=1, inplace=True)\n",
    "countries_new = list(np.where(all_countries=='Korea, Rep.', 'Korea, Republic Of', all_countries))\n",
    "for country in ['United Arab Emirates', 'Saudi Arabia', 'Egypt, Arab Rep.', 'Pakistan', 'Qatar']:\n",
    "    countries_new.remove(country)\n",
    "country_pe = country_pe[countries_new]\n",
    "country_pe.rename(columns={'Korea, Republic Of': 'Korea', 'Russian Federation': 'Russia'}, inplace=True)\n",
    "\n",
    "country_pe.index = pd.to_datetime(country_pe.index)\n",
    "country_pe = country_pe[(country_pe.index>=start_date) & (country_pe.index<=end_date)]\n",
    "# Fillna's with previous values\n",
    "country_pe = country_pe.fillna(method='ffill')\n",
    "\n",
    "# Convert to weekly\n",
    "new_df = pd.DataFrame(index=equity_rets_all.index)\n",
    "def merge_by_year_month(df):\n",
    "    df['year'] = list(df.index.year)\n",
    "    df['month'] = list(df.index.month)\n",
    "    return df\n",
    "\n",
    "country_pe = merge_by_year_month(new_df).merge(merge_by_year_month(country_pe), on=['year', 'month'])\n",
    "country_pe.index = equity_rets_all.index\n",
    "del country_pe['year']\n",
    "del country_pe['month']"
   ]
  },
  {
   "cell_type": "markdown",
   "id": "harmful-roommate",
   "metadata": {},
   "source": [
    "## Market ETF"
   ]
  },
  {
   "cell_type": "code",
   "execution_count": 10,
   "id": "united-staff",
   "metadata": {},
   "outputs": [],
   "source": [
    "# Market portfolio: Uses iShares MSCI ACWI ETF\n",
    "market_etfs = pd.read_csv(INPUT_DIR + 'etf_msci_em_agg_indices.csv',skiprows=5, index_col=0)\n",
    "market_etfs.columns = ['EEM ETF', 'MSCI EM', 'ACWI ETF']\n",
    "market_etfs.index = pd.to_datetime(market_etfs.index)\n",
    "\n",
    "# Market portfolio returns\n",
    "market_rets_w = market_etfs.resample('W').last()\n",
    "market_rets_w = np.log(market_rets_w).diff()\n",
    "market_rets_w = market_rets_w.dropna()\n",
    "\n",
    "market_rets_w = market_rets_w[(market_rets_w.index>=start_date) & (market_rets_w.index<=end_date)]\n",
    "market_rets_w['ACWI_cum_rets'] = np.exp(market_rets_w['ACWI ETF'].cumsum())-1"
   ]
  },
  {
   "cell_type": "markdown",
   "id": "entertaining-pound",
   "metadata": {},
   "source": [
    "# Construct EM+DM Country Factor Portfolios"
   ]
  },
  {
   "cell_type": "markdown",
   "id": "strong-brother",
   "metadata": {},
   "source": [
    "## Small cap portfolio\n",
    "- Use country_mkt_cap as proxy for low capitalization countries.\n",
    "\n",
    "## Value portfolio\n",
    "- Use country_pe as proxy for value. This df contains PE ratios by country index."
   ]
  },
  {
   "cell_type": "markdown",
   "id": "opening-subject",
   "metadata": {},
   "source": [
    "## Momentum\n",
    "- Calculate every week the cumulative trailing weekly returns for $t$-2 to $t$-52 and form three portfolios containing in equal numbers the highest, medium, and lowest momentum countries."
   ]
  },
  {
   "cell_type": "code",
   "execution_count": 11,
   "id": "efficient-scanner",
   "metadata": {},
   "outputs": [],
   "source": [
    "mom_df = calc_momentum_ret(equity_rets_all)"
   ]
  },
  {
   "cell_type": "markdown",
   "id": "geological-plant",
   "metadata": {},
   "source": [
    "## Beta portfolio\n",
    "* Calculate every week the country beta against the world MSCI ACWI ETF using a rolling sample of 52 weekly observations and create portfolios of lowest beta countries."
   ]
  },
  {
   "cell_type": "code",
   "execution_count": 12,
   "id": "aerial-breakfast",
   "metadata": {},
   "outputs": [],
   "source": [
    "beta_df = calc_beta_ret(equity_rets_all, market_rets_w['ACWI ETF'])"
   ]
  },
  {
   "cell_type": "markdown",
   "id": "romance-dayton",
   "metadata": {},
   "source": [
    "# Construct Long-Short Portfolios"
   ]
  },
  {
   "cell_type": "code",
   "execution_count": 13,
   "id": "false-roman",
   "metadata": {},
   "outputs": [],
   "source": [
    "small_cap_ret, small_cap_port = construct_factor(country_mkt_cap, equity_rets_all, ascending=False)\n",
    "value_ret, value_port = construct_factor(country_pe, equity_rets_all, ascending=False)\n",
    "mom_ret, mom_port = construct_factor(mom_df, equity_rets_all, ascending=True)\n",
    "low_beta_ret, low_beta_port = construct_factor(beta_df, equity_rets_all, ascending=False)"
   ]
  },
  {
   "cell_type": "code",
   "execution_count": 14,
   "id": "dependent-senegal",
   "metadata": {},
   "outputs": [],
   "source": [
    "# Create a single df of all returns\n",
    "all_port_rets = pd.concat([small_cap_ret, value_ret, mom_ret, low_beta_ret], axis=1)\n",
    "all_port_rets.columns = ['size', 'value', 'momentum', 'low_beta']"
   ]
  },
  {
   "cell_type": "markdown",
   "id": "recorded-arrow",
   "metadata": {},
   "source": [
    "# Performance"
   ]
  },
  {
   "cell_type": "code",
   "execution_count": 15,
   "id": "advanced-dollar",
   "metadata": {},
   "outputs": [
    {
     "data": {
      "image/png": "[encoded data removed]",
      "text/plain": [
       "<Figure size 864x432 with 1 Axes>"
      ]
     },
     "metadata": {
      "needs_background": "light"
     },
     "output_type": "display_data"
    }
   ],
   "source": [
    "all_port_cum_ret_df = calc_cum_returns(all_port_rets)\n",
    "\n",
    "# Plot cumulative returns\n",
    "plot_perf(perf=[all_port_cum_ret_df[x] for x in list(all_port_cum_ret_df.columns.values)[:-1]], \\\n",
    "          perf_bm=market_rets_w['ACWI_cum_rets'], label=['Size', 'Value', 'MOM', 'Low Beta'], \\\n",
    "          title='Country Factor Portfolio Cumulative Returns')"
   ]
  },
  {
   "cell_type": "code",
   "execution_count": 17,
   "id": "comparative-federation",
   "metadata": {},
   "outputs": [
    {
     "data": {
      "text/html": [
       "<div>\n",
       "<style scoped>\n",
       "    .dataframe tbody tr th:only-of-type {\n",
       "        vertical-align: middle;\n",
       "    }\n",
       "\n",
       "    .dataframe tbody tr th {\n",
       "        vertical-align: top;\n",
       "    }\n",
       "\n",
       "    .dataframe thead th {\n",
       "        text-align: right;\n",
       "    }\n",
       "</style>\n",
       "<table border=\"1\" class=\"dataframe\">\n",
       "  <thead>\n",
       "    <tr style=\"text-align: right;\">\n",
       "      <th></th>\n",
       "      <th>Mean Return Ann. (%)</th>\n",
       "      <th>Std Ann. (%)</th>\n",
       "      <th>Sharpe Ratio Ann.</th>\n",
       "      <th>Skewness</th>\n",
       "      <th>Kurtosis</th>\n",
       "      <th>Max Drawdown (%)</th>\n",
       "      <th>Max Drawdown Date</th>\n",
       "    </tr>\n",
       "  </thead>\n",
       "  <tbody>\n",
       "    <tr>\n",
       "      <th>Size</th>\n",
       "      <td>6.06</td>\n",
       "      <td>8.78</td>\n",
       "      <td>0.69</td>\n",
       "      <td>1.46</td>\n",
       "      <td>6.60</td>\n",
       "      <td>11.28</td>\n",
       "      <td>2016-05-15</td>\n",
       "    </tr>\n",
       "    <tr>\n",
       "      <th>Value</th>\n",
       "      <td>11.74</td>\n",
       "      <td>8.73</td>\n",
       "      <td>1.35</td>\n",
       "      <td>1.28</td>\n",
       "      <td>7.19</td>\n",
       "      <td>8.71</td>\n",
       "      <td>2020-12-20</td>\n",
       "    </tr>\n",
       "    <tr>\n",
       "      <th>MOM</th>\n",
       "      <td>5.87</td>\n",
       "      <td>9.83</td>\n",
       "      <td>0.60</td>\n",
       "      <td>0.41</td>\n",
       "      <td>1.48</td>\n",
       "      <td>10.79</td>\n",
       "      <td>2019-08-04</td>\n",
       "    </tr>\n",
       "    <tr>\n",
       "      <th>Low Beta</th>\n",
       "      <td>7.80</td>\n",
       "      <td>10.06</td>\n",
       "      <td>0.78</td>\n",
       "      <td>0.23</td>\n",
       "      <td>3.14</td>\n",
       "      <td>15.59</td>\n",
       "      <td>2019-02-03</td>\n",
       "    </tr>\n",
       "  </tbody>\n",
       "</table>\n",
       "</div>"
      ],
      "text/plain": [
       "          Mean Return Ann. (%)  Std Ann. (%)  Sharpe Ratio Ann.  Skewness  \\\n",
       "Size                      6.06          8.78               0.69      1.46   \n",
       "Value                    11.74          8.73               1.35      1.28   \n",
       "MOM                       5.87          9.83               0.60      0.41   \n",
       "Low Beta                  7.80         10.06               0.78      0.23   \n",
       "\n",
       "          Kurtosis  Max Drawdown (%) Max Drawdown Date  \n",
       "Size          6.60             11.28        2016-05-15  \n",
       "Value         7.19              8.71        2020-12-20  \n",
       "MOM           1.48             10.79        2019-08-04  \n",
       "Low Beta      3.14             15.59        2019-02-03  "
      ]
     },
     "execution_count": 17,
     "metadata": {},
     "output_type": "execute_result"
    }
   ],
   "source": [
    "all_perf = []\n",
    "for col in all_port_rets.columns:\n",
    "    perf_ = calc_performance(all_port_rets[col])\n",
    "    all_perf.append(perf_)\n",
    "\n",
    "perf_df = pd.DataFrame(all_perf, columns = ['Mean Return Ann. (%)', 'Std Ann. (%)', 'Sharpe Ratio Ann.', 'Skewness', 'Kurtosis', 'Max Drawdown (%)', 'Max Drawdown Date'], \\\n",
    "                       index = ['Size', 'Value', 'MOM', 'Low Beta'])\n",
    "perf_df"
   ]
  },
  {
   "cell_type": "code",
   "execution_count": null,
   "id": "controlled-fisher",
   "metadata": {},
   "outputs": [],
   "source": []
  }
 ],
 "metadata": {
  "environment": {
   "name": "common-cpu.mnightly-2021-02-02-debian-10-test",
   "type": "gcloud",
   "uri": "gcr.io/deeplearning-platform-release/base-cpu:mnightly-2021-02-02-debian-10-test"
  },
  "kernelspec": {
   "display_name": "Python 3",
   "language": "python",
   "name": "python3"
  },
  "language_info": {
   "codemirror_mode": {
    "name": "ipython",
    "version": 3
   },
   "file_extension": ".py",
   "mimetype": "text/x-python",
   "name": "python",
   "nbconvert_exporter": "python",
   "pygments_lexer": "ipython3",
   "version": "3.7.9"
  }
 },
 "nbformat": 4,
 "nbformat_minor": 5
}
