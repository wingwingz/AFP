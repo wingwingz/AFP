{
 "cells": [],
 "metadata": {
  "environment": {
   "name": "common-cpu.mnightly-2021-01-20-debian-10-test",
   "type": "gcloud",
   "uri": "gcr.io/deeplearning-platform-release/base-cpu:mnightly-2021-01-20-debian-10-test"
  }
 },
 "nbformat": 4,
 "nbformat_minor": 5
}
