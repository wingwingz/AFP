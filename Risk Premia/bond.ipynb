{
 "cells": [
  {
   "cell_type": "code",
   "execution_count": 1,
   "id": "flexible-model",
   "metadata": {},
   "outputs": [],
   "source": [
    "import pandas as pd\n",
    "import numpy as np\n",
    "import os\n",
    "import statsmodels.api as sm\n",
    "import matplotlib.pyplot as plt\n",
    "import matplotlib\n",
    "matplotlib.style.use('ggplot')\n",
    "import seaborn as sns"
   ]
  },
  {
   "cell_type": "code",
   "execution_count": 2,
   "id": "stuffed-colors",
   "metadata": {},
   "outputs": [],
   "source": [
    "country_data_path = '../Data/country_data'\n",
    "macro_data_path = '../Data/macro_factors'\n",
    "style_data_path = '../Data/style_factors'\n",
    "cluster_path = '../Outputs/country_clusters'"
   ]
  },
  {
   "cell_type": "code",
   "execution_count": 3,
   "id": "defensive-slope",
   "metadata": {},
   "outputs": [],
   "source": [
    "start_date = '2003-10-01'"
   ]
  },
  {
   "cell_type": "markdown",
   "id": "instructional-sperm",
   "metadata": {},
   "source": [
    "## Load Data"
   ]
  },
  {
   "cell_type": "markdown",
   "id": "helpful-alliance",
   "metadata": {},
   "source": [
    "### Read country sovereign bond index data"
   ]
  },
  {
   "cell_type": "code",
   "execution_count": 4,
   "id": "subject-insulin",
   "metadata": {},
   "outputs": [],
   "source": [
    "ticker_all = pd.read_csv(os.path.join(country_data_path, 'ice_bofa_sovereign_indices_summary.csv'), skipinitialspace=True)\n",
    "\n",
    "# optional: can apply filter to exclude some countries; this dictionary will be used to loop for regression\n",
    "# ticker = ticker_all.loc[(ticker_all['Number of Issues'] > 5) & (ticker_all['Sum of Market Value (mm, USD)'] > 10000), :].copy()\n",
    "ticker = ticker_all.copy()\n",
    "\n",
    "ticker['Country'] = ticker['Full Index Name'].apply(lambda x:' '.join(x.split()[4:-2]))\n",
    "ticker['Index Full Name'] = ticker['Index BBG Ticker'] + ' Index'\n",
    "ticker_dict = pd.Series(data=ticker['Country'].values, index=ticker['Index Full Name']).to_dict()"
   ]
  },
  {
   "cell_type": "code",
   "execution_count": 5,
   "id": "potential-dictionary",
   "metadata": {},
   "outputs": [],
   "source": [
    "bnd_idx_price = pd.read_excel(os.path.join(country_data_path, 'ice_bofa_sovereign_indices_data.xlsx'), \n",
    "                            sheet_name='px_last data',\n",
    "                            skiprows=3,\n",
    "                            header=0)\n",
    "\n",
    "bnd_idx_price.drop(index=[0, 1], inplace=True)\n",
    "bnd_idx_price.rename(columns={\"Unnamed: 0\":\"Date\"}, inplace=True)\n",
    "bnd_idx_price.set_index('Date', inplace=True)\n",
    "bnd_idx_price = bnd_idx_price.astype('float')\n",
    "bnd_idx_price_monthly = bnd_idx_price.resample('M').last()\n",
    "bnd_idx_price_monthly.replace(0, np.nan, inplace=True)"
   ]
  },
  {
   "cell_type": "markdown",
   "id": "alternative-fantasy",
   "metadata": {},
   "source": [
    "### Read Macro Factors Data"
   ]
  },
  {
   "cell_type": "code",
   "execution_count": 6,
   "id": "configured-heaven",
   "metadata": {},
   "outputs": [],
   "source": [
    "credit = pd.read_csv(os.path.join(macro_data_path, 'LF98TRUU_Index.csv'), header=None, parse_dates=[0], index_col=0, names=['credit'])\n",
    "currency = pd.read_csv(os.path.join(macro_data_path, 'MXEF0CX0_Index.csv'), header=None, parse_dates=[0], index_col=0, names=['currency'])\n",
    "equity = pd.read_csv(os.path.join(macro_data_path, 'WHANWIHD_Index.csv'), header=None, parse_dates=[0], index_col=0, names=['equity'])\n",
    "rates = pd.read_csv(os.path.join(macro_data_path, 'JPM_GBIEM.csv'), skiprows=7, header=None, index_col=0, names=['rates_last', 'rates_mid'])\n",
    "rates.index = pd.to_datetime(rates.index)\n",
    "rates = rates.sort_index()\n",
    "rates = rates[['rates_last']]\n",
    "rates.columns = ['rates']"
   ]
  },
  {
   "cell_type": "code",
   "execution_count": 7,
   "id": "efficient-coverage",
   "metadata": {},
   "outputs": [],
   "source": [
    "macro_factors = credit.join(currency, how='inner').join(equity, how='inner').join(rates, how='inner')\n",
    "macro_factors_monthly = macro_factors.resample('M').last()\n",
    "macro_factors_monthly = macro_factors_monthly.astype('float')"
   ]
  },
  {
   "cell_type": "markdown",
   "id": "gorgeous-seating",
   "metadata": {},
   "source": [
    "### Read 3-Months LIBOR data"
   ]
  },
  {
   "cell_type": "code",
   "execution_count": 8,
   "id": "focal-brazilian",
   "metadata": {},
   "outputs": [],
   "source": [
    "libor = pd.read_csv('../Data/others/USD3MTD156N.csv', index_col=0)\n",
    "libor.columns = ['3M_libor']\n",
    "libor['3M_libor'] = libor['3M_libor'].replace(['.'], np.nan)\n",
    "libor.fillna(method='ffill')\n",
    "libor = libor.apply(pd.to_numeric)\n",
    "libor.index = pd.to_datetime(libor.index)\n",
    "\n",
    "libor_monthly = libor.resample('M').first() / 1200 # convert annual data in % to a monthly return\n",
    "libor_monthly = libor_monthly.shift(1).dropna() # using first data of the month and shift by a period, to match bond index return's date convention - end of month date represents return earned over that month"
   ]
  },
  {
   "cell_type": "markdown",
   "id": "opponent-conference",
   "metadata": {},
   "source": [
    "## Regression"
   ]
  },
  {
   "cell_type": "code",
   "execution_count": 9,
   "id": "another-antibody",
   "metadata": {},
   "outputs": [],
   "source": [
    "bnd_index_ret = np.log(bnd_idx_price_monthly).diff()\n",
    "bnd_index_ret.replace(0, np.nan, inplace=True)\n",
    "bnd_index_excess_ret = bnd_index_ret.subtract(libor_monthly['3M_libor'], axis=0).dropna(axis=0, how='all')"
   ]
  },
  {
   "cell_type": "code",
   "execution_count": 10,
   "id": "precise-request",
   "metadata": {},
   "outputs": [
    {
     "data": {
      "text/html": [
       "<div>\n",
       "<style scoped>\n",
       "    .dataframe tbody tr th:only-of-type {\n",
       "        vertical-align: middle;\n",
       "    }\n",
       "\n",
       "    .dataframe tbody tr th {\n",
       "        vertical-align: top;\n",
       "    }\n",
       "\n",
       "    .dataframe thead th {\n",
       "        text-align: right;\n",
       "    }\n",
       "</style>\n",
       "<table border=\"1\" class=\"dataframe\">\n",
       "  <thead>\n",
       "    <tr style=\"text-align: right;\">\n",
       "      <th></th>\n",
       "      <th>credit</th>\n",
       "      <th>currency</th>\n",
       "      <th>equity</th>\n",
       "      <th>rates</th>\n",
       "    </tr>\n",
       "  </thead>\n",
       "  <tbody>\n",
       "    <tr>\n",
       "      <th>count</th>\n",
       "      <td>191.000000</td>\n",
       "      <td>191.000000</td>\n",
       "      <td>191.000000</td>\n",
       "      <td>191.000000</td>\n",
       "    </tr>\n",
       "    <tr>\n",
       "      <th>mean</th>\n",
       "      <td>0.005827</td>\n",
       "      <td>0.002256</td>\n",
       "      <td>0.006560</td>\n",
       "      <td>0.003693</td>\n",
       "    </tr>\n",
       "    <tr>\n",
       "      <th>std</th>\n",
       "      <td>0.027960</td>\n",
       "      <td>0.019484</td>\n",
       "      <td>0.040996</td>\n",
       "      <td>0.012621</td>\n",
       "    </tr>\n",
       "    <tr>\n",
       "      <th>min</th>\n",
       "      <td>-0.173244</td>\n",
       "      <td>-0.078636</td>\n",
       "      <td>-0.171625</td>\n",
       "      <td>-0.039949</td>\n",
       "    </tr>\n",
       "    <tr>\n",
       "      <th>25%</th>\n",
       "      <td>-0.003483</td>\n",
       "      <td>-0.006882</td>\n",
       "      <td>-0.012876</td>\n",
       "      <td>-0.003229</td>\n",
       "    </tr>\n",
       "    <tr>\n",
       "      <th>50%</th>\n",
       "      <td>0.007352</td>\n",
       "      <td>0.003989</td>\n",
       "      <td>0.013603</td>\n",
       "      <td>0.005135</td>\n",
       "    </tr>\n",
       "    <tr>\n",
       "      <th>75%</th>\n",
       "      <td>0.016999</td>\n",
       "      <td>0.013584</td>\n",
       "      <td>0.030295</td>\n",
       "      <td>0.010941</td>\n",
       "    </tr>\n",
       "    <tr>\n",
       "      <th>max</th>\n",
       "      <td>0.114263</td>\n",
       "      <td>0.050544</td>\n",
       "      <td>0.114004</td>\n",
       "      <td>0.066541</td>\n",
       "    </tr>\n",
       "  </tbody>\n",
       "</table>\n",
       "</div>"
      ],
      "text/plain": [
       "           credit    currency      equity       rates\n",
       "count  191.000000  191.000000  191.000000  191.000000\n",
       "mean     0.005827    0.002256    0.006560    0.003693\n",
       "std      0.027960    0.019484    0.040996    0.012621\n",
       "min     -0.173244   -0.078636   -0.171625   -0.039949\n",
       "25%     -0.003483   -0.006882   -0.012876   -0.003229\n",
       "50%      0.007352    0.003989    0.013603    0.005135\n",
       "75%      0.016999    0.013584    0.030295    0.010941\n",
       "max      0.114263    0.050544    0.114004    0.066541"
      ]
     },
     "execution_count": 10,
     "metadata": {},
     "output_type": "execute_result"
    }
   ],
   "source": [
    "macro_factors_ret = np.log(macro_factors_monthly).diff().dropna()\n",
    "macro_factors_ret.describe()"
   ]
  },
  {
   "cell_type": "markdown",
   "id": "boolean-liberty",
   "metadata": {},
   "source": [
    "### Run regression"
   ]
  },
  {
   "cell_type": "code",
   "execution_count": 11,
   "id": "metric-mozambique",
   "metadata": {},
   "outputs": [],
   "source": [
    "results_df = pd.DataFrame()\n",
    "results_dict = {} \n",
    "\n",
    "cols = ['const'] + macro_factors_ret.columns.tolist()\n",
    "beta_cols = [x + '_beta' for x in cols]\n",
    "tval_cols = [x + '_tval' for x in cols]\n",
    "\n",
    "for bnd_index in bnd_index_excess_ret:\n",
    "    \n",
    "    country = ticker_dict[bnd_index]\n",
    "    temp = bnd_index_excess_ret[bnd_index].dropna().to_frame().join(macro_factors_ret, how='inner')\n",
    "    \n",
    "    if temp.shape[0] > 30:\n",
    "\n",
    "        y = temp.iloc[:, 0]\n",
    "        X = temp.iloc[:, 1:]\n",
    "        X = sm.add_constant(X)\n",
    "        model = sm.OLS(y, X)\n",
    "        results = model.fit()\n",
    "\n",
    "        betas = results.params\n",
    "        tvalues = results.tvalues\n",
    "        rsq_adj = results.rsquared_adj\n",
    "        f_pvalue = results.f_pvalue\n",
    "        begin_date = min(y.index.min(), X.index.min()).strftime('%Y%m')\n",
    "        temp_results_df = pd.DataFrame(data=np.r_[betas, tvalues, rsq_adj, f_pvalue], \n",
    "                                       index=beta_cols + tval_cols + ['rsq_adj', 'f_pvalue']).T\n",
    "        temp_results_df['country'] = country\n",
    "        temp_results_df['begin_date'] = begin_date\n",
    "        results_df = results_df.append(temp_results_df)\n",
    "    \n",
    "        results_dict[country] = results\n"
   ]
  },
  {
   "cell_type": "code",
   "execution_count": 12,
   "id": "assumed-disney",
   "metadata": {},
   "outputs": [
    {
     "data": {
      "text/html": [
       "<div>\n",
       "<style scoped>\n",
       "    .dataframe tbody tr th:only-of-type {\n",
       "        vertical-align: middle;\n",
       "    }\n",
       "\n",
       "    .dataframe tbody tr th {\n",
       "        vertical-align: top;\n",
       "    }\n",
       "\n",
       "    .dataframe thead th {\n",
       "        text-align: right;\n",
       "    }\n",
       "</style>\n",
       "<table border=\"1\" class=\"dataframe\">\n",
       "  <thead>\n",
       "    <tr style=\"text-align: right;\">\n",
       "      <th></th>\n",
       "      <th>const_beta</th>\n",
       "      <th>credit_beta</th>\n",
       "      <th>currency_beta</th>\n",
       "      <th>equity_beta</th>\n",
       "      <th>rates_beta</th>\n",
       "      <th>const_tval</th>\n",
       "      <th>credit_tval</th>\n",
       "      <th>currency_tval</th>\n",
       "      <th>equity_tval</th>\n",
       "      <th>rates_tval</th>\n",
       "      <th>rsq_adj</th>\n",
       "      <th>f_pvalue</th>\n",
       "    </tr>\n",
       "  </thead>\n",
       "  <tbody>\n",
       "    <tr>\n",
       "      <th>count</th>\n",
       "      <td>64.000000</td>\n",
       "      <td>64.000000</td>\n",
       "      <td>64.000000</td>\n",
       "      <td>64.000000</td>\n",
       "      <td>64.000000</td>\n",
       "      <td>64.000000</td>\n",
       "      <td>64.000000</td>\n",
       "      <td>64.000000</td>\n",
       "      <td>64.000000</td>\n",
       "      <td>64.000000</td>\n",
       "      <td>64.000000</td>\n",
       "      <td>6.400000e+01</td>\n",
       "    </tr>\n",
       "    <tr>\n",
       "      <th>mean</th>\n",
       "      <td>-0.002390</td>\n",
       "      <td>0.751348</td>\n",
       "      <td>0.106040</td>\n",
       "      <td>-0.070305</td>\n",
       "      <td>0.559986</td>\n",
       "      <td>-0.372298</td>\n",
       "      <td>4.670096</td>\n",
       "      <td>0.019016</td>\n",
       "      <td>-0.773608</td>\n",
       "      <td>3.980593</td>\n",
       "      <td>0.423721</td>\n",
       "      <td>1.465004e-02</td>\n",
       "    </tr>\n",
       "    <tr>\n",
       "      <th>std</th>\n",
       "      <td>0.008071</td>\n",
       "      <td>0.806349</td>\n",
       "      <td>0.567295</td>\n",
       "      <td>0.190735</td>\n",
       "      <td>0.553070</td>\n",
       "      <td>1.295290</td>\n",
       "      <td>2.764371</td>\n",
       "      <td>1.439763</td>\n",
       "      <td>1.137473</td>\n",
       "      <td>3.444024</td>\n",
       "      <td>0.192534</td>\n",
       "      <td>7.975603e-02</td>\n",
       "    </tr>\n",
       "    <tr>\n",
       "      <th>min</th>\n",
       "      <td>-0.057076</td>\n",
       "      <td>-0.273499</td>\n",
       "      <td>-0.418816</td>\n",
       "      <td>-1.346559</td>\n",
       "      <td>-1.598084</td>\n",
       "      <td>-2.738879</td>\n",
       "      <td>-1.004248</td>\n",
       "      <td>-3.662358</td>\n",
       "      <td>-3.699185</td>\n",
       "      <td>-0.839482</td>\n",
       "      <td>-0.028561</td>\n",
       "      <td>1.721245e-47</td>\n",
       "    </tr>\n",
       "    <tr>\n",
       "      <th>25%</th>\n",
       "      <td>-0.003041</td>\n",
       "      <td>0.273274</td>\n",
       "      <td>-0.130448</td>\n",
       "      <td>-0.099070</td>\n",
       "      <td>0.254424</td>\n",
       "      <td>-1.192815</td>\n",
       "      <td>2.151888</td>\n",
       "      <td>-1.043907</td>\n",
       "      <td>-1.500113</td>\n",
       "      <td>0.927711</td>\n",
       "      <td>0.269731</td>\n",
       "      <td>1.885005e-28</td>\n",
       "    </tr>\n",
       "    <tr>\n",
       "      <th>50%</th>\n",
       "      <td>-0.000790</td>\n",
       "      <td>0.543780</td>\n",
       "      <td>-0.024736</td>\n",
       "      <td>-0.055490</td>\n",
       "      <td>0.565073</td>\n",
       "      <td>-0.447948</td>\n",
       "      <td>5.333330</td>\n",
       "      <td>-0.207836</td>\n",
       "      <td>-0.701890</td>\n",
       "      <td>3.455733</td>\n",
       "      <td>0.471820</td>\n",
       "      <td>5.495120e-18</td>\n",
       "    </tr>\n",
       "    <tr>\n",
       "      <th>75%</th>\n",
       "      <td>0.000399</td>\n",
       "      <td>0.954905</td>\n",
       "      <td>0.181010</td>\n",
       "      <td>-0.006013</td>\n",
       "      <td>0.912735</td>\n",
       "      <td>0.259847</td>\n",
       "      <td>6.558800</td>\n",
       "      <td>0.914314</td>\n",
       "      <td>-0.091505</td>\n",
       "      <td>6.292737</td>\n",
       "      <td>0.569895</td>\n",
       "      <td>5.809884e-10</td>\n",
       "    </tr>\n",
       "    <tr>\n",
       "      <th>max</th>\n",
       "      <td>0.010109</td>\n",
       "      <td>4.676858</td>\n",
       "      <td>3.977731</td>\n",
       "      <td>0.184428</td>\n",
       "      <td>1.800138</td>\n",
       "      <td>3.250745</td>\n",
       "      <td>10.186300</td>\n",
       "      <td>3.753299</td>\n",
       "      <td>1.903005</td>\n",
       "      <td>11.790931</td>\n",
       "      <td>0.693218</td>\n",
       "      <td>6.138402e-01</td>\n",
       "    </tr>\n",
       "  </tbody>\n",
       "</table>\n",
       "</div>"
      ],
      "text/plain": [
       "       const_beta  credit_beta  currency_beta  equity_beta  rates_beta  \\\n",
       "count   64.000000    64.000000      64.000000    64.000000   64.000000   \n",
       "mean    -0.002390     0.751348       0.106040    -0.070305    0.559986   \n",
       "std      0.008071     0.806349       0.567295     0.190735    0.553070   \n",
       "min     -0.057076    -0.273499      -0.418816    -1.346559   -1.598084   \n",
       "25%     -0.003041     0.273274      -0.130448    -0.099070    0.254424   \n",
       "50%     -0.000790     0.543780      -0.024736    -0.055490    0.565073   \n",
       "75%      0.000399     0.954905       0.181010    -0.006013    0.912735   \n",
       "max      0.010109     4.676858       3.977731     0.184428    1.800138   \n",
       "\n",
       "       const_tval  credit_tval  currency_tval  equity_tval  rates_tval  \\\n",
       "count   64.000000    64.000000      64.000000    64.000000   64.000000   \n",
       "mean    -0.372298     4.670096       0.019016    -0.773608    3.980593   \n",
       "std      1.295290     2.764371       1.439763     1.137473    3.444024   \n",
       "min     -2.738879    -1.004248      -3.662358    -3.699185   -0.839482   \n",
       "25%     -1.192815     2.151888      -1.043907    -1.500113    0.927711   \n",
       "50%     -0.447948     5.333330      -0.207836    -0.701890    3.455733   \n",
       "75%      0.259847     6.558800       0.914314    -0.091505    6.292737   \n",
       "max      3.250745    10.186300       3.753299     1.903005   11.790931   \n",
       "\n",
       "         rsq_adj      f_pvalue  \n",
       "count  64.000000  6.400000e+01  \n",
       "mean    0.423721  1.465004e-02  \n",
       "std     0.192534  7.975603e-02  \n",
       "min    -0.028561  1.721245e-47  \n",
       "25%     0.269731  1.885005e-28  \n",
       "50%     0.471820  5.495120e-18  \n",
       "75%     0.569895  5.809884e-10  \n",
       "max     0.693218  6.138402e-01  "
      ]
     },
     "execution_count": 12,
     "metadata": {},
     "output_type": "execute_result"
    }
   ],
   "source": [
    "results_df.describe()"
   ]
  },
  {
   "cell_type": "markdown",
   "id": "royal-track",
   "metadata": {},
   "source": [
    "## Regression Results by Cluster"
   ]
  },
  {
   "cell_type": "code",
   "execution_count": 13,
   "id": "helpful-baseline",
   "metadata": {},
   "outputs": [
    {
     "data": {
      "text/html": [
       "<div>\n",
       "<style scoped>\n",
       "    .dataframe tbody tr th:only-of-type {\n",
       "        vertical-align: middle;\n",
       "    }\n",
       "\n",
       "    .dataframe tbody tr th {\n",
       "        vertical-align: top;\n",
       "    }\n",
       "\n",
       "    .dataframe thead th {\n",
       "        text-align: right;\n",
       "    }\n",
       "</style>\n",
       "<table border=\"1\" class=\"dataframe\">\n",
       "  <thead>\n",
       "    <tr style=\"text-align: right;\">\n",
       "      <th></th>\n",
       "      <th>Countries</th>\n",
       "      <th>cluster_label</th>\n",
       "    </tr>\n",
       "  </thead>\n",
       "  <tbody>\n",
       "    <tr>\n",
       "      <th>0</th>\n",
       "      <td>Bulgaria</td>\n",
       "      <td>0</td>\n",
       "    </tr>\n",
       "    <tr>\n",
       "      <th>1</th>\n",
       "      <td>Bolivia</td>\n",
       "      <td>0</td>\n",
       "    </tr>\n",
       "    <tr>\n",
       "      <th>2</th>\n",
       "      <td>Ukraine</td>\n",
       "      <td>0</td>\n",
       "    </tr>\n",
       "    <tr>\n",
       "      <th>3</th>\n",
       "      <td>Venezuela</td>\n",
       "      <td>0</td>\n",
       "    </tr>\n",
       "    <tr>\n",
       "      <th>4</th>\n",
       "      <td>El Salvador</td>\n",
       "      <td>1</td>\n",
       "    </tr>\n",
       "  </tbody>\n",
       "</table>\n",
       "</div>"
      ],
      "text/plain": [
       "     Countries  cluster_label\n",
       "0     Bulgaria              0\n",
       "1      Bolivia              0\n",
       "2      Ukraine              0\n",
       "3    Venezuela              0\n",
       "4  El Salvador              1"
      ]
     },
     "execution_count": 13,
     "metadata": {},
     "output_type": "execute_result"
    }
   ],
   "source": [
    "bond_idx_clusters = pd.read_pickle(os.path.join(cluster_path, 'clusters_bond_idx_ret_full.pkl'))\n",
    "bond_idx_clusters.head()"
   ]
  },
  {
   "cell_type": "code",
   "execution_count": 14,
   "id": "optical-malpractice",
   "metadata": {},
   "outputs": [],
   "source": [
    "results_with_cluster = results_df.merge(bond_idx_clusters, left_on='country', right_on='Countries')"
   ]
  },
  {
   "cell_type": "code",
   "execution_count": 15,
   "id": "expected-willow",
   "metadata": {},
   "outputs": [],
   "source": [
    "beta_reformatted = results_with_cluster.set_index('cluster_label')[beta_cols].stack().to_frame().reset_index()\n",
    "beta_reformatted.columns = ['cluster', 'beta', 'value']"
   ]
  },
  {
   "cell_type": "code",
   "execution_count": 16,
   "id": "limiting-brooklyn",
   "metadata": {},
   "outputs": [
    {
     "data": {
      "image/png": "[encoded data removed]",
      "text/plain": [
       "<Figure size 864x432 with 1 Axes>"
      ]
     },
     "metadata": {},
     "output_type": "display_data"
    }
   ],
   "source": [
    "fig, ax = plt.subplots(figsize=(12, 6))\n",
    "ax = sns.barplot(x='beta', y='value', data=beta_reformatted, hue='cluster')"
   ]
  },
  {
   "cell_type": "code",
   "execution_count": 17,
   "id": "damaged-listing",
   "metadata": {},
   "outputs": [],
   "source": [
    "tval_reformatted = results_with_cluster.set_index('cluster_label')[tval_cols].stack().to_frame().reset_index()\n",
    "tval_reformatted.columns = ['cluster', 'tval', 'value']"
   ]
  },
  {
   "cell_type": "code",
   "execution_count": 18,
   "id": "mental-starter",
   "metadata": {},
   "outputs": [
    {
     "data": {
      "image/png": "[encoded data removed]",
      "text/plain": [
       "<Figure size 864x432 with 1 Axes>"
      ]
     },
     "metadata": {},
     "output_type": "display_data"
    }
   ],
   "source": [
    "fig, ax = plt.subplots(figsize=(12, 6))\n",
    "ax = sns.barplot(x='tval', y='value', data=tval_reformatted, hue='cluster')"
   ]
  },
  {
   "cell_type": "code",
   "execution_count": 19,
   "id": "tight-discount",
   "metadata": {},
   "outputs": [],
   "source": [
    "beta_df = results_with_cluster.set_index('country')[beta_cols].T"
   ]
  },
  {
   "cell_type": "code",
   "execution_count": 20,
   "id": "bored-liberty",
   "metadata": {},
   "outputs": [],
   "source": [
    "tval_df = results_with_cluster.set_index('country')[tval_cols].T"
   ]
  },
  {
   "cell_type": "code",
   "execution_count": 21,
   "id": "rough-isolation",
   "metadata": {},
   "outputs": [],
   "source": [
    "def plot_cluster_betas(clusters_df, betas_df, cluster_n, ylim, ytitle):\n",
    "    # Plot betas for each cluster\n",
    "    cluster_list = list(clusters_df[clusters_df['cluster_label']==cluster_n]['Countries'])\n",
    "    betas_df_tmp = betas_df[cluster_list]\n",
    "    \n",
    "    #no_const = betas_df_tmp.T[betas_df_tmp.T.columns[~betas_df_tmp.T.columns.isin(['const'])]]\n",
    "    betas_df_tmp.T.plot(kind='bar', rot=0, figsize=(16,3))\n",
    "    plt.legend(loc='upper left')\n",
    "    plt.ylabel(ytitle)\n",
    "    plt.ylim(-ylim,ylim)\n",
    "\n",
    "def plot_multiple_clusters(clusters_df, betas_df, ylim, ytitle):\n",
    "    all_cluster_labels = list(clusters_df['cluster_label'].unique())\n",
    "    #fig, ax = plt.subplots(nrows=len(all_cluster_labels), constrained_layout=True, figsize=(12,8))\n",
    "    for label_ in all_cluster_labels:\n",
    "        plot_cluster_betas(clusters_df, betas_df, label_, ylim, ytitle)"
   ]
  },
  {
   "cell_type": "code",
   "execution_count": 22,
   "id": "polyphonic-roulette",
   "metadata": {},
   "outputs": [
    {
     "data": {
      "image/png": "[encoded data removed]",
      "text/plain": [
       "<Figure size 1152x216 with 1 Axes>"
      ]
     },
     "metadata": {},
     "output_type": "display_data"
    },
    {
     "data": {
      "image/png": "[encoded data removed]",
      "text/plain": [
       "<Figure size 1152x216 with 1 Axes>"
      ]
     },
     "metadata": {},
     "output_type": "display_data"
    },
    {
     "data": {
      "image/png": "[encoded data removed]",
      "text/plain": [
       "<Figure size 1152x216 with 1 Axes>"
      ]
     },
     "metadata": {},
     "output_type": "display_data"
    },
    {
     "data": {
      "image/png": "[encoded data removed]",
      "text/plain": [
       "<Figure size 1152x216 with 1 Axes>"
      ]
     },
     "metadata": {},
     "output_type": "display_data"
    }
   ],
   "source": [
    "plot_multiple_clusters(results_with_cluster, beta_df, 2, 'Betas')"
   ]
  },
  {
   "cell_type": "code",
   "execution_count": 23,
   "id": "weighted-stability",
   "metadata": {},
   "outputs": [
    {
     "data": {
      "image/png": "[encoded data removed]",
      "text/plain": [
       "<Figure size 1152x216 with 1 Axes>"
      ]
     },
     "metadata": {},
     "output_type": "display_data"
    },
    {
     "data": {
      "image/png": "[encoded data removed]",
      "text/plain": [
       "<Figure size 1152x216 with 1 Axes>"
      ]
     },
     "metadata": {},
     "output_type": "display_data"
    },
    {
     "data": {
      "image/png": "[encoded data removed]",
      "text/plain": [
       "<Figure size 1152x216 with 1 Axes>"
      ]
     },
     "metadata": {},
     "output_type": "display_data"
    },
    {
     "data": {
      "image/png": "[encoded data removed]",
      "text/plain": [
       "<Figure size 1152x216 with 1 Axes>"
      ]
     },
     "metadata": {},
     "output_type": "display_data"
    }
   ],
   "source": [
    "plot_multiple_clusters(results_with_cluster, tval_df, 15, 'Tvalues')"
   ]
  },
  {
   "cell_type": "markdown",
   "id": "negative-wright",
   "metadata": {},
   "source": [
    "## Construct Style Factors"
   ]
  },
  {
   "cell_type": "markdown",
   "id": "vietnamese-airplane",
   "metadata": {},
   "source": [
    "### Load index characteristics data"
   ]
  },
  {
   "cell_type": "code",
   "execution_count": 24,
   "id": "running-looking",
   "metadata": {},
   "outputs": [],
   "source": [
    "# read oas over gov data for all sov bond indices\n",
    "oas1 = pd.read_csv(os.path.join(style_data_path, 'sov_bond_stats1.csv'), header=1, parse_dates=[0], nrows=7574, skipinitialspace=True)\n",
    "oas1.dropna(axis=1, how=\"all\", inplace=True) # delete empty column\n",
    "\n",
    "oas2 = pd.read_csv(os.path.join(style_data_path, 'sov_bond_stats2.csv'), header=1, parse_dates=[0], nrows=7552, skipinitialspace=True)\n",
    "oas2.dropna(axis=1, how=\"all\", inplace=True)\n",
    "\n",
    "oas3 = pd.read_csv(os.path.join(style_data_path, 'sov_bond_stats3.csv'), header=1, parse_dates=[0], nrows=6764, skipinitialspace=True)\n",
    "oas3.dropna(axis=1, how=\"all\", inplace=True)\n",
    "\n",
    "oas4 = pd.read_csv(os.path.join(style_data_path, 'sov_bond_stats4.csv'), header=1, parse_dates=[0], nrows=6912, skipinitialspace=True)\n",
    "oas4.dropna(axis=1, how=\"all\", inplace=True)\n",
    "\n",
    "oas = oas1[oas1['Date'] > start_date].merge(oas2, on='Date').merge(oas3, on='Date').merge(oas4, on='Date')\n",
    "oas_monthly = oas.set_index('Date').resample('M').last()\n",
    "oas_monthly.columns = oas_monthly.columns + ' Index'"
   ]
  },
  {
   "cell_type": "code",
   "execution_count": 29,
   "id": "willing-afternoon",
   "metadata": {},
   "outputs": [],
   "source": [
    "# read foreign currency long term bond Moody's rating data\n",
    "rating = pd.read_csv(os.path.join(style_data_path, 'sov_bond_rating.csv'), parse_dates=[2])\n",
    "rating_unstacked = rating.set_index(['action_date', 'country']).unstack()['rating']\n",
    "rating_daily = rating_unstacked.resample('D').ffill()\n",
    "rating_daily = rating_daily.fillna(method='ffill')\n",
    "rating_monthly = rating_daily[rating_daily.index > start_date].resample('M').last()"
   ]
  },
  {
   "cell_type": "code",
   "execution_count": 46,
   "id": "outside-czech",
   "metadata": {},
   "outputs": [],
   "source": [
    "rating_monthly = rating_monthly.iloc[:-1, :] # drop 2020-Feb data to align with index data "
   ]
  },
  {
   "cell_type": "code",
   "execution_count": 47,
   "id": "detailed-oriental",
   "metadata": {},
   "outputs": [],
   "source": [
    "# # read sovereign bond index full market value data\n",
    "# mv1 = pd.read_csv(os.path.join(style_data_path, 'sov_bond_value1.csv'), header=1, parse_dates=[0], nrows=350, skipinitialspace=True)\n",
    "# mv1.dropna(axis=1, how=\"all\", inplace=True) # delete empty column\n",
    "\n",
    "# mv2 = pd.read_csv(os.path.join(style_data_path, 'sov_bond_value2.csv'), header=1, parse_dates=[0], nrows=349, skipinitialspace=True)\n",
    "# mv2.dropna(axis=1, how=\"all\", inplace=True)\n",
    "\n",
    "# mv3 = pd.read_csv(os.path.join(style_data_path, 'sov_bond_value3.csv'), header=1, parse_dates=[0], nrows=316, skipinitialspace=True)\n",
    "# mv3.dropna(axis=1, how=\"all\", inplace=True)\n",
    "\n",
    "# mv4 = pd.read_csv(os.path.join(style_data_path, 'sov_bond_value4.csv'), header=1, parse_dates=[0], nrows=350, skipinitialspace=True)\n",
    "# mv4.dropna(axis=1, how=\"all\", inplace=True)\n",
    "\n",
    "# mv = mv1[mv1['Date'] > start_date].merge(mv2, on='Date').merge(mv3, on='Date').merge(mv4, on='Date')\n",
    "# mv_monthly = mv.set_index('Date').resample('M').last()\n",
    "# mv_monthly.columns = mv_monthly.columns + ' Index'"
   ]
  },
  {
   "cell_type": "markdown",
   "id": "reliable-variation",
   "metadata": {},
   "source": [
    "dur: 355, 354, 321, 355\n",
    "\n",
    "maturity: 709, 707, 641, 709"
   ]
  },
  {
   "cell_type": "code",
   "execution_count": 48,
   "id": "living-spanish",
   "metadata": {},
   "outputs": [],
   "source": [
    "# read weighted average dur data\n",
    "dur1 = pd.read_csv(os.path.join(style_data_path, 'sov_bond_value1.csv'), skiprows=355, header=0, parse_dates=[0], nrows=350, skipinitialspace=True)\n",
    "dur1.dropna(axis=1, how=\"all\", inplace=True)\n",
    "\n",
    "dur2 = pd.read_csv(os.path.join(style_data_path, 'sov_bond_value2.csv'), skiprows=354, header=0, parse_dates=[0], nrows=349, skipinitialspace=True)\n",
    "dur2.dropna(axis=1, how=\"all\", inplace=True)\n",
    "\n",
    "dur3 = pd.read_csv(os.path.join(style_data_path, 'sov_bond_value3.csv'), skiprows=321, header=0, parse_dates=[0], nrows=316, skipinitialspace=True)\n",
    "dur3.dropna(axis=1, how=\"all\", inplace=True)\n",
    "\n",
    "dur4 = pd.read_csv(os.path.join(style_data_path, 'sov_bond_value4.csv'), skiprows=355, header=0, parse_dates=[0], nrows=350, skipinitialspace=True)\n",
    "dur4.dropna(axis=1, how=\"all\", inplace=True)\n",
    "\n",
    "dur = dur1[dur1['Date'] > start_date].merge(dur2, on='Date').merge(dur3, on='Date').merge(dur4, on='Date')\n",
    "dur_monthly = dur.set_index('Date').resample('M').last()\n",
    "dur_monthly.columns = dur_monthly.columns + ' Index'"
   ]
  },
  {
   "cell_type": "code",
   "execution_count": 49,
   "id": "elementary-editing",
   "metadata": {},
   "outputs": [
    {
     "data": {
      "text/plain": [
       "GDMZ Index    181\n",
       "GDDZ Index    173\n",
       "GDTH Index    164\n",
       "GDFJ Index    160\n",
       "GDES Index    159\n",
       "             ... \n",
       "GDRU Index      0\n",
       "GDKR Index      0\n",
       "GDIL Index      0\n",
       "GDZA Index      0\n",
       "GDID Index      0\n",
       "Length: 77, dtype: int64"
      ]
     },
     "execution_count": 49,
     "metadata": {},
     "output_type": "execute_result"
    }
   ],
   "source": [
    "dur_monthly[ticker_dict].isna().sum().sort_values(ascending=False)"
   ]
  },
  {
   "cell_type": "code",
   "execution_count": 50,
   "id": "fossil-guyana",
   "metadata": {},
   "outputs": [
    {
     "data": {
      "text/plain": [
       "<AxesSubplot:xlabel='Date'>"
      ]
     },
     "execution_count": 50,
     "metadata": {},
     "output_type": "execute_result"
    },
    {
     "data": {
      "image/png": "[encoded data removed]",
      "text/plain": [
       "<Figure size 432x288 with 1 Axes>"
      ]
     },
     "metadata": {},
     "output_type": "display_data"
    }
   ],
   "source": [
    "dur_monthly.iloc[:, :5].plot()"
   ]
  },
  {
   "cell_type": "markdown",
   "id": "social-better",
   "metadata": {},
   "source": [
    "### Filter for countries with cluster results"
   ]
  },
  {
   "cell_type": "code",
   "execution_count": 51,
   "id": "younger-attribute",
   "metadata": {},
   "outputs": [],
   "source": [
    "oas_monthly.columns = oas_monthly.columns.map(ticker_dict)\n",
    "# mv_monthly.columns = mv_monthly.columns.map(ticker_dict)\n",
    "dur_monthly.columns = dur_monthly.columns.map(ticker_dict)"
   ]
  },
  {
   "cell_type": "code",
   "execution_count": 52,
   "id": "about-sullivan",
   "metadata": {},
   "outputs": [],
   "source": [
    "rating_monthly.rename(columns={'Korea':'South Korea'}, inplace=True)\n",
    "rating_monthly_selected = rating_monthly[results_with_cluster['country']]"
   ]
  },
  {
   "cell_type": "code",
   "execution_count": 53,
   "id": "gross-regulation",
   "metadata": {},
   "outputs": [],
   "source": [
    "oas_monthly_selected = oas_monthly[results_with_cluster['country']]\n",
    "# mv_monthly_selected = mv_monthly[results_with_cluster['country']]\n",
    "dur_monthly_selected = dur_monthly[results_with_cluster['country']]"
   ]
  },
  {
   "cell_type": "markdown",
   "id": "empirical-inquiry",
   "metadata": {},
   "source": [
    "### Prepare measurement of value factor"
   ]
  },
  {
   "cell_type": "code",
   "execution_count": 54,
   "id": "abstract-marsh",
   "metadata": {},
   "outputs": [],
   "source": [
    "oas_monthly_selected.columns = pd.MultiIndex.from_product([['oas'], oas_monthly_selected.columns])\n",
    "dur_monthly_selected.columns = pd.MultiIndex.from_product([['dur'], dur_monthly_selected.columns])\n",
    "rating_monthly_selected.columns = pd.MultiIndex.from_product([['rating'], rating_monthly_selected.columns])"
   ]
  },
  {
   "cell_type": "code",
   "execution_count": 55,
   "id": "solved-accountability",
   "metadata": {},
   "outputs": [
    {
     "data": {
      "text/plain": [
       "<AxesSubplot:xlabel='Date'>"
      ]
     },
     "execution_count": 55,
     "metadata": {},
     "output_type": "execute_result"
    },
    {
     "data": {
      "image/png": "[encoded data removed]",
      "text/plain": [
       "<Figure size 432x288 with 1 Axes>"
      ]
     },
     "metadata": {},
     "output_type": "display_data"
    }
   ],
   "source": [
    "value_data = oas_monthly_selected.join(dur_monthly_selected).join(rating_monthly_selected)\n",
    "value_data.columns = value_data.columns.sort_values()\n",
    "value_data.replace(0, np.nan, inplace=True)\n",
    "\n",
    "# check number of missing countries\n",
    "value_data.T.groupby(level=0).apply(lambda x:x.isna().sum()).T.plot()"
   ]
  },
  {
   "cell_type": "code",
   "execution_count": 56,
   "id": "innocent-sleeve",
   "metadata": {},
   "outputs": [],
   "source": [
    "import statsmodels.formula.api as smf\n",
    "from patsy.contrasts import Diff"
   ]
  },
  {
   "cell_type": "code",
   "execution_count": 62,
   "id": "known-compact",
   "metadata": {},
   "outputs": [
    {
     "data": {
      "text/plain": [
       "array(['Ba2', 'B3', 'B2', 'Baa1', 'A2', 'Ba1', 'B1', 'A1', 'A3', 'Baa2',\n",
       "       'Ba3', 'Baa3', 'Caa1'], dtype=object)"
      ]
     },
     "execution_count": 62,
     "metadata": {},
     "output_type": "execute_result"
    }
   ],
   "source": [
    "value_data['rating'].iloc[0].unique()"
   ]
  },
  {
   "cell_type": "code",
   "execution_count": null,
   "id": "prescription-republican",
   "metadata": {},
   "outputs": [],
   "source": []
  },
  {
   "cell_type": "code",
   "execution_count": 55,
   "id": "blond-german",
   "metadata": {},
   "outputs": [],
   "source": [
    "value_residuals = pd.DataFrame()\n",
    "\n",
    "for index, row in value_data.iterrows():\n",
    "    \n",
    "    temp = row.unstack(level=0).dropna()\n",
    "    if len(temp) > 24:\n",
    "        # y = temp['oas']\n",
    "        # X = temp[['dur', 'rating']]\n",
    "        temp[['oas', 'dur']] = temp[['oas', 'dur']].astype('float')\n",
    "        mod = smf.ols(formula=\"oas ~ dur + C(rating)\", data=temp)\n",
    "        res = mod.fit()\n",
    "        res_df = pd.DataFrame(data=res.resid, columns=[index]).T\n",
    "        value_residuals = value_residuals.append(res_df)\n",
    "    "
   ]
  },
  {
   "cell_type": "markdown",
   "id": "portable-friend",
   "metadata": {},
   "source": [
    "### Prepare measurement of momentum factor"
   ]
  },
  {
   "cell_type": "code",
   "execution_count": 56,
   "id": "reflected-watson",
   "metadata": {},
   "outputs": [],
   "source": [
    "# change bond return dataframe column names from tickers to countries to align with factor dataframes\n",
    "bnd_index_excess_ret.columns = bnd_index_excess_ret.columns.map(ticker_dict)"
   ]
  },
  {
   "cell_type": "code",
   "execution_count": 57,
   "id": "large-mercury",
   "metadata": {},
   "outputs": [],
   "source": [
    "momentum = bnd_index_excess_ret.rolling(window=11).mean().shift(1)"
   ]
  },
  {
   "cell_type": "code",
   "execution_count": 58,
   "id": "quiet-falls",
   "metadata": {},
   "outputs": [],
   "source": [
    "momentum_selected = momentum.loc[oas_monthly_selected.index, oas_monthly_selected.columns]"
   ]
  },
  {
   "cell_type": "markdown",
   "id": "alternate-fishing",
   "metadata": {},
   "source": [
    "### Construct factors and show their performances"
   ]
  },
  {
   "cell_type": "code",
   "execution_count": 59,
   "id": "casual-richards",
   "metadata": {},
   "outputs": [],
   "source": [
    "def construct_factor(df_factor_measure, df_return_all, ascending):\n",
    "    \n",
    "    df_rank = df_factor_measure.rank(axis=1, ascending=ascending, pct=True)\n",
    "\n",
    "    df_pos = df_rank.applymap(lambda x:1 if x <= 1/3 else 0)\n",
    "    df_neg = df_rank.applymap(lambda x:-1 if x > 2/3 else 0)\n",
    "    \n",
    "    df_return = df_return_all.loc[df_factor_measure.index, df_factor_measure.columns]\n",
    "\n",
    "    df_pos_ret_country = df_pos.multiply(df_return).div(df_pos.sum(axis=1), axis=0)\n",
    "    df_pos_ret = df_pos_ret_country.sum(axis=1)\n",
    "    \n",
    "    df_neg_ret_country = df_neg.multiply(df_return).div(-df_neg.sum(axis=1), axis=0)\n",
    "    df_neg_ret = df_neg_ret_country.sum(axis=1)\n",
    "    \n",
    "    df_factor_ret = df_pos_ret + df_neg_ret\n",
    "    df_port = df_pos + df_neg\n",
    "    \n",
    "    return df_factor_ret, df_port"
   ]
  },
  {
   "cell_type": "code",
   "execution_count": 60,
   "id": "economic-revolution",
   "metadata": {},
   "outputs": [],
   "source": [
    "dur_factor_ret, dur_factor_port = construct_factor(mv_monthly_selected, bnd_index_excess_ret, ascending=False)\n",
    "carry_factor_ret, carry_factor_port = construct_factor(oas_monthly_selected['oas'], bnd_index_excess_ret, ascending=False)\n",
    "value_factor_ret, value_factor_port = construct_factor(value_residuals, bnd_index_excess_ret, ascending=False)\n",
    "mom_factor_ret, mom_factor_port = construct_factor(momentum_selected, bnd_index_excess_ret, ascending=False)"
   ]
  },
  {
   "cell_type": "code",
   "execution_count": 61,
   "id": "intimate-yeast",
   "metadata": {},
   "outputs": [],
   "source": [
    "eqw_ret = bnd_index_excess_ret.mean(axis=1)\n",
    "eqw_ret.name = 'equal_weighted_ret'"
   ]
  },
  {
   "cell_type": "code",
   "execution_count": 62,
   "id": "negative-found",
   "metadata": {},
   "outputs": [],
   "source": [
    "style_factor_ret = pd.concat([size_factor_ret, carry_factor_ret, value_factor_ret, mom_factor_ret], axis=1)\n",
    "style_factor_ret.columns = ['size', 'carry', 'value', 'momentum']"
   ]
  },
  {
   "cell_type": "code",
   "execution_count": 63,
   "id": "sealed-species",
   "metadata": {},
   "outputs": [],
   "source": [
    "style_factor_ret = style_factor_ret.join(eqw_ret)"
   ]
  },
  {
   "cell_type": "code",
   "execution_count": 64,
   "id": "indirect-entertainment",
   "metadata": {},
   "outputs": [
    {
     "data": {
      "text/plain": [
       "<AxesSubplot:>"
      ]
     },
     "execution_count": 64,
     "metadata": {},
     "output_type": "execute_result"
    },
    {
     "data": {
      "image/png": "[encoded data removed]",
      "text/plain": [
       "<Figure size 864x576 with 1 Axes>"
      ]
     },
     "metadata": {},
     "output_type": "display_data"
    }
   ],
   "source": [
    "fig, ax = plt.subplots(figsize=(12, 8))\n",
    "style_factor_cumret = ((1 + style_factor_ret).cumprod() - 1)\n",
    "style_factor_cumret.plot(ax=ax)"
   ]
  },
  {
   "cell_type": "markdown",
   "id": "actual-supplier",
   "metadata": {},
   "source": [
    "### Plot summary statistics of bond index returns and factor performance"
   ]
  },
  {
   "cell_type": "code",
   "execution_count": 65,
   "id": "latin-sunrise",
   "metadata": {},
   "outputs": [],
   "source": [
    "def display_single_factor_performance(df, frequency):\n",
    "    \n",
    "    if frequency == 'M':\n",
    "        df_mean = df.mean() * 12\n",
    "        df_mean.name = 'Avg Return'\n",
    "        df_vol = df.std() * np.sqrt(12)\n",
    "        df_vol.name = 'Volatility'\n",
    "        df_sr = df_mean / df_vol\n",
    "        df_sr.name = 'Sharpe Ratio'\n",
    "        \n",
    "    df_result = df_mean.to_frame().join(df_vol).join(df_sr)\n",
    "    # df_result.columns = ['Avg return', 'Volatility', 'Sharpe ratio']\n",
    "    \n",
    "    return df_result.round(3)"
   ]
  },
  {
   "cell_type": "code",
   "execution_count": 66,
   "id": "first-football",
   "metadata": {},
   "outputs": [
    {
     "data": {
      "text/html": [
       "<div>\n",
       "<style scoped>\n",
       "    .dataframe tbody tr th:only-of-type {\n",
       "        vertical-align: middle;\n",
       "    }\n",
       "\n",
       "    .dataframe tbody tr th {\n",
       "        vertical-align: top;\n",
       "    }\n",
       "\n",
       "    .dataframe thead th {\n",
       "        text-align: right;\n",
       "    }\n",
       "</style>\n",
       "<table border=\"1\" class=\"dataframe\">\n",
       "  <thead>\n",
       "    <tr style=\"text-align: right;\">\n",
       "      <th></th>\n",
       "      <th>Avg Return</th>\n",
       "      <th>Volatility</th>\n",
       "      <th>Sharpe Ratio</th>\n",
       "    </tr>\n",
       "  </thead>\n",
       "  <tbody>\n",
       "    <tr>\n",
       "      <th>credit</th>\n",
       "      <td>6.992</td>\n",
       "      <td>9.686</td>\n",
       "      <td>0.722</td>\n",
       "    </tr>\n",
       "    <tr>\n",
       "      <th>currency</th>\n",
       "      <td>2.707</td>\n",
       "      <td>6.750</td>\n",
       "      <td>0.401</td>\n",
       "    </tr>\n",
       "    <tr>\n",
       "      <th>equity</th>\n",
       "      <td>7.871</td>\n",
       "      <td>14.201</td>\n",
       "      <td>0.554</td>\n",
       "    </tr>\n",
       "    <tr>\n",
       "      <th>rates</th>\n",
       "      <td>4.432</td>\n",
       "      <td>4.372</td>\n",
       "      <td>1.014</td>\n",
       "    </tr>\n",
       "  </tbody>\n",
       "</table>\n",
       "</div>"
      ],
      "text/plain": [
       "          Avg Return  Volatility  Sharpe Ratio\n",
       "credit         6.992       9.686         0.722\n",
       "currency       2.707       6.750         0.401\n",
       "equity         7.871      14.201         0.554\n",
       "rates          4.432       4.372         1.014"
      ]
     },
     "execution_count": 66,
     "metadata": {},
     "output_type": "execute_result"
    }
   ],
   "source": [
    "macro_performance = display_single_factor_performance(macro_factors_ret * 100, frequency='M')\n",
    "macro_performance"
   ]
  },
  {
   "cell_type": "code",
   "execution_count": 67,
   "id": "greatest-oriental",
   "metadata": {},
   "outputs": [
    {
     "data": {
      "text/html": [
       "<div>\n",
       "<style scoped>\n",
       "    .dataframe tbody tr th:only-of-type {\n",
       "        vertical-align: middle;\n",
       "    }\n",
       "\n",
       "    .dataframe tbody tr th {\n",
       "        vertical-align: top;\n",
       "    }\n",
       "\n",
       "    .dataframe thead th {\n",
       "        text-align: right;\n",
       "    }\n",
       "</style>\n",
       "<table border=\"1\" class=\"dataframe\">\n",
       "  <thead>\n",
       "    <tr style=\"text-align: right;\">\n",
       "      <th></th>\n",
       "      <th>Avg Return</th>\n",
       "      <th>Volatility</th>\n",
       "      <th>Sharpe Ratio</th>\n",
       "    </tr>\n",
       "  </thead>\n",
       "  <tbody>\n",
       "    <tr>\n",
       "      <th>size</th>\n",
       "      <td>3.694</td>\n",
       "      <td>12.689</td>\n",
       "      <td>0.291</td>\n",
       "    </tr>\n",
       "    <tr>\n",
       "      <th>carry</th>\n",
       "      <td>-1.734</td>\n",
       "      <td>13.790</td>\n",
       "      <td>-0.126</td>\n",
       "    </tr>\n",
       "    <tr>\n",
       "      <th>value</th>\n",
       "      <td>5.286</td>\n",
       "      <td>9.130</td>\n",
       "      <td>0.579</td>\n",
       "    </tr>\n",
       "    <tr>\n",
       "      <th>momentum</th>\n",
       "      <td>0.350</td>\n",
       "      <td>9.272</td>\n",
       "      <td>0.038</td>\n",
       "    </tr>\n",
       "  </tbody>\n",
       "</table>\n",
       "</div>"
      ],
      "text/plain": [
       "          Avg Return  Volatility  Sharpe Ratio\n",
       "size           3.694      12.689         0.291\n",
       "carry         -1.734      13.790        -0.126\n",
       "value          5.286       9.130         0.579\n",
       "momentum       0.350       9.272         0.038"
      ]
     },
     "execution_count": 67,
     "metadata": {},
     "output_type": "execute_result"
    }
   ],
   "source": [
    "style_performance = display_single_factor_performance(style_factor_ret.iloc[:, :-1] * 100, frequency='M')\n",
    "style_performance"
   ]
  },
  {
   "cell_type": "code",
   "execution_count": 68,
   "id": "informational-amateur",
   "metadata": {},
   "outputs": [],
   "source": [
    "bnd_index_ret.columns = bnd_index_ret.columns.map(ticker_dict)"
   ]
  },
  {
   "cell_type": "code",
   "execution_count": 69,
   "id": "opposed-pavilion",
   "metadata": {},
   "outputs": [],
   "source": [
    "bnd_index_ret_selected = bnd_index_ret.loc[bnd_index_ret.index > start_date, results_with_cluster['country']]"
   ]
  },
  {
   "cell_type": "code",
   "execution_count": 70,
   "id": "pregnant-letter",
   "metadata": {},
   "outputs": [
    {
     "data": {
      "text/html": [
       "<div>\n",
       "<style scoped>\n",
       "    .dataframe tbody tr th:only-of-type {\n",
       "        vertical-align: middle;\n",
       "    }\n",
       "\n",
       "    .dataframe tbody tr th {\n",
       "        vertical-align: top;\n",
       "    }\n",
       "\n",
       "    .dataframe thead th {\n",
       "        text-align: right;\n",
       "    }\n",
       "</style>\n",
       "<table border=\"1\" class=\"dataframe\">\n",
       "  <thead>\n",
       "    <tr style=\"text-align: right;\">\n",
       "      <th></th>\n",
       "      <th>count</th>\n",
       "      <th>mean</th>\n",
       "      <th>std</th>\n",
       "      <th>min</th>\n",
       "      <th>25%</th>\n",
       "      <th>50%</th>\n",
       "      <th>75%</th>\n",
       "      <th>max</th>\n",
       "    </tr>\n",
       "  </thead>\n",
       "  <tbody>\n",
       "    <tr>\n",
       "      <th>Bulgaria</th>\n",
       "      <td>124.0</td>\n",
       "      <td>0.005</td>\n",
       "      <td>0.021</td>\n",
       "      <td>-0.147</td>\n",
       "      <td>-0.002</td>\n",
       "      <td>0.006</td>\n",
       "      <td>0.013</td>\n",
       "      <td>0.059</td>\n",
       "    </tr>\n",
       "    <tr>\n",
       "      <th>Bolivia</th>\n",
       "      <td>164.0</td>\n",
       "      <td>-0.025</td>\n",
       "      <td>0.434</td>\n",
       "      <td>-1.386</td>\n",
       "      <td>-0.288</td>\n",
       "      <td>-0.080</td>\n",
       "      <td>0.223</td>\n",
       "      <td>1.861</td>\n",
       "    </tr>\n",
       "    <tr>\n",
       "      <th>Brazil</th>\n",
       "      <td>208.0</td>\n",
       "      <td>0.007</td>\n",
       "      <td>0.028</td>\n",
       "      <td>-0.100</td>\n",
       "      <td>-0.007</td>\n",
       "      <td>0.010</td>\n",
       "      <td>0.023</td>\n",
       "      <td>0.130</td>\n",
       "    </tr>\n",
       "    <tr>\n",
       "      <th>Chile</th>\n",
       "      <td>208.0</td>\n",
       "      <td>0.004</td>\n",
       "      <td>0.016</td>\n",
       "      <td>-0.045</td>\n",
       "      <td>-0.004</td>\n",
       "      <td>0.005</td>\n",
       "      <td>0.013</td>\n",
       "      <td>0.063</td>\n",
       "    </tr>\n",
       "    <tr>\n",
       "      <th>China</th>\n",
       "      <td>109.0</td>\n",
       "      <td>0.004</td>\n",
       "      <td>0.010</td>\n",
       "      <td>-0.032</td>\n",
       "      <td>-0.001</td>\n",
       "      <td>0.003</td>\n",
       "      <td>0.009</td>\n",
       "      <td>0.049</td>\n",
       "    </tr>\n",
       "    <tr>\n",
       "      <th>Colombia</th>\n",
       "      <td>208.0</td>\n",
       "      <td>0.006</td>\n",
       "      <td>0.027</td>\n",
       "      <td>-0.141</td>\n",
       "      <td>-0.006</td>\n",
       "      <td>0.008</td>\n",
       "      <td>0.020</td>\n",
       "      <td>0.105</td>\n",
       "    </tr>\n",
       "    <tr>\n",
       "      <th>Costa Rica</th>\n",
       "      <td>208.0</td>\n",
       "      <td>0.005</td>\n",
       "      <td>0.030</td>\n",
       "      <td>-0.197</td>\n",
       "      <td>-0.003</td>\n",
       "      <td>0.007</td>\n",
       "      <td>0.016</td>\n",
       "      <td>0.075</td>\n",
       "    </tr>\n",
       "    <tr>\n",
       "      <th>Dominican Republic</th>\n",
       "      <td>208.0</td>\n",
       "      <td>0.008</td>\n",
       "      <td>0.051</td>\n",
       "      <td>-0.499</td>\n",
       "      <td>-0.006</td>\n",
       "      <td>0.007</td>\n",
       "      <td>0.026</td>\n",
       "      <td>0.173</td>\n",
       "    </tr>\n",
       "    <tr>\n",
       "      <th>Egypt</th>\n",
       "      <td>208.0</td>\n",
       "      <td>0.005</td>\n",
       "      <td>0.032</td>\n",
       "      <td>-0.174</td>\n",
       "      <td>-0.003</td>\n",
       "      <td>0.006</td>\n",
       "      <td>0.016</td>\n",
       "      <td>0.098</td>\n",
       "    </tr>\n",
       "    <tr>\n",
       "      <th>Guatemala</th>\n",
       "      <td>208.0</td>\n",
       "      <td>0.006</td>\n",
       "      <td>0.024</td>\n",
       "      <td>-0.186</td>\n",
       "      <td>-0.001</td>\n",
       "      <td>0.009</td>\n",
       "      <td>0.017</td>\n",
       "      <td>0.061</td>\n",
       "    </tr>\n",
       "    <tr>\n",
       "      <th>Hungary</th>\n",
       "      <td>208.0</td>\n",
       "      <td>0.005</td>\n",
       "      <td>0.030</td>\n",
       "      <td>-0.263</td>\n",
       "      <td>-0.002</td>\n",
       "      <td>0.004</td>\n",
       "      <td>0.016</td>\n",
       "      <td>0.143</td>\n",
       "    </tr>\n",
       "    <tr>\n",
       "      <th>Indonesia</th>\n",
       "      <td>208.0</td>\n",
       "      <td>0.006</td>\n",
       "      <td>0.037</td>\n",
       "      <td>-0.294</td>\n",
       "      <td>-0.007</td>\n",
       "      <td>0.007</td>\n",
       "      <td>0.020</td>\n",
       "      <td>0.233</td>\n",
       "    </tr>\n",
       "    <tr>\n",
       "      <th>Israel</th>\n",
       "      <td>208.0</td>\n",
       "      <td>0.005</td>\n",
       "      <td>0.013</td>\n",
       "      <td>-0.067</td>\n",
       "      <td>-0.001</td>\n",
       "      <td>0.006</td>\n",
       "      <td>0.011</td>\n",
       "      <td>0.058</td>\n",
       "    </tr>\n",
       "    <tr>\n",
       "      <th>Jamaica</th>\n",
       "      <td>208.0</td>\n",
       "      <td>0.009</td>\n",
       "      <td>0.033</td>\n",
       "      <td>-0.242</td>\n",
       "      <td>-0.001</td>\n",
       "      <td>0.011</td>\n",
       "      <td>0.022</td>\n",
       "      <td>0.108</td>\n",
       "    </tr>\n",
       "    <tr>\n",
       "      <th>South Korea</th>\n",
       "      <td>208.0</td>\n",
       "      <td>0.004</td>\n",
       "      <td>0.017</td>\n",
       "      <td>-0.125</td>\n",
       "      <td>-0.003</td>\n",
       "      <td>0.004</td>\n",
       "      <td>0.011</td>\n",
       "      <td>0.089</td>\n",
       "    </tr>\n",
       "    <tr>\n",
       "      <th>Lebanon</th>\n",
       "      <td>199.0</td>\n",
       "      <td>-0.003</td>\n",
       "      <td>0.052</td>\n",
       "      <td>-0.432</td>\n",
       "      <td>-0.001</td>\n",
       "      <td>0.006</td>\n",
       "      <td>0.014</td>\n",
       "      <td>0.079</td>\n",
       "    </tr>\n",
       "    <tr>\n",
       "      <th>Mexico</th>\n",
       "      <td>208.0</td>\n",
       "      <td>0.005</td>\n",
       "      <td>0.025</td>\n",
       "      <td>-0.100</td>\n",
       "      <td>-0.006</td>\n",
       "      <td>0.009</td>\n",
       "      <td>0.019</td>\n",
       "      <td>0.112</td>\n",
       "    </tr>\n",
       "    <tr>\n",
       "      <th>Malaysia</th>\n",
       "      <td>207.0</td>\n",
       "      <td>0.004</td>\n",
       "      <td>0.014</td>\n",
       "      <td>-0.073</td>\n",
       "      <td>-0.003</td>\n",
       "      <td>0.004</td>\n",
       "      <td>0.012</td>\n",
       "      <td>0.045</td>\n",
       "    </tr>\n",
       "    <tr>\n",
       "      <th>Panama</th>\n",
       "      <td>208.0</td>\n",
       "      <td>0.007</td>\n",
       "      <td>0.027</td>\n",
       "      <td>-0.179</td>\n",
       "      <td>-0.003</td>\n",
       "      <td>0.010</td>\n",
       "      <td>0.020</td>\n",
       "      <td>0.115</td>\n",
       "    </tr>\n",
       "    <tr>\n",
       "      <th>Peru</th>\n",
       "      <td>208.0</td>\n",
       "      <td>0.007</td>\n",
       "      <td>0.028</td>\n",
       "      <td>-0.159</td>\n",
       "      <td>-0.005</td>\n",
       "      <td>0.008</td>\n",
       "      <td>0.023</td>\n",
       "      <td>0.091</td>\n",
       "    </tr>\n",
       "    <tr>\n",
       "      <th>Philippines</th>\n",
       "      <td>208.0</td>\n",
       "      <td>0.007</td>\n",
       "      <td>0.022</td>\n",
       "      <td>-0.135</td>\n",
       "      <td>-0.003</td>\n",
       "      <td>0.008</td>\n",
       "      <td>0.019</td>\n",
       "      <td>0.093</td>\n",
       "    </tr>\n",
       "    <tr>\n",
       "      <th>Poland</th>\n",
       "      <td>208.0</td>\n",
       "      <td>0.004</td>\n",
       "      <td>0.016</td>\n",
       "      <td>-0.089</td>\n",
       "      <td>-0.002</td>\n",
       "      <td>0.005</td>\n",
       "      <td>0.012</td>\n",
       "      <td>0.062</td>\n",
       "    </tr>\n",
       "    <tr>\n",
       "      <th>Qatar</th>\n",
       "      <td>208.0</td>\n",
       "      <td>0.005</td>\n",
       "      <td>0.020</td>\n",
       "      <td>-0.151</td>\n",
       "      <td>-0.003</td>\n",
       "      <td>0.005</td>\n",
       "      <td>0.015</td>\n",
       "      <td>0.060</td>\n",
       "    </tr>\n",
       "    <tr>\n",
       "      <th>Russia</th>\n",
       "      <td>208.0</td>\n",
       "      <td>0.006</td>\n",
       "      <td>0.024</td>\n",
       "      <td>-0.143</td>\n",
       "      <td>-0.004</td>\n",
       "      <td>0.008</td>\n",
       "      <td>0.017</td>\n",
       "      <td>0.069</td>\n",
       "    </tr>\n",
       "    <tr>\n",
       "      <th>El Salvador</th>\n",
       "      <td>208.0</td>\n",
       "      <td>0.006</td>\n",
       "      <td>0.045</td>\n",
       "      <td>-0.394</td>\n",
       "      <td>-0.006</td>\n",
       "      <td>0.010</td>\n",
       "      <td>0.026</td>\n",
       "      <td>0.117</td>\n",
       "    </tr>\n",
       "    <tr>\n",
       "      <th>Turkey</th>\n",
       "      <td>208.0</td>\n",
       "      <td>0.006</td>\n",
       "      <td>0.033</td>\n",
       "      <td>-0.180</td>\n",
       "      <td>-0.010</td>\n",
       "      <td>0.008</td>\n",
       "      <td>0.024</td>\n",
       "      <td>0.132</td>\n",
       "    </tr>\n",
       "    <tr>\n",
       "      <th>Ukraine</th>\n",
       "      <td>208.0</td>\n",
       "      <td>0.006</td>\n",
       "      <td>0.067</td>\n",
       "      <td>-0.479</td>\n",
       "      <td>-0.011</td>\n",
       "      <td>0.008</td>\n",
       "      <td>0.027</td>\n",
       "      <td>0.326</td>\n",
       "    </tr>\n",
       "    <tr>\n",
       "      <th>Uruguay</th>\n",
       "      <td>208.0</td>\n",
       "      <td>0.009</td>\n",
       "      <td>0.043</td>\n",
       "      <td>-0.381</td>\n",
       "      <td>-0.006</td>\n",
       "      <td>0.010</td>\n",
       "      <td>0.030</td>\n",
       "      <td>0.156</td>\n",
       "    </tr>\n",
       "    <tr>\n",
       "      <th>Venezuela</th>\n",
       "      <td>176.0</td>\n",
       "      <td>0.004</td>\n",
       "      <td>0.081</td>\n",
       "      <td>-0.552</td>\n",
       "      <td>-0.024</td>\n",
       "      <td>0.013</td>\n",
       "      <td>0.044</td>\n",
       "      <td>0.224</td>\n",
       "    </tr>\n",
       "    <tr>\n",
       "      <th>South Africa</th>\n",
       "      <td>208.0</td>\n",
       "      <td>0.005</td>\n",
       "      <td>0.028</td>\n",
       "      <td>-0.192</td>\n",
       "      <td>-0.007</td>\n",
       "      <td>0.007</td>\n",
       "      <td>0.018</td>\n",
       "      <td>0.101</td>\n",
       "    </tr>\n",
       "  </tbody>\n",
       "</table>\n",
       "</div>"
      ],
      "text/plain": [
       "                    count   mean    std    min    25%    50%    75%    max\n",
       "Bulgaria            124.0  0.005  0.021 -0.147 -0.002  0.006  0.013  0.059\n",
       "Bolivia             164.0 -0.025  0.434 -1.386 -0.288 -0.080  0.223  1.861\n",
       "Brazil              208.0  0.007  0.028 -0.100 -0.007  0.010  0.023  0.130\n",
       "Chile               208.0  0.004  0.016 -0.045 -0.004  0.005  0.013  0.063\n",
       "China               109.0  0.004  0.010 -0.032 -0.001  0.003  0.009  0.049\n",
       "Colombia            208.0  0.006  0.027 -0.141 -0.006  0.008  0.020  0.105\n",
       "Costa Rica          208.0  0.005  0.030 -0.197 -0.003  0.007  0.016  0.075\n",
       "Dominican Republic  208.0  0.008  0.051 -0.499 -0.006  0.007  0.026  0.173\n",
       "Egypt               208.0  0.005  0.032 -0.174 -0.003  0.006  0.016  0.098\n",
       "Guatemala           208.0  0.006  0.024 -0.186 -0.001  0.009  0.017  0.061\n",
       "Hungary             208.0  0.005  0.030 -0.263 -0.002  0.004  0.016  0.143\n",
       "Indonesia           208.0  0.006  0.037 -0.294 -0.007  0.007  0.020  0.233\n",
       "Israel              208.0  0.005  0.013 -0.067 -0.001  0.006  0.011  0.058\n",
       "Jamaica             208.0  0.009  0.033 -0.242 -0.001  0.011  0.022  0.108\n",
       "South Korea         208.0  0.004  0.017 -0.125 -0.003  0.004  0.011  0.089\n",
       "Lebanon             199.0 -0.003  0.052 -0.432 -0.001  0.006  0.014  0.079\n",
       "Mexico              208.0  0.005  0.025 -0.100 -0.006  0.009  0.019  0.112\n",
       "Malaysia            207.0  0.004  0.014 -0.073 -0.003  0.004  0.012  0.045\n",
       "Panama              208.0  0.007  0.027 -0.179 -0.003  0.010  0.020  0.115\n",
       "Peru                208.0  0.007  0.028 -0.159 -0.005  0.008  0.023  0.091\n",
       "Philippines         208.0  0.007  0.022 -0.135 -0.003  0.008  0.019  0.093\n",
       "Poland              208.0  0.004  0.016 -0.089 -0.002  0.005  0.012  0.062\n",
       "Qatar               208.0  0.005  0.020 -0.151 -0.003  0.005  0.015  0.060\n",
       "Russia              208.0  0.006  0.024 -0.143 -0.004  0.008  0.017  0.069\n",
       "El Salvador         208.0  0.006  0.045 -0.394 -0.006  0.010  0.026  0.117\n",
       "Turkey              208.0  0.006  0.033 -0.180 -0.010  0.008  0.024  0.132\n",
       "Ukraine             208.0  0.006  0.067 -0.479 -0.011  0.008  0.027  0.326\n",
       "Uruguay             208.0  0.009  0.043 -0.381 -0.006  0.010  0.030  0.156\n",
       "Venezuela           176.0  0.004  0.081 -0.552 -0.024  0.013  0.044  0.224\n",
       "South Africa        208.0  0.005  0.028 -0.192 -0.007  0.007  0.018  0.101"
      ]
     },
     "execution_count": 70,
     "metadata": {},
     "output_type": "execute_result"
    }
   ],
   "source": [
    "bnd_index_ret_selected.describe().T.round(3)"
   ]
  },
  {
   "cell_type": "code",
   "execution_count": 71,
   "id": "vanilla-neighbor",
   "metadata": {},
   "outputs": [
    {
     "data": {
      "text/html": [
       "<div>\n",
       "<style scoped>\n",
       "    .dataframe tbody tr th:only-of-type {\n",
       "        vertical-align: middle;\n",
       "    }\n",
       "\n",
       "    .dataframe tbody tr th {\n",
       "        vertical-align: top;\n",
       "    }\n",
       "\n",
       "    .dataframe thead th {\n",
       "        text-align: right;\n",
       "    }\n",
       "</style>\n",
       "<table border=\"1\" class=\"dataframe\">\n",
       "  <thead>\n",
       "    <tr style=\"text-align: right;\">\n",
       "      <th></th>\n",
       "      <th>Avg Return</th>\n",
       "      <th>Volatility</th>\n",
       "      <th>Sharpe Ratio</th>\n",
       "    </tr>\n",
       "  </thead>\n",
       "  <tbody>\n",
       "    <tr>\n",
       "      <th>Brazil</th>\n",
       "      <td>0.084</td>\n",
       "      <td>0.096</td>\n",
       "      <td>0.881</td>\n",
       "    </tr>\n",
       "    <tr>\n",
       "      <th>Chile</th>\n",
       "      <td>0.049</td>\n",
       "      <td>0.054</td>\n",
       "      <td>0.913</td>\n",
       "    </tr>\n",
       "    <tr>\n",
       "      <th>Colombia</th>\n",
       "      <td>0.076</td>\n",
       "      <td>0.094</td>\n",
       "      <td>0.808</td>\n",
       "    </tr>\n",
       "    <tr>\n",
       "      <th>Costa Rica</th>\n",
       "      <td>0.059</td>\n",
       "      <td>0.103</td>\n",
       "      <td>0.577</td>\n",
       "    </tr>\n",
       "    <tr>\n",
       "      <th>Dominican Republic</th>\n",
       "      <td>0.098</td>\n",
       "      <td>0.177</td>\n",
       "      <td>0.557</td>\n",
       "    </tr>\n",
       "    <tr>\n",
       "      <th>Egypt</th>\n",
       "      <td>0.064</td>\n",
       "      <td>0.110</td>\n",
       "      <td>0.580</td>\n",
       "    </tr>\n",
       "    <tr>\n",
       "      <th>Guatemala</th>\n",
       "      <td>0.077</td>\n",
       "      <td>0.084</td>\n",
       "      <td>0.914</td>\n",
       "    </tr>\n",
       "    <tr>\n",
       "      <th>Hungary</th>\n",
       "      <td>0.059</td>\n",
       "      <td>0.103</td>\n",
       "      <td>0.574</td>\n",
       "    </tr>\n",
       "    <tr>\n",
       "      <th>Indonesia</th>\n",
       "      <td>0.076</td>\n",
       "      <td>0.127</td>\n",
       "      <td>0.595</td>\n",
       "    </tr>\n",
       "    <tr>\n",
       "      <th>Israel</th>\n",
       "      <td>0.056</td>\n",
       "      <td>0.046</td>\n",
       "      <td>1.228</td>\n",
       "    </tr>\n",
       "    <tr>\n",
       "      <th>Jamaica</th>\n",
       "      <td>0.111</td>\n",
       "      <td>0.113</td>\n",
       "      <td>0.983</td>\n",
       "    </tr>\n",
       "    <tr>\n",
       "      <th>South Korea</th>\n",
       "      <td>0.052</td>\n",
       "      <td>0.060</td>\n",
       "      <td>0.860</td>\n",
       "    </tr>\n",
       "    <tr>\n",
       "      <th>Mexico</th>\n",
       "      <td>0.066</td>\n",
       "      <td>0.086</td>\n",
       "      <td>0.766</td>\n",
       "    </tr>\n",
       "    <tr>\n",
       "      <th>Panama</th>\n",
       "      <td>0.080</td>\n",
       "      <td>0.095</td>\n",
       "      <td>0.841</td>\n",
       "    </tr>\n",
       "    <tr>\n",
       "      <th>Peru</th>\n",
       "      <td>0.080</td>\n",
       "      <td>0.097</td>\n",
       "      <td>0.826</td>\n",
       "    </tr>\n",
       "    <tr>\n",
       "      <th>Philippines</th>\n",
       "      <td>0.081</td>\n",
       "      <td>0.077</td>\n",
       "      <td>1.055</td>\n",
       "    </tr>\n",
       "    <tr>\n",
       "      <th>Poland</th>\n",
       "      <td>0.050</td>\n",
       "      <td>0.054</td>\n",
       "      <td>0.932</td>\n",
       "    </tr>\n",
       "    <tr>\n",
       "      <th>Qatar</th>\n",
       "      <td>0.060</td>\n",
       "      <td>0.068</td>\n",
       "      <td>0.879</td>\n",
       "    </tr>\n",
       "    <tr>\n",
       "      <th>Russia</th>\n",
       "      <td>0.076</td>\n",
       "      <td>0.083</td>\n",
       "      <td>0.911</td>\n",
       "    </tr>\n",
       "    <tr>\n",
       "      <th>El Salvador</th>\n",
       "      <td>0.068</td>\n",
       "      <td>0.155</td>\n",
       "      <td>0.441</td>\n",
       "    </tr>\n",
       "    <tr>\n",
       "      <th>Turkey</th>\n",
       "      <td>0.074</td>\n",
       "      <td>0.114</td>\n",
       "      <td>0.653</td>\n",
       "    </tr>\n",
       "    <tr>\n",
       "      <th>Ukraine</th>\n",
       "      <td>0.076</td>\n",
       "      <td>0.231</td>\n",
       "      <td>0.330</td>\n",
       "    </tr>\n",
       "    <tr>\n",
       "      <th>Uruguay</th>\n",
       "      <td>0.105</td>\n",
       "      <td>0.150</td>\n",
       "      <td>0.695</td>\n",
       "    </tr>\n",
       "    <tr>\n",
       "      <th>South Africa</th>\n",
       "      <td>0.060</td>\n",
       "      <td>0.097</td>\n",
       "      <td>0.622</td>\n",
       "    </tr>\n",
       "  </tbody>\n",
       "</table>\n",
       "</div>"
      ],
      "text/plain": [
       "                    Avg Return  Volatility  Sharpe Ratio\n",
       "Brazil                   0.084       0.096         0.881\n",
       "Chile                    0.049       0.054         0.913\n",
       "Colombia                 0.076       0.094         0.808\n",
       "Costa Rica               0.059       0.103         0.577\n",
       "Dominican Republic       0.098       0.177         0.557\n",
       "Egypt                    0.064       0.110         0.580\n",
       "Guatemala                0.077       0.084         0.914\n",
       "Hungary                  0.059       0.103         0.574\n",
       "Indonesia                0.076       0.127         0.595\n",
       "Israel                   0.056       0.046         1.228\n",
       "Jamaica                  0.111       0.113         0.983\n",
       "South Korea              0.052       0.060         0.860\n",
       "Mexico                   0.066       0.086         0.766\n",
       "Panama                   0.080       0.095         0.841\n",
       "Peru                     0.080       0.097         0.826\n",
       "Philippines              0.081       0.077         1.055\n",
       "Poland                   0.050       0.054         0.932\n",
       "Qatar                    0.060       0.068         0.879\n",
       "Russia                   0.076       0.083         0.911\n",
       "El Salvador              0.068       0.155         0.441\n",
       "Turkey                   0.074       0.114         0.653\n",
       "Ukraine                  0.076       0.231         0.330\n",
       "Uruguay                  0.105       0.150         0.695\n",
       "South Africa             0.060       0.097         0.622"
      ]
     },
     "execution_count": 71,
     "metadata": {},
     "output_type": "execute_result"
    }
   ],
   "source": [
    "display_single_factor_performance(bnd_index_ret_selected.dropna(axis=1), frequency='M')"
   ]
  },
  {
   "cell_type": "code",
   "execution_count": 72,
   "id": "norman-anger",
   "metadata": {},
   "outputs": [],
   "source": [
    "bnd_index_ret_labeled = bnd_index_ret_selected.T.merge(bond_idx_clusters, left_index=True, right_on='Countries')"
   ]
  },
  {
   "cell_type": "code",
   "execution_count": 73,
   "id": "continent-lemon",
   "metadata": {},
   "outputs": [
    {
     "data": {
      "text/html": [
       "<div>\n",
       "<style scoped>\n",
       "    .dataframe tbody tr th:only-of-type {\n",
       "        vertical-align: middle;\n",
       "    }\n",
       "\n",
       "    .dataframe tbody tr th {\n",
       "        vertical-align: top;\n",
       "    }\n",
       "\n",
       "    .dataframe thead th {\n",
       "        text-align: right;\n",
       "    }\n",
       "</style>\n",
       "<table border=\"1\" class=\"dataframe\">\n",
       "  <thead>\n",
       "    <tr style=\"text-align: right;\">\n",
       "      <th></th>\n",
       "      <th>Avg Return</th>\n",
       "      <th>Volatility</th>\n",
       "      <th>Sharpe Ratio</th>\n",
       "    </tr>\n",
       "    <tr>\n",
       "      <th>cluster_label</th>\n",
       "      <th></th>\n",
       "      <th></th>\n",
       "      <th></th>\n",
       "    </tr>\n",
       "  </thead>\n",
       "  <tbody>\n",
       "    <tr>\n",
       "      <th>0</th>\n",
       "      <td>-0.046</td>\n",
       "      <td>0.487</td>\n",
       "      <td>-0.094</td>\n",
       "    </tr>\n",
       "    <tr>\n",
       "      <th>1</th>\n",
       "      <td>0.066</td>\n",
       "      <td>0.103</td>\n",
       "      <td>0.640</td>\n",
       "    </tr>\n",
       "    <tr>\n",
       "      <th>2</th>\n",
       "      <td>0.053</td>\n",
       "      <td>0.049</td>\n",
       "      <td>1.069</td>\n",
       "    </tr>\n",
       "    <tr>\n",
       "      <th>3</th>\n",
       "      <td>0.078</td>\n",
       "      <td>0.089</td>\n",
       "      <td>0.875</td>\n",
       "    </tr>\n",
       "  </tbody>\n",
       "</table>\n",
       "</div>"
      ],
      "text/plain": [
       "               Avg Return  Volatility  Sharpe Ratio\n",
       "cluster_label                                      \n",
       "0                  -0.046       0.487        -0.094\n",
       "1                   0.066       0.103         0.640\n",
       "2                   0.053       0.049         1.069\n",
       "3                   0.078       0.089         0.875"
      ]
     },
     "execution_count": 73,
     "metadata": {},
     "output_type": "execute_result"
    }
   ],
   "source": [
    "display_single_factor_performance(bnd_index_ret_labeled.groupby('cluster_label').mean().T, frequency='M')"
   ]
  },
  {
   "cell_type": "code",
   "execution_count": null,
   "id": "muslim-filing",
   "metadata": {},
   "outputs": [],
   "source": []
  }
 ],
 "metadata": {
  "environment": {
   "name": "common-cpu.mnightly-2021-02-02-debian-10-test",
   "type": "gcloud",
   "uri": "gcr.io/deeplearning-platform-release/base-cpu:mnightly-2021-02-02-debian-10-test"
  },
  "kernelspec": {
   "display_name": "Python 3",
   "language": "python",
   "name": "python3"
  },
  "language_info": {
   "codemirror_mode": {
    "name": "ipython",
    "version": 3
   },
   "file_extension": ".py",
   "mimetype": "text/x-python",
   "name": "python",
   "nbconvert_exporter": "python",
   "pygments_lexer": "ipython3",
   "version": "3.7.9"
  }
 },
 "nbformat": 4,
 "nbformat_minor": 5
}
