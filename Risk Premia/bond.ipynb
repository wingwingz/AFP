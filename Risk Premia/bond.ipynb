{
 "cells": [
  {
   "cell_type": "code",
   "execution_count": 1,
   "id": "informative-exhibition",
   "metadata": {},
   "outputs": [],
   "source": [
    "import pandas as pd\n",
    "import numpy as np\n",
    "import os\n",
    "import statsmodels.api as sm\n",
    "import matplotlib.pyplot as plt\n",
    "import matplotlib\n",
    "matplotlib.style.use('ggplot')\n",
    "import seaborn as sns"
   ]
  },
  {
   "cell_type": "code",
   "execution_count": 2,
   "id": "patent-referral",
   "metadata": {},
   "outputs": [],
   "source": [
    "country_data_path = '../Data/country_data'\n",
    "macro_data_path = '../Data/macro_factors'\n",
    "cluster_path = '../Outputs/country_clusters'"
   ]
  },
  {
   "cell_type": "markdown",
   "id": "sealed-region",
   "metadata": {},
   "source": [
    "## Load Data"
   ]
  },
  {
   "cell_type": "markdown",
   "id": "quantitative-vacation",
   "metadata": {},
   "source": [
    "### Read country sovereign bond index data"
   ]
  },
  {
   "cell_type": "code",
   "execution_count": 3,
   "id": "fixed-seafood",
   "metadata": {},
   "outputs": [],
   "source": [
    "ticker = pd.read_excel(os.path.join(country_data_path, 'ice_bofa_sovereign_indices_data.xlsx'), sheet_name='ticker mapping')"
   ]
  },
  {
   "cell_type": "code",
   "execution_count": 4,
   "id": "hybrid-queue",
   "metadata": {},
   "outputs": [],
   "source": [
    "ticker['Country'] = ticker['Index Name'].apply(lambda x:' '.join(x.split()[4:-2]))"
   ]
  },
  {
   "cell_type": "code",
   "execution_count": 5,
   "id": "demanding-andrew",
   "metadata": {},
   "outputs": [],
   "source": [
    "ticker['Index Full Name'] = ticker['Index'] + ' Index'"
   ]
  },
  {
   "cell_type": "code",
   "execution_count": 6,
   "id": "elder-pavilion",
   "metadata": {},
   "outputs": [
    {
     "data": {
      "text/html": [
       "<div>\n",
       "<style scoped>\n",
       "    .dataframe tbody tr th:only-of-type {\n",
       "        vertical-align: middle;\n",
       "    }\n",
       "\n",
       "    .dataframe tbody tr th {\n",
       "        vertical-align: top;\n",
       "    }\n",
       "\n",
       "    .dataframe thead th {\n",
       "        text-align: right;\n",
       "    }\n",
       "</style>\n",
       "<table border=\"1\" class=\"dataframe\">\n",
       "  <thead>\n",
       "    <tr style=\"text-align: right;\">\n",
       "      <th></th>\n",
       "      <th>Index Full Name</th>\n",
       "      <th>Country</th>\n",
       "    </tr>\n",
       "  </thead>\n",
       "  <tbody>\n",
       "    <tr>\n",
       "      <th>0</th>\n",
       "      <td>GDDZ Index</td>\n",
       "      <td>Algeria</td>\n",
       "    </tr>\n",
       "    <tr>\n",
       "      <th>1</th>\n",
       "      <td>GDAO Index</td>\n",
       "      <td>Angola</td>\n",
       "    </tr>\n",
       "    <tr>\n",
       "      <th>2</th>\n",
       "      <td>GDAR Index</td>\n",
       "      <td>Argentina</td>\n",
       "    </tr>\n",
       "    <tr>\n",
       "      <th>3</th>\n",
       "      <td>GDAM Index</td>\n",
       "      <td>Armenia</td>\n",
       "    </tr>\n",
       "    <tr>\n",
       "      <th>4</th>\n",
       "      <td>GDAW Index</td>\n",
       "      <td>Aruba</td>\n",
       "    </tr>\n",
       "  </tbody>\n",
       "</table>\n",
       "</div>"
      ],
      "text/plain": [
       "  Index Full Name    Country\n",
       "0      GDDZ Index    Algeria\n",
       "1      GDAO Index     Angola\n",
       "2      GDAR Index  Argentina\n",
       "3      GDAM Index    Armenia\n",
       "4      GDAW Index      Aruba"
      ]
     },
     "execution_count": 6,
     "metadata": {},
     "output_type": "execute_result"
    }
   ],
   "source": [
    "ticker[['Index Full Name', 'Country']].head()"
   ]
  },
  {
   "cell_type": "code",
   "execution_count": 7,
   "id": "opening-average",
   "metadata": {},
   "outputs": [
    {
     "data": {
      "text/plain": [
       "array(['Algeria', 'Angola', 'Argentina', 'Armenia', 'Aruba', 'Azerbaijan',\n",
       "       'Bahamas', 'Bahrain', 'Barbados', 'Belarus', 'Belize', 'Bolivia',\n",
       "       'Brazil', 'Bulgaria', 'Chile', 'China', 'Colombia', 'Costa Rica',\n",
       "       'Croatia', 'Dominican Republic', 'Ecuador', 'Egypt', 'El Salvador',\n",
       "       'Fiji', 'Gabon', 'Georgia', 'Ghana', 'Greece', 'Guatemala',\n",
       "       'Honduras', 'Hungary', 'Iceland', 'Indonesia', 'Iraq', 'Israel',\n",
       "       'Ivory Coast', 'Jamaica', 'Jordan', 'Kazakhstan', 'Kenya',\n",
       "       'Latvia', 'Lebanon', 'Lithuania', 'Malaysia', 'Mexico', 'Mongolia',\n",
       "       'Morocco', 'Mozambique', 'Namibia', 'Nigeria', 'Pakistan',\n",
       "       'Panama', 'Paraguay', 'Peru', 'Philippines', 'Poland', 'Qatar',\n",
       "       'Romania', 'Russia', 'Rwanda', 'Senegal', 'Serbia', 'Slovakia',\n",
       "       'Slovenia', 'South Africa', 'South Korea', 'Spain', 'Sri Lanka',\n",
       "       'Thailand', 'Trinidad & Tobago', 'Tunisia', 'Turkey', 'Ukraine',\n",
       "       'Uruguay', 'Venezuela', 'Vietnam', 'Zambia'], dtype=object)"
      ]
     },
     "execution_count": 7,
     "metadata": {},
     "output_type": "execute_result"
    }
   ],
   "source": [
    "ticker['Country'].unique()"
   ]
  },
  {
   "cell_type": "code",
   "execution_count": 8,
   "id": "simple-diving",
   "metadata": {},
   "outputs": [],
   "source": [
    "ticker_dict = pd.Series(data=ticker['Country'].values, index=ticker['Index Full Name']).to_dict()"
   ]
  },
  {
   "cell_type": "code",
   "execution_count": 9,
   "id": "enabling-thomas",
   "metadata": {},
   "outputs": [],
   "source": [
    "bnd_idx_price = pd.read_excel(os.path.join(country_data_path, 'ice_bofa_sovereign_indices_data.xlsx'), \n",
    "                            sheet_name='px_last data',\n",
    "                            skiprows=3,\n",
    "                            header=0)"
   ]
  },
  {
   "cell_type": "code",
   "execution_count": 10,
   "id": "secondary-camel",
   "metadata": {},
   "outputs": [],
   "source": [
    "bnd_idx_price.drop(index=[0, 1], inplace=True)"
   ]
  },
  {
   "cell_type": "code",
   "execution_count": 11,
   "id": "boxed-crack",
   "metadata": {},
   "outputs": [],
   "source": [
    "bnd_idx_price.rename(columns={\"Unnamed: 0\":\"Date\"}, inplace=True)"
   ]
  },
  {
   "cell_type": "code",
   "execution_count": 12,
   "id": "overall-designer",
   "metadata": {},
   "outputs": [],
   "source": [
    "bnd_idx_price.set_index('Date', inplace=True)"
   ]
  },
  {
   "cell_type": "code",
   "execution_count": 13,
   "id": "intended-tourist",
   "metadata": {},
   "outputs": [],
   "source": [
    "bnd_idx_price = bnd_idx_price.astype('float')"
   ]
  },
  {
   "cell_type": "code",
   "execution_count": 14,
   "id": "romantic-administrator",
   "metadata": {},
   "outputs": [],
   "source": [
    "bnd_idx_price_monthly = bnd_idx_price.resample('M').last()"
   ]
  },
  {
   "cell_type": "code",
   "execution_count": 15,
   "id": "level-still",
   "metadata": {},
   "outputs": [],
   "source": [
    "bnd_idx_price_monthly.replace(0, np.nan, inplace=True)"
   ]
  },
  {
   "cell_type": "markdown",
   "id": "horizontal-wonder",
   "metadata": {},
   "source": [
    "### Read Macro Factors Data"
   ]
  },
  {
   "cell_type": "code",
   "execution_count": 16,
   "id": "adverse-tours",
   "metadata": {},
   "outputs": [],
   "source": [
    "credit = pd.read_csv(os.path.join(macro_data_path, 'LF98TRUU_Index.csv'), header=None, parse_dates=[0], index_col=0, names=['credit'])\n",
    "currency = pd.read_csv(os.path.join(macro_data_path, 'MXEF0CX0_Index.csv'), header=None, parse_dates=[0], index_col=0, names=['currency'])\n",
    "equity = pd.read_csv(os.path.join(macro_data_path, 'WHANWIHD_Index.csv'), header=None, parse_dates=[0], index_col=0, names=['equity'])"
   ]
  },
  {
   "cell_type": "code",
   "execution_count": 17,
   "id": "minor-pilot",
   "metadata": {},
   "outputs": [],
   "source": [
    "rates = pd.read_csv(os.path.join(macro_data_path, 'JPM_GBIEM.csv'), skiprows=7, header=None, index_col=0, names=['rates_last', 'rates_mid'])\n",
    "rates.index = pd.to_datetime(rates.index)\n",
    "rates = rates.sort_index()\n",
    "rates = rates[['rates_last']]\n",
    "rates.columns = ['rates']"
   ]
  },
  {
   "cell_type": "code",
   "execution_count": 18,
   "id": "competitive-synthetic",
   "metadata": {},
   "outputs": [],
   "source": [
    "macro_factors = credit.join(currency, how='inner').join(equity, how='inner').join(rates, how='inner')"
   ]
  },
  {
   "cell_type": "code",
   "execution_count": 19,
   "id": "significant-carnival",
   "metadata": {},
   "outputs": [],
   "source": [
    "macro_factors_monthly = macro_factors.resample('M').last()"
   ]
  },
  {
   "cell_type": "code",
   "execution_count": 20,
   "id": "solid-cocktail",
   "metadata": {},
   "outputs": [],
   "source": [
    "macro_factors_monthly = macro_factors_monthly.astype('float')"
   ]
  },
  {
   "cell_type": "markdown",
   "id": "august-machine",
   "metadata": {},
   "source": [
    "### Read 3-Months LIBOR data"
   ]
  },
  {
   "cell_type": "code",
   "execution_count": 21,
   "id": "accessory-hygiene",
   "metadata": {},
   "outputs": [],
   "source": [
    "libor = pd.read_csv('../Data/others/USD3MTD156N.csv', index_col=0)\n",
    "libor.columns = ['3M_libor']\n",
    "libor['3M_libor'] = libor['3M_libor'].replace(['.'], np.nan)\n",
    "libor.fillna(method='ffill')\n",
    "libor = libor.apply(pd.to_numeric)\n",
    "libor.index = pd.to_datetime(libor.index)\n",
    "\n",
    "libor_monthly = libor.resample('M').first() / 1200 # convert annual data in % to a monthly return\n",
    "libor_monthly = libor_monthly.shift(1).dropna() # using first data of the month and shift by a period, to match bond index return's date convention - end of month date represents return earned over that month"
   ]
  },
  {
   "cell_type": "markdown",
   "id": "endless-temperature",
   "metadata": {},
   "source": [
    "## Regression"
   ]
  },
  {
   "cell_type": "code",
   "execution_count": 22,
   "id": "single-surface",
   "metadata": {},
   "outputs": [],
   "source": [
    "bnd_index_ret = np.log(bnd_idx_price_monthly).diff()"
   ]
  },
  {
   "cell_type": "code",
   "execution_count": 23,
   "id": "documented-newton",
   "metadata": {},
   "outputs": [
    {
     "data": {
      "text/html": [
       "<div>\n",
       "<style scoped>\n",
       "    .dataframe tbody tr th:only-of-type {\n",
       "        vertical-align: middle;\n",
       "    }\n",
       "\n",
       "    .dataframe tbody tr th {\n",
       "        vertical-align: top;\n",
       "    }\n",
       "\n",
       "    .dataframe thead th {\n",
       "        text-align: right;\n",
       "    }\n",
       "</style>\n",
       "<table border=\"1\" class=\"dataframe\">\n",
       "  <thead>\n",
       "    <tr style=\"text-align: right;\">\n",
       "      <th></th>\n",
       "      <th>GDAM Index</th>\n",
       "      <th>GDAO Index</th>\n",
       "      <th>GDAR Index</th>\n",
       "      <th>GDAW Index</th>\n",
       "      <th>GDAZ Index</th>\n",
       "      <th>GDBB Index</th>\n",
       "      <th>GDBG Index</th>\n",
       "      <th>GDBH Index</th>\n",
       "      <th>GDBO Index</th>\n",
       "      <th>GDBR Index</th>\n",
       "      <th>...</th>\n",
       "      <th>GDTH Index</th>\n",
       "      <th>GDTN Index</th>\n",
       "      <th>GDTR Index</th>\n",
       "      <th>GDTT Index</th>\n",
       "      <th>GDUA Index</th>\n",
       "      <th>GDUY Index</th>\n",
       "      <th>GDVE Index</th>\n",
       "      <th>GDVN Index</th>\n",
       "      <th>GDZA Index</th>\n",
       "      <th>GDZM Index</th>\n",
       "    </tr>\n",
       "  </thead>\n",
       "  <tbody>\n",
       "    <tr>\n",
       "      <th>count</th>\n",
       "      <td>81.000000</td>\n",
       "      <td>101.000000</td>\n",
       "      <td>29.000000</td>\n",
       "      <td>99.000000</td>\n",
       "      <td>82.000000</td>\n",
       "      <td>168.000000</td>\n",
       "      <td>252.000000</td>\n",
       "      <td>211.000000</td>\n",
       "      <td>247.000000</td>\n",
       "      <td>252.000000</td>\n",
       "      <td>...</td>\n",
       "      <td>252.000000</td>\n",
       "      <td>225.000000</td>\n",
       "      <td>252.000000</td>\n",
       "      <td>193.000000</td>\n",
       "      <td>250.000000</td>\n",
       "      <td>252.000000</td>\n",
       "      <td>252.000000</td>\n",
       "      <td>193.000000</td>\n",
       "      <td>252.000000</td>\n",
       "      <td>99.000000</td>\n",
       "    </tr>\n",
       "    <tr>\n",
       "      <th>mean</th>\n",
       "      <td>0.006047</td>\n",
       "      <td>0.006631</td>\n",
       "      <td>-0.030350</td>\n",
       "      <td>0.004066</td>\n",
       "      <td>0.005400</td>\n",
       "      <td>0.003300</td>\n",
       "      <td>0.004364</td>\n",
       "      <td>0.000498</td>\n",
       "      <td>-0.028352</td>\n",
       "      <td>0.008063</td>\n",
       "      <td>...</td>\n",
       "      <td>0.002174</td>\n",
       "      <td>0.002953</td>\n",
       "      <td>0.007207</td>\n",
       "      <td>0.005278</td>\n",
       "      <td>0.009189</td>\n",
       "      <td>0.007198</td>\n",
       "      <td>0.005348</td>\n",
       "      <td>0.005765</td>\n",
       "      <td>0.006130</td>\n",
       "      <td>-0.000636</td>\n",
       "    </tr>\n",
       "    <tr>\n",
       "      <th>std</th>\n",
       "      <td>0.025372</td>\n",
       "      <td>0.105290</td>\n",
       "      <td>0.099993</td>\n",
       "      <td>0.015719</td>\n",
       "      <td>0.026430</td>\n",
       "      <td>0.034696</td>\n",
       "      <td>0.019377</td>\n",
       "      <td>0.004146</td>\n",
       "      <td>0.375968</td>\n",
       "      <td>0.042023</td>\n",
       "      <td>...</td>\n",
       "      <td>0.006958</td>\n",
       "      <td>0.012721</td>\n",
       "      <td>0.036664</td>\n",
       "      <td>0.022922</td>\n",
       "      <td>0.063254</td>\n",
       "      <td>0.057038</td>\n",
       "      <td>0.068971</td>\n",
       "      <td>0.030727</td>\n",
       "      <td>0.026784</td>\n",
       "      <td>0.080635</td>\n",
       "    </tr>\n",
       "    <tr>\n",
       "      <th>min</th>\n",
       "      <td>-0.135726</td>\n",
       "      <td>-0.893634</td>\n",
       "      <td>-0.338934</td>\n",
       "      <td>-0.069766</td>\n",
       "      <td>-0.132276</td>\n",
       "      <td>-0.165833</td>\n",
       "      <td>-0.147381</td>\n",
       "      <td>-0.028790</td>\n",
       "      <td>-1.386294</td>\n",
       "      <td>-0.210894</td>\n",
       "      <td>...</td>\n",
       "      <td>-0.026065</td>\n",
       "      <td>-0.072523</td>\n",
       "      <td>-0.180034</td>\n",
       "      <td>-0.184918</td>\n",
       "      <td>-0.479180</td>\n",
       "      <td>-0.381083</td>\n",
       "      <td>-0.552361</td>\n",
       "      <td>-0.281614</td>\n",
       "      <td>-0.191556</td>\n",
       "      <td>-0.457734</td>\n",
       "    </tr>\n",
       "    <tr>\n",
       "      <th>25%</th>\n",
       "      <td>-0.000509</td>\n",
       "      <td>-0.009947</td>\n",
       "      <td>-0.046797</td>\n",
       "      <td>0.000253</td>\n",
       "      <td>-0.006614</td>\n",
       "      <td>-0.004802</td>\n",
       "      <td>0.000000</td>\n",
       "      <td>0.000000</td>\n",
       "      <td>-0.223144</td>\n",
       "      <td>-0.008954</td>\n",
       "      <td>...</td>\n",
       "      <td>0.000000</td>\n",
       "      <td>0.000000</td>\n",
       "      <td>-0.009614</td>\n",
       "      <td>-0.000784</td>\n",
       "      <td>-0.008629</td>\n",
       "      <td>-0.008027</td>\n",
       "      <td>-0.013282</td>\n",
       "      <td>-0.001286</td>\n",
       "      <td>-0.006053</td>\n",
       "      <td>-0.031190</td>\n",
       "    </tr>\n",
       "    <tr>\n",
       "      <th>50%</th>\n",
       "      <td>0.007061</td>\n",
       "      <td>0.007067</td>\n",
       "      <td>-0.004017</td>\n",
       "      <td>0.004497</td>\n",
       "      <td>0.006777</td>\n",
       "      <td>0.000000</td>\n",
       "      <td>0.000000</td>\n",
       "      <td>0.000000</td>\n",
       "      <td>0.000000</td>\n",
       "      <td>0.011402</td>\n",
       "      <td>...</td>\n",
       "      <td>0.000000</td>\n",
       "      <td>0.000000</td>\n",
       "      <td>0.009581</td>\n",
       "      <td>0.006011</td>\n",
       "      <td>0.009573</td>\n",
       "      <td>0.008662</td>\n",
       "      <td>0.005048</td>\n",
       "      <td>0.007093</td>\n",
       "      <td>0.007877</td>\n",
       "      <td>-0.000797</td>\n",
       "    </tr>\n",
       "    <tr>\n",
       "      <th>75%</th>\n",
       "      <td>0.014938</td>\n",
       "      <td>0.024001</td>\n",
       "      <td>0.026629</td>\n",
       "      <td>0.007867</td>\n",
       "      <td>0.020004</td>\n",
       "      <td>0.012359</td>\n",
       "      <td>0.010756</td>\n",
       "      <td>0.000000</td>\n",
       "      <td>0.108293</td>\n",
       "      <td>0.025192</td>\n",
       "      <td>...</td>\n",
       "      <td>0.000511</td>\n",
       "      <td>0.006020</td>\n",
       "      <td>0.025770</td>\n",
       "      <td>0.014888</td>\n",
       "      <td>0.030000</td>\n",
       "      <td>0.031095</td>\n",
       "      <td>0.035912</td>\n",
       "      <td>0.017246</td>\n",
       "      <td>0.019398</td>\n",
       "      <td>0.028655</td>\n",
       "    </tr>\n",
       "    <tr>\n",
       "      <th>max</th>\n",
       "      <td>0.076157</td>\n",
       "      <td>0.337432</td>\n",
       "      <td>0.129239</td>\n",
       "      <td>0.071567</td>\n",
       "      <td>0.055869</td>\n",
       "      <td>0.170942</td>\n",
       "      <td>0.068749</td>\n",
       "      <td>0.022393</td>\n",
       "      <td>1.860752</td>\n",
       "      <td>0.233548</td>\n",
       "      <td>...</td>\n",
       "      <td>0.035111</td>\n",
       "      <td>0.062714</td>\n",
       "      <td>0.132061</td>\n",
       "      <td>0.084104</td>\n",
       "      <td>0.326299</td>\n",
       "      <td>0.297292</td>\n",
       "      <td>0.223687</td>\n",
       "      <td>0.099489</td>\n",
       "      <td>0.100748</td>\n",
       "      <td>0.327798</td>\n",
       "    </tr>\n",
       "  </tbody>\n",
       "</table>\n",
       "<p>8 rows × 77 columns</p>\n",
       "</div>"
      ],
      "text/plain": [
       "       GDAM Index  GDAO Index  GDAR Index  GDAW Index  GDAZ Index  GDBB Index  \\\n",
       "count   81.000000  101.000000   29.000000   99.000000   82.000000  168.000000   \n",
       "mean     0.006047    0.006631   -0.030350    0.004066    0.005400    0.003300   \n",
       "std      0.025372    0.105290    0.099993    0.015719    0.026430    0.034696   \n",
       "min     -0.135726   -0.893634   -0.338934   -0.069766   -0.132276   -0.165833   \n",
       "25%     -0.000509   -0.009947   -0.046797    0.000253   -0.006614   -0.004802   \n",
       "50%      0.007061    0.007067   -0.004017    0.004497    0.006777    0.000000   \n",
       "75%      0.014938    0.024001    0.026629    0.007867    0.020004    0.012359   \n",
       "max      0.076157    0.337432    0.129239    0.071567    0.055869    0.170942   \n",
       "\n",
       "       GDBG Index  GDBH Index  GDBO Index  GDBR Index  ...  GDTH Index  \\\n",
       "count  252.000000  211.000000  247.000000  252.000000  ...  252.000000   \n",
       "mean     0.004364    0.000498   -0.028352    0.008063  ...    0.002174   \n",
       "std      0.019377    0.004146    0.375968    0.042023  ...    0.006958   \n",
       "min     -0.147381   -0.028790   -1.386294   -0.210894  ...   -0.026065   \n",
       "25%      0.000000    0.000000   -0.223144   -0.008954  ...    0.000000   \n",
       "50%      0.000000    0.000000    0.000000    0.011402  ...    0.000000   \n",
       "75%      0.010756    0.000000    0.108293    0.025192  ...    0.000511   \n",
       "max      0.068749    0.022393    1.860752    0.233548  ...    0.035111   \n",
       "\n",
       "       GDTN Index  GDTR Index  GDTT Index  GDUA Index  GDUY Index  GDVE Index  \\\n",
       "count  225.000000  252.000000  193.000000  250.000000  252.000000  252.000000   \n",
       "mean     0.002953    0.007207    0.005278    0.009189    0.007198    0.005348   \n",
       "std      0.012721    0.036664    0.022922    0.063254    0.057038    0.068971   \n",
       "min     -0.072523   -0.180034   -0.184918   -0.479180   -0.381083   -0.552361   \n",
       "25%      0.000000   -0.009614   -0.000784   -0.008629   -0.008027   -0.013282   \n",
       "50%      0.000000    0.009581    0.006011    0.009573    0.008662    0.005048   \n",
       "75%      0.006020    0.025770    0.014888    0.030000    0.031095    0.035912   \n",
       "max      0.062714    0.132061    0.084104    0.326299    0.297292    0.223687   \n",
       "\n",
       "       GDVN Index  GDZA Index  GDZM Index  \n",
       "count  193.000000  252.000000   99.000000  \n",
       "mean     0.005765    0.006130   -0.000636  \n",
       "std      0.030727    0.026784    0.080635  \n",
       "min     -0.281614   -0.191556   -0.457734  \n",
       "25%     -0.001286   -0.006053   -0.031190  \n",
       "50%      0.007093    0.007877   -0.000797  \n",
       "75%      0.017246    0.019398    0.028655  \n",
       "max      0.099489    0.100748    0.327798  \n",
       "\n",
       "[8 rows x 77 columns]"
      ]
     },
     "execution_count": 23,
     "metadata": {},
     "output_type": "execute_result"
    }
   ],
   "source": [
    "bnd_index_ret.describe()"
   ]
  },
  {
   "cell_type": "code",
   "execution_count": 24,
   "id": "determined-landscape",
   "metadata": {},
   "outputs": [],
   "source": [
    "bnd_index_ret.replace(0, np.nan, inplace=True)"
   ]
  },
  {
   "cell_type": "code",
   "execution_count": 25,
   "id": "compressed-given",
   "metadata": {},
   "outputs": [],
   "source": [
    "bnd_index_excess_ret = bnd_index_ret.subtract(libor_monthly['3M_libor'], axis=0).dropna(axis=0, how='all')"
   ]
  },
  {
   "cell_type": "code",
   "execution_count": 26,
   "id": "tested-smile",
   "metadata": {},
   "outputs": [],
   "source": [
    "macro_factors_ret = np.log(macro_factors_monthly).diff().dropna()"
   ]
  },
  {
   "cell_type": "code",
   "execution_count": 27,
   "id": "endless-dress",
   "metadata": {},
   "outputs": [
    {
     "data": {
      "text/html": [
       "<div>\n",
       "<style scoped>\n",
       "    .dataframe tbody tr th:only-of-type {\n",
       "        vertical-align: middle;\n",
       "    }\n",
       "\n",
       "    .dataframe tbody tr th {\n",
       "        vertical-align: top;\n",
       "    }\n",
       "\n",
       "    .dataframe thead th {\n",
       "        text-align: right;\n",
       "    }\n",
       "</style>\n",
       "<table border=\"1\" class=\"dataframe\">\n",
       "  <thead>\n",
       "    <tr style=\"text-align: right;\">\n",
       "      <th></th>\n",
       "      <th>credit</th>\n",
       "      <th>currency</th>\n",
       "      <th>equity</th>\n",
       "      <th>rates</th>\n",
       "    </tr>\n",
       "  </thead>\n",
       "  <tbody>\n",
       "    <tr>\n",
       "      <th>count</th>\n",
       "      <td>191.000000</td>\n",
       "      <td>191.000000</td>\n",
       "      <td>191.000000</td>\n",
       "      <td>191.000000</td>\n",
       "    </tr>\n",
       "    <tr>\n",
       "      <th>mean</th>\n",
       "      <td>0.005827</td>\n",
       "      <td>0.002256</td>\n",
       "      <td>0.006560</td>\n",
       "      <td>0.003693</td>\n",
       "    </tr>\n",
       "    <tr>\n",
       "      <th>std</th>\n",
       "      <td>0.027960</td>\n",
       "      <td>0.019484</td>\n",
       "      <td>0.040996</td>\n",
       "      <td>0.012621</td>\n",
       "    </tr>\n",
       "    <tr>\n",
       "      <th>min</th>\n",
       "      <td>-0.173244</td>\n",
       "      <td>-0.078636</td>\n",
       "      <td>-0.171625</td>\n",
       "      <td>-0.039949</td>\n",
       "    </tr>\n",
       "    <tr>\n",
       "      <th>25%</th>\n",
       "      <td>-0.003483</td>\n",
       "      <td>-0.006882</td>\n",
       "      <td>-0.012876</td>\n",
       "      <td>-0.003229</td>\n",
       "    </tr>\n",
       "    <tr>\n",
       "      <th>50%</th>\n",
       "      <td>0.007352</td>\n",
       "      <td>0.003989</td>\n",
       "      <td>0.013603</td>\n",
       "      <td>0.005135</td>\n",
       "    </tr>\n",
       "    <tr>\n",
       "      <th>75%</th>\n",
       "      <td>0.016999</td>\n",
       "      <td>0.013584</td>\n",
       "      <td>0.030295</td>\n",
       "      <td>0.010941</td>\n",
       "    </tr>\n",
       "    <tr>\n",
       "      <th>max</th>\n",
       "      <td>0.114263</td>\n",
       "      <td>0.050544</td>\n",
       "      <td>0.114004</td>\n",
       "      <td>0.066541</td>\n",
       "    </tr>\n",
       "  </tbody>\n",
       "</table>\n",
       "</div>"
      ],
      "text/plain": [
       "           credit    currency      equity       rates\n",
       "count  191.000000  191.000000  191.000000  191.000000\n",
       "mean     0.005827    0.002256    0.006560    0.003693\n",
       "std      0.027960    0.019484    0.040996    0.012621\n",
       "min     -0.173244   -0.078636   -0.171625   -0.039949\n",
       "25%     -0.003483   -0.006882   -0.012876   -0.003229\n",
       "50%      0.007352    0.003989    0.013603    0.005135\n",
       "75%      0.016999    0.013584    0.030295    0.010941\n",
       "max      0.114263    0.050544    0.114004    0.066541"
      ]
     },
     "execution_count": 27,
     "metadata": {},
     "output_type": "execute_result"
    }
   ],
   "source": [
    "macro_factors_ret.describe()"
   ]
  },
  {
   "cell_type": "code",
   "execution_count": 28,
   "id": "adaptive-southwest",
   "metadata": {},
   "outputs": [],
   "source": [
    "results_df = pd.DataFrame()\n",
    "results_dict = {} \n",
    "\n",
    "cols = ['const'] + macro_factors_ret.columns.tolist()\n",
    "beta_cols = [x + '_beta' for x in cols]\n",
    "tval_cols = [x + '_tval' for x in cols]\n",
    "\n",
    "for bnd_index in bnd_index_excess_ret:\n",
    "    \n",
    "    country = ticker_dict[bnd_index]\n",
    "    temp = bnd_index_excess_ret[bnd_index].dropna().to_frame().join(macro_factors_ret, how='inner')\n",
    "    \n",
    "    if temp.shape[0] > 30:\n",
    "\n",
    "        y = temp.iloc[:, 0]\n",
    "        X = temp.iloc[:, 1:]\n",
    "        X = sm.add_constant(X)\n",
    "        model = sm.OLS(y, X)\n",
    "        results = model.fit()\n",
    "\n",
    "        betas = results.params\n",
    "        tvalues = results.tvalues\n",
    "        rsq_adj = results.rsquared_adj\n",
    "        f_pvalue = results.f_pvalue\n",
    "        start_date = y.index.min().strftime('%Y%m')\n",
    "        temp_results_df = pd.DataFrame(data=np.r_[betas, tvalues, rsq_adj, f_pvalue], \n",
    "                                       index=beta_cols + tval_cols + ['rsq_adj', 'f_pvalue']).T\n",
    "        temp_results_df['country'] = country\n",
    "        temp_results_df['start_date'] = start_date\n",
    "        results_df = results_df.append(temp_results_df)\n",
    "    \n",
    "        results_dict[country] = results\n"
   ]
  },
  {
   "cell_type": "code",
   "execution_count": 29,
   "id": "cooked-allowance",
   "metadata": {},
   "outputs": [
    {
     "data": {
      "text/html": [
       "<div>\n",
       "<style scoped>\n",
       "    .dataframe tbody tr th:only-of-type {\n",
       "        vertical-align: middle;\n",
       "    }\n",
       "\n",
       "    .dataframe tbody tr th {\n",
       "        vertical-align: top;\n",
       "    }\n",
       "\n",
       "    .dataframe thead th {\n",
       "        text-align: right;\n",
       "    }\n",
       "</style>\n",
       "<table border=\"1\" class=\"dataframe\">\n",
       "  <thead>\n",
       "    <tr style=\"text-align: right;\">\n",
       "      <th></th>\n",
       "      <th>const_beta</th>\n",
       "      <th>credit_beta</th>\n",
       "      <th>currency_beta</th>\n",
       "      <th>equity_beta</th>\n",
       "      <th>rates_beta</th>\n",
       "      <th>const_tval</th>\n",
       "      <th>credit_tval</th>\n",
       "      <th>currency_tval</th>\n",
       "      <th>equity_tval</th>\n",
       "      <th>rates_tval</th>\n",
       "      <th>rsq_adj</th>\n",
       "      <th>f_pvalue</th>\n",
       "      <th>country</th>\n",
       "      <th>start_date</th>\n",
       "    </tr>\n",
       "  </thead>\n",
       "  <tbody>\n",
       "    <tr>\n",
       "      <th>0</th>\n",
       "      <td>-0.000655</td>\n",
       "      <td>0.687241</td>\n",
       "      <td>-0.027444</td>\n",
       "      <td>0.050992</td>\n",
       "      <td>0.672582</td>\n",
       "      <td>-0.359762</td>\n",
       "      <td>4.709664</td>\n",
       "      <td>-0.201594</td>\n",
       "      <td>0.699551</td>\n",
       "      <td>3.167343</td>\n",
       "      <td>0.656691</td>\n",
       "      <td>2.446412e-17</td>\n",
       "      <td>Armenia</td>\n",
       "      <td>201405</td>\n",
       "    </tr>\n",
       "    <tr>\n",
       "      <th>0</th>\n",
       "      <td>-0.014504</td>\n",
       "      <td>4.676858</td>\n",
       "      <td>-0.333052</td>\n",
       "      <td>-0.278871</td>\n",
       "      <td>-0.348045</td>\n",
       "      <td>-1.995880</td>\n",
       "      <td>7.547788</td>\n",
       "      <td>-0.565422</td>\n",
       "      <td>-0.895996</td>\n",
       "      <td>-0.421328</td>\n",
       "      <td>0.584502</td>\n",
       "      <td>3.176325e-18</td>\n",
       "      <td>Angola</td>\n",
       "      <td>201209</td>\n",
       "    </tr>\n",
       "    <tr>\n",
       "      <th>0</th>\n",
       "      <td>0.001854</td>\n",
       "      <td>0.214322</td>\n",
       "      <td>0.192591</td>\n",
       "      <td>0.021672</td>\n",
       "      <td>0.001490</td>\n",
       "      <td>1.194377</td>\n",
       "      <td>1.634290</td>\n",
       "      <td>1.528184</td>\n",
       "      <td>0.328423</td>\n",
       "      <td>0.008500</td>\n",
       "      <td>0.174367</td>\n",
       "      <td>2.037996e-04</td>\n",
       "      <td>Aruba</td>\n",
       "      <td>201211</td>\n",
       "    </tr>\n",
       "    <tr>\n",
       "      <th>0</th>\n",
       "      <td>0.000407</td>\n",
       "      <td>0.868026</td>\n",
       "      <td>0.296912</td>\n",
       "      <td>-0.060667</td>\n",
       "      <td>0.206410</td>\n",
       "      <td>0.215654</td>\n",
       "      <td>5.680364</td>\n",
       "      <td>2.077830</td>\n",
       "      <td>-0.792921</td>\n",
       "      <td>0.925110</td>\n",
       "      <td>0.645305</td>\n",
       "      <td>2.925730e-17</td>\n",
       "      <td>Azerbaijan</td>\n",
       "      <td>201404</td>\n",
       "    </tr>\n",
       "    <tr>\n",
       "      <th>0</th>\n",
       "      <td>-0.000476</td>\n",
       "      <td>0.030462</td>\n",
       "      <td>-0.052705</td>\n",
       "      <td>0.149365</td>\n",
       "      <td>0.987638</td>\n",
       "      <td>-0.138519</td>\n",
       "      <td>0.172334</td>\n",
       "      <td>-0.220990</td>\n",
       "      <td>1.149655</td>\n",
       "      <td>3.370067</td>\n",
       "      <td>0.149263</td>\n",
       "      <td>9.234619e-05</td>\n",
       "      <td>Barbados</td>\n",
       "      <td>200702</td>\n",
       "    </tr>\n",
       "    <tr>\n",
       "      <th>...</th>\n",
       "      <td>...</td>\n",
       "      <td>...</td>\n",
       "      <td>...</td>\n",
       "      <td>...</td>\n",
       "      <td>...</td>\n",
       "      <td>...</td>\n",
       "      <td>...</td>\n",
       "      <td>...</td>\n",
       "      <td>...</td>\n",
       "      <td>...</td>\n",
       "      <td>...</td>\n",
       "      <td>...</td>\n",
       "      <td>...</td>\n",
       "      <td>...</td>\n",
       "    </tr>\n",
       "    <tr>\n",
       "      <th>0</th>\n",
       "      <td>-0.003497</td>\n",
       "      <td>0.697093</td>\n",
       "      <td>-0.171981</td>\n",
       "      <td>-0.065446</td>\n",
       "      <td>1.800138</td>\n",
       "      <td>-1.607076</td>\n",
       "      <td>5.715476</td>\n",
       "      <td>-1.106282</td>\n",
       "      <td>-0.802121</td>\n",
       "      <td>8.859865</td>\n",
       "      <td>0.558578</td>\n",
       "      <td>6.964812e-33</td>\n",
       "      <td>Uruguay</td>\n",
       "      <td>200502</td>\n",
       "    </tr>\n",
       "    <tr>\n",
       "      <th>0</th>\n",
       "      <td>-0.004949</td>\n",
       "      <td>0.707200</td>\n",
       "      <td>1.059777</td>\n",
       "      <td>0.078776</td>\n",
       "      <td>-0.242475</td>\n",
       "      <td>-0.790201</td>\n",
       "      <td>2.043523</td>\n",
       "      <td>2.331194</td>\n",
       "      <td>0.313722</td>\n",
       "      <td>-0.425097</td>\n",
       "      <td>0.182053</td>\n",
       "      <td>3.994530e-07</td>\n",
       "      <td>Venezuela</td>\n",
       "      <td>200502</td>\n",
       "    </tr>\n",
       "    <tr>\n",
       "      <th>0</th>\n",
       "      <td>-0.002124</td>\n",
       "      <td>0.582594</td>\n",
       "      <td>-0.090267</td>\n",
       "      <td>-0.040448</td>\n",
       "      <td>0.933461</td>\n",
       "      <td>-1.267461</td>\n",
       "      <td>6.201872</td>\n",
       "      <td>-0.753893</td>\n",
       "      <td>-0.643639</td>\n",
       "      <td>5.965031</td>\n",
       "      <td>0.492231</td>\n",
       "      <td>2.797386e-27</td>\n",
       "      <td>Vietnam</td>\n",
       "      <td>200502</td>\n",
       "    </tr>\n",
       "    <tr>\n",
       "      <th>0</th>\n",
       "      <td>-0.003287</td>\n",
       "      <td>0.592785</td>\n",
       "      <td>-0.146498</td>\n",
       "      <td>-0.080573</td>\n",
       "      <td>1.176834</td>\n",
       "      <td>-2.465919</td>\n",
       "      <td>7.935077</td>\n",
       "      <td>-1.538545</td>\n",
       "      <td>-1.612259</td>\n",
       "      <td>9.456471</td>\n",
       "      <td>0.631286</td>\n",
       "      <td>4.207785e-40</td>\n",
       "      <td>South Africa</td>\n",
       "      <td>200502</td>\n",
       "    </tr>\n",
       "    <tr>\n",
       "      <th>0</th>\n",
       "      <td>-0.012715</td>\n",
       "      <td>2.347147</td>\n",
       "      <td>0.775393</td>\n",
       "      <td>-0.172231</td>\n",
       "      <td>0.452756</td>\n",
       "      <td>-1.917195</td>\n",
       "      <td>4.189599</td>\n",
       "      <td>1.440231</td>\n",
       "      <td>-0.610956</td>\n",
       "      <td>0.604701</td>\n",
       "      <td>0.424171</td>\n",
       "      <td>2.199106e-11</td>\n",
       "      <td>Zambia</td>\n",
       "      <td>201211</td>\n",
       "    </tr>\n",
       "  </tbody>\n",
       "</table>\n",
       "<p>64 rows × 14 columns</p>\n",
       "</div>"
      ],
      "text/plain": [
       "    const_beta  credit_beta  currency_beta  equity_beta  rates_beta  \\\n",
       "0    -0.000655     0.687241      -0.027444     0.050992    0.672582   \n",
       "0    -0.014504     4.676858      -0.333052    -0.278871   -0.348045   \n",
       "0     0.001854     0.214322       0.192591     0.021672    0.001490   \n",
       "0     0.000407     0.868026       0.296912    -0.060667    0.206410   \n",
       "0    -0.000476     0.030462      -0.052705     0.149365    0.987638   \n",
       "..         ...          ...            ...          ...         ...   \n",
       "0    -0.003497     0.697093      -0.171981    -0.065446    1.800138   \n",
       "0    -0.004949     0.707200       1.059777     0.078776   -0.242475   \n",
       "0    -0.002124     0.582594      -0.090267    -0.040448    0.933461   \n",
       "0    -0.003287     0.592785      -0.146498    -0.080573    1.176834   \n",
       "0    -0.012715     2.347147       0.775393    -0.172231    0.452756   \n",
       "\n",
       "    const_tval  credit_tval  currency_tval  equity_tval  rates_tval   rsq_adj  \\\n",
       "0    -0.359762     4.709664      -0.201594     0.699551    3.167343  0.656691   \n",
       "0    -1.995880     7.547788      -0.565422    -0.895996   -0.421328  0.584502   \n",
       "0     1.194377     1.634290       1.528184     0.328423    0.008500  0.174367   \n",
       "0     0.215654     5.680364       2.077830    -0.792921    0.925110  0.645305   \n",
       "0    -0.138519     0.172334      -0.220990     1.149655    3.370067  0.149263   \n",
       "..         ...          ...            ...          ...         ...       ...   \n",
       "0    -1.607076     5.715476      -1.106282    -0.802121    8.859865  0.558578   \n",
       "0    -0.790201     2.043523       2.331194     0.313722   -0.425097  0.182053   \n",
       "0    -1.267461     6.201872      -0.753893    -0.643639    5.965031  0.492231   \n",
       "0    -2.465919     7.935077      -1.538545    -1.612259    9.456471  0.631286   \n",
       "0    -1.917195     4.189599       1.440231    -0.610956    0.604701  0.424171   \n",
       "\n",
       "        f_pvalue       country start_date  \n",
       "0   2.446412e-17       Armenia     201405  \n",
       "0   3.176325e-18        Angola     201209  \n",
       "0   2.037996e-04         Aruba     201211  \n",
       "0   2.925730e-17    Azerbaijan     201404  \n",
       "0   9.234619e-05      Barbados     200702  \n",
       "..           ...           ...        ...  \n",
       "0   6.964812e-33       Uruguay     200502  \n",
       "0   3.994530e-07     Venezuela     200502  \n",
       "0   2.797386e-27       Vietnam     200502  \n",
       "0   4.207785e-40  South Africa     200502  \n",
       "0   2.199106e-11        Zambia     201211  \n",
       "\n",
       "[64 rows x 14 columns]"
      ]
     },
     "execution_count": 29,
     "metadata": {},
     "output_type": "execute_result"
    }
   ],
   "source": [
    "results_df"
   ]
  },
  {
   "cell_type": "code",
   "execution_count": 30,
   "id": "elder-insert",
   "metadata": {},
   "outputs": [
    {
     "data": {
      "text/html": [
       "<div>\n",
       "<style scoped>\n",
       "    .dataframe tbody tr th:only-of-type {\n",
       "        vertical-align: middle;\n",
       "    }\n",
       "\n",
       "    .dataframe tbody tr th {\n",
       "        vertical-align: top;\n",
       "    }\n",
       "\n",
       "    .dataframe thead th {\n",
       "        text-align: right;\n",
       "    }\n",
       "</style>\n",
       "<table border=\"1\" class=\"dataframe\">\n",
       "  <thead>\n",
       "    <tr style=\"text-align: right;\">\n",
       "      <th></th>\n",
       "      <th>const_beta</th>\n",
       "      <th>credit_beta</th>\n",
       "      <th>currency_beta</th>\n",
       "      <th>equity_beta</th>\n",
       "      <th>rates_beta</th>\n",
       "      <th>const_tval</th>\n",
       "      <th>credit_tval</th>\n",
       "      <th>currency_tval</th>\n",
       "      <th>equity_tval</th>\n",
       "      <th>rates_tval</th>\n",
       "      <th>rsq_adj</th>\n",
       "      <th>f_pvalue</th>\n",
       "    </tr>\n",
       "  </thead>\n",
       "  <tbody>\n",
       "    <tr>\n",
       "      <th>count</th>\n",
       "      <td>64.000000</td>\n",
       "      <td>64.000000</td>\n",
       "      <td>64.000000</td>\n",
       "      <td>64.000000</td>\n",
       "      <td>64.000000</td>\n",
       "      <td>64.000000</td>\n",
       "      <td>64.000000</td>\n",
       "      <td>64.000000</td>\n",
       "      <td>64.000000</td>\n",
       "      <td>64.000000</td>\n",
       "      <td>64.000000</td>\n",
       "      <td>6.400000e+01</td>\n",
       "    </tr>\n",
       "    <tr>\n",
       "      <th>mean</th>\n",
       "      <td>-0.002390</td>\n",
       "      <td>0.751348</td>\n",
       "      <td>0.106040</td>\n",
       "      <td>-0.070305</td>\n",
       "      <td>0.559986</td>\n",
       "      <td>-0.372298</td>\n",
       "      <td>4.670096</td>\n",
       "      <td>0.019016</td>\n",
       "      <td>-0.773608</td>\n",
       "      <td>3.980593</td>\n",
       "      <td>0.423721</td>\n",
       "      <td>1.465004e-02</td>\n",
       "    </tr>\n",
       "    <tr>\n",
       "      <th>std</th>\n",
       "      <td>0.008071</td>\n",
       "      <td>0.806349</td>\n",
       "      <td>0.567295</td>\n",
       "      <td>0.190735</td>\n",
       "      <td>0.553070</td>\n",
       "      <td>1.295290</td>\n",
       "      <td>2.764371</td>\n",
       "      <td>1.439763</td>\n",
       "      <td>1.137473</td>\n",
       "      <td>3.444024</td>\n",
       "      <td>0.192534</td>\n",
       "      <td>7.975603e-02</td>\n",
       "    </tr>\n",
       "    <tr>\n",
       "      <th>min</th>\n",
       "      <td>-0.057076</td>\n",
       "      <td>-0.273499</td>\n",
       "      <td>-0.418816</td>\n",
       "      <td>-1.346559</td>\n",
       "      <td>-1.598084</td>\n",
       "      <td>-2.738879</td>\n",
       "      <td>-1.004248</td>\n",
       "      <td>-3.662358</td>\n",
       "      <td>-3.699185</td>\n",
       "      <td>-0.839482</td>\n",
       "      <td>-0.028561</td>\n",
       "      <td>1.721245e-47</td>\n",
       "    </tr>\n",
       "    <tr>\n",
       "      <th>25%</th>\n",
       "      <td>-0.003041</td>\n",
       "      <td>0.273274</td>\n",
       "      <td>-0.130448</td>\n",
       "      <td>-0.099070</td>\n",
       "      <td>0.254424</td>\n",
       "      <td>-1.192815</td>\n",
       "      <td>2.151888</td>\n",
       "      <td>-1.043907</td>\n",
       "      <td>-1.500113</td>\n",
       "      <td>0.927711</td>\n",
       "      <td>0.269731</td>\n",
       "      <td>1.885005e-28</td>\n",
       "    </tr>\n",
       "    <tr>\n",
       "      <th>50%</th>\n",
       "      <td>-0.000790</td>\n",
       "      <td>0.543780</td>\n",
       "      <td>-0.024736</td>\n",
       "      <td>-0.055490</td>\n",
       "      <td>0.565073</td>\n",
       "      <td>-0.447948</td>\n",
       "      <td>5.333330</td>\n",
       "      <td>-0.207836</td>\n",
       "      <td>-0.701890</td>\n",
       "      <td>3.455733</td>\n",
       "      <td>0.471820</td>\n",
       "      <td>5.495120e-18</td>\n",
       "    </tr>\n",
       "    <tr>\n",
       "      <th>75%</th>\n",
       "      <td>0.000399</td>\n",
       "      <td>0.954905</td>\n",
       "      <td>0.181010</td>\n",
       "      <td>-0.006013</td>\n",
       "      <td>0.912735</td>\n",
       "      <td>0.259847</td>\n",
       "      <td>6.558800</td>\n",
       "      <td>0.914314</td>\n",
       "      <td>-0.091505</td>\n",
       "      <td>6.292737</td>\n",
       "      <td>0.569895</td>\n",
       "      <td>5.809884e-10</td>\n",
       "    </tr>\n",
       "    <tr>\n",
       "      <th>max</th>\n",
       "      <td>0.010109</td>\n",
       "      <td>4.676858</td>\n",
       "      <td>3.977731</td>\n",
       "      <td>0.184428</td>\n",
       "      <td>1.800138</td>\n",
       "      <td>3.250745</td>\n",
       "      <td>10.186300</td>\n",
       "      <td>3.753299</td>\n",
       "      <td>1.903005</td>\n",
       "      <td>11.790931</td>\n",
       "      <td>0.693218</td>\n",
       "      <td>6.138402e-01</td>\n",
       "    </tr>\n",
       "  </tbody>\n",
       "</table>\n",
       "</div>"
      ],
      "text/plain": [
       "       const_beta  credit_beta  currency_beta  equity_beta  rates_beta  \\\n",
       "count   64.000000    64.000000      64.000000    64.000000   64.000000   \n",
       "mean    -0.002390     0.751348       0.106040    -0.070305    0.559986   \n",
       "std      0.008071     0.806349       0.567295     0.190735    0.553070   \n",
       "min     -0.057076    -0.273499      -0.418816    -1.346559   -1.598084   \n",
       "25%     -0.003041     0.273274      -0.130448    -0.099070    0.254424   \n",
       "50%     -0.000790     0.543780      -0.024736    -0.055490    0.565073   \n",
       "75%      0.000399     0.954905       0.181010    -0.006013    0.912735   \n",
       "max      0.010109     4.676858       3.977731     0.184428    1.800138   \n",
       "\n",
       "       const_tval  credit_tval  currency_tval  equity_tval  rates_tval  \\\n",
       "count   64.000000    64.000000      64.000000    64.000000   64.000000   \n",
       "mean    -0.372298     4.670096       0.019016    -0.773608    3.980593   \n",
       "std      1.295290     2.764371       1.439763     1.137473    3.444024   \n",
       "min     -2.738879    -1.004248      -3.662358    -3.699185   -0.839482   \n",
       "25%     -1.192815     2.151888      -1.043907    -1.500113    0.927711   \n",
       "50%     -0.447948     5.333330      -0.207836    -0.701890    3.455733   \n",
       "75%      0.259847     6.558800       0.914314    -0.091505    6.292737   \n",
       "max      3.250745    10.186300       3.753299     1.903005   11.790931   \n",
       "\n",
       "         rsq_adj      f_pvalue  \n",
       "count  64.000000  6.400000e+01  \n",
       "mean    0.423721  1.465004e-02  \n",
       "std     0.192534  7.975603e-02  \n",
       "min    -0.028561  1.721245e-47  \n",
       "25%     0.269731  1.885005e-28  \n",
       "50%     0.471820  5.495120e-18  \n",
       "75%     0.569895  5.809884e-10  \n",
       "max     0.693218  6.138402e-01  "
      ]
     },
     "execution_count": 30,
     "metadata": {},
     "output_type": "execute_result"
    }
   ],
   "source": [
    "results_df.describe()"
   ]
  },
  {
   "cell_type": "markdown",
   "id": "cellular-cargo",
   "metadata": {},
   "source": [
    "## Regression Results by Cluster"
   ]
  },
  {
   "cell_type": "code",
   "execution_count": 31,
   "id": "understood-diagram",
   "metadata": {},
   "outputs": [
    {
     "data": {
      "text/html": [
       "<div>\n",
       "<style scoped>\n",
       "    .dataframe tbody tr th:only-of-type {\n",
       "        vertical-align: middle;\n",
       "    }\n",
       "\n",
       "    .dataframe tbody tr th {\n",
       "        vertical-align: top;\n",
       "    }\n",
       "\n",
       "    .dataframe thead th {\n",
       "        text-align: right;\n",
       "    }\n",
       "</style>\n",
       "<table border=\"1\" class=\"dataframe\">\n",
       "  <thead>\n",
       "    <tr style=\"text-align: right;\">\n",
       "      <th></th>\n",
       "      <th>Countries</th>\n",
       "      <th>cluster_label</th>\n",
       "      <th>Income group</th>\n",
       "      <th>Region</th>\n",
       "    </tr>\n",
       "  </thead>\n",
       "  <tbody>\n",
       "    <tr>\n",
       "      <th>0</th>\n",
       "      <td>Bulgaria</td>\n",
       "      <td>0</td>\n",
       "      <td>NaN</td>\n",
       "      <td>NaN</td>\n",
       "    </tr>\n",
       "    <tr>\n",
       "      <th>1</th>\n",
       "      <td>Venezuela</td>\n",
       "      <td>0</td>\n",
       "      <td>NaN</td>\n",
       "      <td>NaN</td>\n",
       "    </tr>\n",
       "    <tr>\n",
       "      <th>2</th>\n",
       "      <td>South Korea</td>\n",
       "      <td>0</td>\n",
       "      <td>NaN</td>\n",
       "      <td>NaN</td>\n",
       "    </tr>\n",
       "    <tr>\n",
       "      <th>3</th>\n",
       "      <td>China</td>\n",
       "      <td>0</td>\n",
       "      <td>Upper middle income</td>\n",
       "      <td>East Asia &amp; Pacific</td>\n",
       "    </tr>\n",
       "    <tr>\n",
       "      <th>4</th>\n",
       "      <td>Ukraine</td>\n",
       "      <td>0</td>\n",
       "      <td>Lower middle income</td>\n",
       "      <td>Europe &amp; Central Asia</td>\n",
       "    </tr>\n",
       "  </tbody>\n",
       "</table>\n",
       "</div>"
      ],
      "text/plain": [
       "     Countries  cluster_label         Income group                 Region\n",
       "0     Bulgaria              0                  NaN                    NaN\n",
       "1    Venezuela              0                  NaN                    NaN\n",
       "2  South Korea              0                  NaN                    NaN\n",
       "3        China              0  Upper middle income    East Asia & Pacific\n",
       "4      Ukraine              0  Lower middle income  Europe & Central Asia"
      ]
     },
     "execution_count": 31,
     "metadata": {},
     "output_type": "execute_result"
    }
   ],
   "source": [
    "bond_idx_clusters = pd.read_pickle(os.path.join(cluster_path, 'clusters_bond_idx_ret_full.pkl'))\n",
    "bond_idx_clusters.head()"
   ]
  },
  {
   "cell_type": "code",
   "execution_count": 32,
   "id": "unlimited-interim",
   "metadata": {},
   "outputs": [
    {
     "data": {
      "text/plain": [
       "{'Algeria',\n",
       " 'Bahrain',\n",
       " 'Croatia',\n",
       " 'Greece',\n",
       " 'Kazakhstan',\n",
       " 'Morocco',\n",
       " 'Nigeria',\n",
       " 'Thailand'}"
      ]
     },
     "execution_count": 32,
     "metadata": {},
     "output_type": "execute_result"
    }
   ],
   "source": [
    "set(bond_idx_clusters['Countries']) - set(results_df['country'])"
   ]
  },
  {
   "cell_type": "code",
   "execution_count": 33,
   "id": "unsigned-pollution",
   "metadata": {},
   "outputs": [
    {
     "data": {
      "text/plain": [
       "{'Angola',\n",
       " 'Armenia',\n",
       " 'Aruba',\n",
       " 'Azerbaijan',\n",
       " 'Bahamas',\n",
       " 'Barbados',\n",
       " 'Belarus',\n",
       " 'Belize',\n",
       " 'Ecuador',\n",
       " 'Fiji',\n",
       " 'Gabon',\n",
       " 'Georgia',\n",
       " 'Ghana',\n",
       " 'Honduras',\n",
       " 'Iceland',\n",
       " 'Iraq',\n",
       " 'Kenya',\n",
       " 'Latvia',\n",
       " 'Lithuania',\n",
       " 'Mongolia',\n",
       " 'Namibia',\n",
       " 'Paraguay',\n",
       " 'Romania',\n",
       " 'Rwanda',\n",
       " 'Senegal',\n",
       " 'Serbia',\n",
       " 'Slovenia',\n",
       " 'Spain',\n",
       " 'Sri Lanka',\n",
       " 'Zambia'}"
      ]
     },
     "execution_count": 33,
     "metadata": {},
     "output_type": "execute_result"
    }
   ],
   "source": [
    "set(results_df['country']) - set(bond_idx_clusters['Countries'])"
   ]
  },
  {
   "cell_type": "code",
   "execution_count": 34,
   "id": "drawn-fighter",
   "metadata": {},
   "outputs": [],
   "source": [
    "results_with_cluster = results_df.merge(bond_idx_clusters, left_on='country', right_on='Countries')"
   ]
  },
  {
   "cell_type": "code",
   "execution_count": 35,
   "id": "statutory-closure",
   "metadata": {},
   "outputs": [],
   "source": [
    "beta_reformatted = results_with_cluster.set_index('cluster_label')[beta_cols].stack().to_frame().reset_index()\n",
    "beta_reformatted.columns = ['cluster', 'beta', 'value']"
   ]
  },
  {
   "cell_type": "code",
   "execution_count": 36,
   "id": "behind-kitchen",
   "metadata": {},
   "outputs": [
    {
     "data": {
      "image/png": "[encoded data removed]",
      "text/plain": [
       "<Figure size 864x432 with 1 Axes>"
      ]
     },
     "metadata": {},
     "output_type": "display_data"
    }
   ],
   "source": [
    "fig, ax = plt.subplots(figsize=(12, 6))\n",
    "ax = sns.barplot(x='beta', y='value', data=beta_reformatted, hue='cluster')"
   ]
  },
  {
   "cell_type": "code",
   "execution_count": 37,
   "id": "certain-ebony",
   "metadata": {},
   "outputs": [],
   "source": [
    "tval_reformatted = results_with_cluster.set_index('cluster_label')[tval_cols].stack().to_frame().reset_index()\n",
    "tval_reformatted.columns = ['cluster', 'tval', 'value']"
   ]
  },
  {
   "cell_type": "code",
   "execution_count": 38,
   "id": "renewable-kinase",
   "metadata": {},
   "outputs": [
    {
     "data": {
      "image/png": "[encoded data removed]",
      "text/plain": [
       "<Figure size 864x432 with 1 Axes>"
      ]
     },
     "metadata": {},
     "output_type": "display_data"
    }
   ],
   "source": [
    "fig, ax = plt.subplots(figsize=(12, 6))\n",
    "ax = sns.barplot(x='tval', y='value', data=tval_reformatted, hue='cluster')"
   ]
  },
  {
   "cell_type": "code",
   "execution_count": 39,
   "id": "hispanic-lobby",
   "metadata": {},
   "outputs": [],
   "source": [
    "beta_df = results_with_cluster.set_index('country')[beta_cols].T"
   ]
  },
  {
   "cell_type": "code",
   "execution_count": 40,
   "id": "billion-creature",
   "metadata": {},
   "outputs": [],
   "source": [
    "tval_df = results_with_cluster.set_index('country')[tval_cols].T"
   ]
  },
  {
   "cell_type": "code",
   "execution_count": 41,
   "id": "cellular-insulin",
   "metadata": {},
   "outputs": [],
   "source": [
    "def plot_cluster_betas(clusters_df, betas_df, cluster_n, ylim, ytitle):\n",
    "    # Plot betas for each cluster\n",
    "    cluster_list = list(clusters_df[clusters_df['cluster_label']==cluster_n]['Countries'])\n",
    "    betas_df_tmp = betas_df[cluster_list]\n",
    "    \n",
    "    #no_const = betas_df_tmp.T[betas_df_tmp.T.columns[~betas_df_tmp.T.columns.isin(['const'])]]\n",
    "    betas_df_tmp.T.plot(kind='bar', rot=0, figsize=(16,3))\n",
    "    plt.legend(loc='upper left')\n",
    "    plt.ylabel(ytitle)\n",
    "    plt.ylim(-ylim,ylim)\n",
    "\n",
    "def plot_multiple_clusters(clusters_df, betas_df, ylim, ytitle):\n",
    "    all_cluster_labels = list(clusters_df['cluster_label'].unique())\n",
    "    #fig, ax = plt.subplots(nrows=len(all_cluster_labels), constrained_layout=True, figsize=(12,8))\n",
    "    for label_ in all_cluster_labels:\n",
    "        plot_cluster_betas(clusters_df, betas_df, label_, ylim, ytitle)"
   ]
  },
  {
   "cell_type": "code",
   "execution_count": 42,
   "id": "opposed-weapon",
   "metadata": {},
   "outputs": [
    {
     "data": {
      "image/png": "[encoded data removed]",
      "text/plain": [
       "<Figure size 1152x216 with 1 Axes>"
      ]
     },
     "metadata": {},
     "output_type": "display_data"
    },
    {
     "data": {
      "image/png": "[encoded data removed]",
      "text/plain": [
       "<Figure size 1152x216 with 1 Axes>"
      ]
     },
     "metadata": {},
     "output_type": "display_data"
    },
    {
     "data": {
      "image/png": "[encoded data removed]",
      "text/plain": [
       "<Figure size 1152x216 with 1 Axes>"
      ]
     },
     "metadata": {},
     "output_type": "display_data"
    },
    {
     "data": {
      "image/png": "[encoded data removed]",
      "text/plain": [
       "<Figure size 1152x216 with 1 Axes>"
      ]
     },
     "metadata": {},
     "output_type": "display_data"
    }
   ],
   "source": [
    "plot_multiple_clusters(results_with_cluster, beta_df, 2, 'Betas')"
   ]
  },
  {
   "cell_type": "code",
   "execution_count": 44,
   "id": "cooked-writer",
   "metadata": {},
   "outputs": [
    {
     "data": {
      "image/png": "[encoded data removed]",
      "text/plain": [
       "<Figure size 1152x216 with 1 Axes>"
      ]
     },
     "metadata": {},
     "output_type": "display_data"
    },
    {
     "data": {
      "image/png": "[encoded data removed]",
      "text/plain": [
       "<Figure size 1152x216 with 1 Axes>"
      ]
     },
     "metadata": {},
     "output_type": "display_data"
    },
    {
     "data": {
      "image/png": "[encoded data removed]",
      "text/plain": [
       "<Figure size 1152x216 with 1 Axes>"
      ]
     },
     "metadata": {},
     "output_type": "display_data"
    },
    {
     "data": {
      "image/png": "[encoded data removed]",
      "text/plain": [
       "<Figure size 1152x216 with 1 Axes>"
      ]
     },
     "metadata": {},
     "output_type": "display_data"
    }
   ],
   "source": [
    "plot_multiple_clusters(results_with_cluster, tval_df, 15, 'Tvalues')"
   ]
  },
  {
   "cell_type": "code",
   "execution_count": null,
   "id": "isolated-reminder",
   "metadata": {},
   "outputs": [],
   "source": []
  }
 ],
 "metadata": {
  "environment": {
   "name": "common-cpu.mnightly-2021-01-20-debian-10-test",
   "type": "gcloud",
   "uri": "gcr.io/deeplearning-platform-release/base-cpu:mnightly-2021-01-20-debian-10-test"
  },
  "kernelspec": {
   "display_name": "Python 3",
   "language": "python",
   "name": "python3"
  },
  "language_info": {
   "codemirror_mode": {
    "name": "ipython",
    "version": 3
   },
   "file_extension": ".py",
   "mimetype": "text/x-python",
   "name": "python",
   "nbconvert_exporter": "python",
   "pygments_lexer": "ipython3",
   "version": "3.7.9"
  }
 },
 "nbformat": 4,
 "nbformat_minor": 5
}
