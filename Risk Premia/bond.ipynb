{
 "cells": [
  {
   "cell_type": "code",
   "execution_count": 1,
   "id": "shaped-regard",
   "metadata": {},
   "outputs": [],
   "source": [
    "import pandas as pd\n",
    "import numpy as np\n",
    "import os\n",
    "import statsmodels.api as sm\n",
    "import matplotlib.pyplot as plt\n",
    "import matplotlib\n",
    "matplotlib.style.use('ggplot')\n",
    "import seaborn as sns"
   ]
  },
  {
   "cell_type": "code",
   "execution_count": 2,
   "id": "optical-nevada",
   "metadata": {},
   "outputs": [],
   "source": [
    "country_data_path = '../Data/country_data'\n",
    "macro_data_path = '../Data/macro_factors'\n",
    "style_data_path = '../Data/style_factors'\n",
    "cluster_path = '../Outputs/country_clusters'"
   ]
  },
  {
   "cell_type": "code",
   "execution_count": 3,
   "id": "worldwide-retrieval",
   "metadata": {},
   "outputs": [],
   "source": [
    "start_date = '2003-10-01'"
   ]
  },
  {
   "cell_type": "markdown",
   "id": "gothic-italic",
   "metadata": {},
   "source": [
    "## Load Data"
   ]
  },
  {
   "cell_type": "markdown",
   "id": "independent-editing",
   "metadata": {},
   "source": [
    "### Read country sovereign bond index data"
   ]
  },
  {
   "cell_type": "code",
   "execution_count": 4,
   "id": "existing-cargo",
   "metadata": {},
   "outputs": [],
   "source": [
    "ticker_all = pd.read_csv(os.path.join(country_data_path, 'ice_bofa_sovereign_indices_summary.csv'), skipinitialspace=True)"
   ]
  },
  {
   "cell_type": "code",
   "execution_count": 5,
   "id": "established-allocation",
   "metadata": {},
   "outputs": [],
   "source": [
    "# optional: can apply filter to exclude some countries; this dictionary will be used to loop for regression\n",
    "# ticker = ticker_all.loc[(ticker_all['Number of Issues'] > 5) & (ticker_all['Sum of Market Value (mm, USD)'] > 10000), :].copy()\n",
    "ticker = ticker_all.copy()"
   ]
  },
  {
   "cell_type": "code",
   "execution_count": 6,
   "id": "applicable-moldova",
   "metadata": {},
   "outputs": [],
   "source": [
    "ticker['Country'] = ticker['Full Index Name'].apply(lambda x:' '.join(x.split()[4:-2]))"
   ]
  },
  {
   "cell_type": "code",
   "execution_count": 7,
   "id": "important-print",
   "metadata": {},
   "outputs": [],
   "source": [
    "ticker['Index Full Name'] = ticker['Index BBG Ticker'] + ' Index'"
   ]
  },
  {
   "cell_type": "code",
   "execution_count": 8,
   "id": "thermal-texas",
   "metadata": {},
   "outputs": [
    {
     "data": {
      "text/html": [
       "<div>\n",
       "<style scoped>\n",
       "    .dataframe tbody tr th:only-of-type {\n",
       "        vertical-align: middle;\n",
       "    }\n",
       "\n",
       "    .dataframe tbody tr th {\n",
       "        vertical-align: top;\n",
       "    }\n",
       "\n",
       "    .dataframe thead th {\n",
       "        text-align: right;\n",
       "    }\n",
       "</style>\n",
       "<table border=\"1\" class=\"dataframe\">\n",
       "  <thead>\n",
       "    <tr style=\"text-align: right;\">\n",
       "      <th></th>\n",
       "      <th>Index Full Name</th>\n",
       "      <th>Country</th>\n",
       "    </tr>\n",
       "  </thead>\n",
       "  <tbody>\n",
       "    <tr>\n",
       "      <th>0</th>\n",
       "      <td>GDID Index</td>\n",
       "      <td>Indonesia</td>\n",
       "    </tr>\n",
       "    <tr>\n",
       "      <th>1</th>\n",
       "      <td>GDTR Index</td>\n",
       "      <td>Turkey</td>\n",
       "    </tr>\n",
       "    <tr>\n",
       "      <th>2</th>\n",
       "      <td>GDMX Index</td>\n",
       "      <td>Mexico</td>\n",
       "    </tr>\n",
       "    <tr>\n",
       "      <th>3</th>\n",
       "      <td>GDEG Index</td>\n",
       "      <td>Egypt</td>\n",
       "    </tr>\n",
       "    <tr>\n",
       "      <th>4</th>\n",
       "      <td>GDPH Index</td>\n",
       "      <td>Philippines</td>\n",
       "    </tr>\n",
       "  </tbody>\n",
       "</table>\n",
       "</div>"
      ],
      "text/plain": [
       "  Index Full Name      Country\n",
       "0      GDID Index    Indonesia\n",
       "1      GDTR Index       Turkey\n",
       "2      GDMX Index       Mexico\n",
       "3      GDEG Index        Egypt\n",
       "4      GDPH Index  Philippines"
      ]
     },
     "execution_count": 8,
     "metadata": {},
     "output_type": "execute_result"
    }
   ],
   "source": [
    "ticker[['Index Full Name', 'Country']].head()"
   ]
  },
  {
   "cell_type": "code",
   "execution_count": 9,
   "id": "sufficient-infrared",
   "metadata": {},
   "outputs": [
    {
     "data": {
      "text/plain": [
       "array(['Indonesia', 'Turkey', 'Mexico', 'Egypt', 'Philippines', 'Bahrain',\n",
       "       'Brazil', 'Colombia', 'Dominican Republic', 'Panama', 'Qatar',\n",
       "       'South Africa', 'China', 'Israel', 'Ghana', 'Peru', 'Russia',\n",
       "       'Sri Lanka', 'Chile', 'El Salvador', 'Ukraine', 'Nigeria',\n",
       "       'Paraguay', 'South Korea', 'Uruguay', 'Guatemala', 'Romania',\n",
       "       'Argentina', 'Costa Rica', 'Angola', 'Belarus', 'Jamaica',\n",
       "       'Jordan', 'Kenya', 'Morocco', 'Pakistan', 'Bahamas', 'Hungary',\n",
       "       'Kazakhstan', 'Malaysia', 'Mongolia', 'Poland', 'Azerbaijan',\n",
       "       'Ecuador', 'Gabon', 'Honduras', 'Ivory Coast', 'Senegal',\n",
       "       'Trinidad & Tobago', 'Zambia', 'Armenia', 'Croatia', 'Iraq',\n",
       "       'Slovenia', 'Algeria', 'Aruba', 'Barbados', 'Belize', 'Greece',\n",
       "       'Lithuania', 'Namibia', 'Rwanda', 'Serbia', 'Slovakia', 'Thailand',\n",
       "       'Tunisia', 'Vietnam', 'Bulgaria', 'Fiji', 'Georgia', 'Iceland',\n",
       "       'Latvia', 'Lebanon', 'Mozambique', 'Spain', 'Venezuela', 'Bolivia'],\n",
       "      dtype=object)"
      ]
     },
     "execution_count": 9,
     "metadata": {},
     "output_type": "execute_result"
    }
   ],
   "source": [
    "ticker['Country'].unique()"
   ]
  },
  {
   "cell_type": "code",
   "execution_count": 10,
   "id": "fleet-disabled",
   "metadata": {},
   "outputs": [],
   "source": [
    "ticker_dict = pd.Series(data=ticker['Country'].values, index=ticker['Index Full Name']).to_dict()"
   ]
  },
  {
   "cell_type": "code",
   "execution_count": 11,
   "id": "informed-designer",
   "metadata": {},
   "outputs": [],
   "source": [
    "bnd_idx_price = pd.read_excel(os.path.join(country_data_path, 'ice_bofa_sovereign_indices_data.xlsx'), \n",
    "                            sheet_name='px_last data',\n",
    "                            skiprows=3,\n",
    "                            header=0)"
   ]
  },
  {
   "cell_type": "code",
   "execution_count": 12,
   "id": "tamil-arrival",
   "metadata": {},
   "outputs": [],
   "source": [
    "bnd_idx_price.drop(index=[0, 1], inplace=True)"
   ]
  },
  {
   "cell_type": "code",
   "execution_count": 13,
   "id": "dutch-question",
   "metadata": {},
   "outputs": [],
   "source": [
    "bnd_idx_price.rename(columns={\"Unnamed: 0\":\"Date\"}, inplace=True)"
   ]
  },
  {
   "cell_type": "code",
   "execution_count": 14,
   "id": "quarterly-fifty",
   "metadata": {},
   "outputs": [],
   "source": [
    "bnd_idx_price.set_index('Date', inplace=True)"
   ]
  },
  {
   "cell_type": "code",
   "execution_count": 15,
   "id": "cross-builder",
   "metadata": {},
   "outputs": [],
   "source": [
    "bnd_idx_price = bnd_idx_price.astype('float')"
   ]
  },
  {
   "cell_type": "code",
   "execution_count": 16,
   "id": "adaptive-smile",
   "metadata": {},
   "outputs": [],
   "source": [
    "bnd_idx_price_monthly = bnd_idx_price.resample('M').last()"
   ]
  },
  {
   "cell_type": "code",
   "execution_count": 17,
   "id": "breathing-study",
   "metadata": {},
   "outputs": [],
   "source": [
    "bnd_idx_price_monthly.replace(0, np.nan, inplace=True)"
   ]
  },
  {
   "cell_type": "markdown",
   "id": "static-colonial",
   "metadata": {},
   "source": [
    "### Read Macro Factors Data"
   ]
  },
  {
   "cell_type": "code",
   "execution_count": 18,
   "id": "marked-scope",
   "metadata": {},
   "outputs": [],
   "source": [
    "credit = pd.read_csv(os.path.join(macro_data_path, 'LF98TRUU_Index.csv'), header=None, parse_dates=[0], index_col=0, names=['credit'])\n",
    "currency = pd.read_csv(os.path.join(macro_data_path, 'MXEF0CX0_Index.csv'), header=None, parse_dates=[0], index_col=0, names=['currency'])\n",
    "equity = pd.read_csv(os.path.join(macro_data_path, 'WHANWIHD_Index.csv'), header=None, parse_dates=[0], index_col=0, names=['equity'])"
   ]
  },
  {
   "cell_type": "code",
   "execution_count": 19,
   "id": "weighted-waste",
   "metadata": {},
   "outputs": [],
   "source": [
    "rates = pd.read_csv(os.path.join(macro_data_path, 'JPM_GBIEM.csv'), skiprows=7, header=None, index_col=0, names=['rates_last', 'rates_mid'])\n",
    "rates.index = pd.to_datetime(rates.index)\n",
    "rates = rates.sort_index()\n",
    "rates = rates[['rates_last']]\n",
    "rates.columns = ['rates']"
   ]
  },
  {
   "cell_type": "code",
   "execution_count": 20,
   "id": "adapted-system",
   "metadata": {},
   "outputs": [],
   "source": [
    "macro_factors = credit.join(currency, how='inner').join(equity, how='inner').join(rates, how='inner')"
   ]
  },
  {
   "cell_type": "code",
   "execution_count": 21,
   "id": "functional-evans",
   "metadata": {},
   "outputs": [],
   "source": [
    "macro_factors_monthly = macro_factors.resample('M').last()"
   ]
  },
  {
   "cell_type": "code",
   "execution_count": 22,
   "id": "piano-utility",
   "metadata": {},
   "outputs": [],
   "source": [
    "macro_factors_monthly = macro_factors_monthly.astype('float')"
   ]
  },
  {
   "cell_type": "markdown",
   "id": "careful-mailman",
   "metadata": {},
   "source": [
    "### Read 3-Months LIBOR data"
   ]
  },
  {
   "cell_type": "code",
   "execution_count": 23,
   "id": "average-heather",
   "metadata": {},
   "outputs": [],
   "source": [
    "libor = pd.read_csv('../Data/others/USD3MTD156N.csv', index_col=0)\n",
    "libor.columns = ['3M_libor']\n",
    "libor['3M_libor'] = libor['3M_libor'].replace(['.'], np.nan)\n",
    "libor.fillna(method='ffill')\n",
    "libor = libor.apply(pd.to_numeric)\n",
    "libor.index = pd.to_datetime(libor.index)\n",
    "\n",
    "libor_monthly = libor.resample('M').first() / 1200 # convert annual data in % to a monthly return\n",
    "libor_monthly = libor_monthly.shift(1).dropna() # using first data of the month and shift by a period, to match bond index return's date convention - end of month date represents return earned over that month"
   ]
  },
  {
   "cell_type": "markdown",
   "id": "forced-afghanistan",
   "metadata": {},
   "source": [
    "## Regression"
   ]
  },
  {
   "cell_type": "code",
   "execution_count": 24,
   "id": "seeing-volunteer",
   "metadata": {},
   "outputs": [],
   "source": [
    "bnd_index_ret = np.log(bnd_idx_price_monthly).diff()"
   ]
  },
  {
   "cell_type": "code",
   "execution_count": 25,
   "id": "burning-crawford",
   "metadata": {},
   "outputs": [
    {
     "data": {
      "text/html": [
       "<div>\n",
       "<style scoped>\n",
       "    .dataframe tbody tr th:only-of-type {\n",
       "        vertical-align: middle;\n",
       "    }\n",
       "\n",
       "    .dataframe tbody tr th {\n",
       "        vertical-align: top;\n",
       "    }\n",
       "\n",
       "    .dataframe thead th {\n",
       "        text-align: right;\n",
       "    }\n",
       "</style>\n",
       "<table border=\"1\" class=\"dataframe\">\n",
       "  <thead>\n",
       "    <tr style=\"text-align: right;\">\n",
       "      <th></th>\n",
       "      <th>GDAM Index</th>\n",
       "      <th>GDAO Index</th>\n",
       "      <th>GDAR Index</th>\n",
       "      <th>GDAW Index</th>\n",
       "      <th>GDAZ Index</th>\n",
       "      <th>GDBB Index</th>\n",
       "      <th>GDBG Index</th>\n",
       "      <th>GDBH Index</th>\n",
       "      <th>GDBO Index</th>\n",
       "      <th>GDBR Index</th>\n",
       "      <th>...</th>\n",
       "      <th>GDTH Index</th>\n",
       "      <th>GDTN Index</th>\n",
       "      <th>GDTR Index</th>\n",
       "      <th>GDTT Index</th>\n",
       "      <th>GDUA Index</th>\n",
       "      <th>GDUY Index</th>\n",
       "      <th>GDVE Index</th>\n",
       "      <th>GDVN Index</th>\n",
       "      <th>GDZA Index</th>\n",
       "      <th>GDZM Index</th>\n",
       "    </tr>\n",
       "  </thead>\n",
       "  <tbody>\n",
       "    <tr>\n",
       "      <th>count</th>\n",
       "      <td>81.000000</td>\n",
       "      <td>101.000000</td>\n",
       "      <td>29.000000</td>\n",
       "      <td>99.000000</td>\n",
       "      <td>82.000000</td>\n",
       "      <td>168.000000</td>\n",
       "      <td>252.000000</td>\n",
       "      <td>211.000000</td>\n",
       "      <td>247.000000</td>\n",
       "      <td>252.000000</td>\n",
       "      <td>...</td>\n",
       "      <td>252.000000</td>\n",
       "      <td>225.000000</td>\n",
       "      <td>252.000000</td>\n",
       "      <td>193.000000</td>\n",
       "      <td>250.000000</td>\n",
       "      <td>252.000000</td>\n",
       "      <td>252.000000</td>\n",
       "      <td>193.000000</td>\n",
       "      <td>252.000000</td>\n",
       "      <td>99.000000</td>\n",
       "    </tr>\n",
       "    <tr>\n",
       "      <th>mean</th>\n",
       "      <td>0.006047</td>\n",
       "      <td>0.006631</td>\n",
       "      <td>-0.030350</td>\n",
       "      <td>0.004066</td>\n",
       "      <td>0.005400</td>\n",
       "      <td>0.003300</td>\n",
       "      <td>0.004364</td>\n",
       "      <td>0.000498</td>\n",
       "      <td>-0.028352</td>\n",
       "      <td>0.008063</td>\n",
       "      <td>...</td>\n",
       "      <td>0.002174</td>\n",
       "      <td>0.002953</td>\n",
       "      <td>0.007207</td>\n",
       "      <td>0.005278</td>\n",
       "      <td>0.009189</td>\n",
       "      <td>0.007198</td>\n",
       "      <td>0.005348</td>\n",
       "      <td>0.005765</td>\n",
       "      <td>0.006130</td>\n",
       "      <td>-0.000636</td>\n",
       "    </tr>\n",
       "    <tr>\n",
       "      <th>std</th>\n",
       "      <td>0.025372</td>\n",
       "      <td>0.105290</td>\n",
       "      <td>0.099993</td>\n",
       "      <td>0.015719</td>\n",
       "      <td>0.026430</td>\n",
       "      <td>0.034696</td>\n",
       "      <td>0.019377</td>\n",
       "      <td>0.004146</td>\n",
       "      <td>0.375968</td>\n",
       "      <td>0.042023</td>\n",
       "      <td>...</td>\n",
       "      <td>0.006958</td>\n",
       "      <td>0.012721</td>\n",
       "      <td>0.036664</td>\n",
       "      <td>0.022922</td>\n",
       "      <td>0.063254</td>\n",
       "      <td>0.057038</td>\n",
       "      <td>0.068971</td>\n",
       "      <td>0.030727</td>\n",
       "      <td>0.026784</td>\n",
       "      <td>0.080635</td>\n",
       "    </tr>\n",
       "    <tr>\n",
       "      <th>min</th>\n",
       "      <td>-0.135726</td>\n",
       "      <td>-0.893634</td>\n",
       "      <td>-0.338934</td>\n",
       "      <td>-0.069766</td>\n",
       "      <td>-0.132276</td>\n",
       "      <td>-0.165833</td>\n",
       "      <td>-0.147381</td>\n",
       "      <td>-0.028790</td>\n",
       "      <td>-1.386294</td>\n",
       "      <td>-0.210894</td>\n",
       "      <td>...</td>\n",
       "      <td>-0.026065</td>\n",
       "      <td>-0.072523</td>\n",
       "      <td>-0.180034</td>\n",
       "      <td>-0.184918</td>\n",
       "      <td>-0.479180</td>\n",
       "      <td>-0.381083</td>\n",
       "      <td>-0.552361</td>\n",
       "      <td>-0.281614</td>\n",
       "      <td>-0.191556</td>\n",
       "      <td>-0.457734</td>\n",
       "    </tr>\n",
       "    <tr>\n",
       "      <th>25%</th>\n",
       "      <td>-0.000509</td>\n",
       "      <td>-0.009947</td>\n",
       "      <td>-0.046797</td>\n",
       "      <td>0.000253</td>\n",
       "      <td>-0.006614</td>\n",
       "      <td>-0.004802</td>\n",
       "      <td>0.000000</td>\n",
       "      <td>0.000000</td>\n",
       "      <td>-0.223144</td>\n",
       "      <td>-0.008954</td>\n",
       "      <td>...</td>\n",
       "      <td>0.000000</td>\n",
       "      <td>0.000000</td>\n",
       "      <td>-0.009614</td>\n",
       "      <td>-0.000784</td>\n",
       "      <td>-0.008629</td>\n",
       "      <td>-0.008027</td>\n",
       "      <td>-0.013282</td>\n",
       "      <td>-0.001286</td>\n",
       "      <td>-0.006053</td>\n",
       "      <td>-0.031190</td>\n",
       "    </tr>\n",
       "    <tr>\n",
       "      <th>50%</th>\n",
       "      <td>0.007061</td>\n",
       "      <td>0.007067</td>\n",
       "      <td>-0.004017</td>\n",
       "      <td>0.004497</td>\n",
       "      <td>0.006777</td>\n",
       "      <td>0.000000</td>\n",
       "      <td>0.000000</td>\n",
       "      <td>0.000000</td>\n",
       "      <td>0.000000</td>\n",
       "      <td>0.011402</td>\n",
       "      <td>...</td>\n",
       "      <td>0.000000</td>\n",
       "      <td>0.000000</td>\n",
       "      <td>0.009581</td>\n",
       "      <td>0.006011</td>\n",
       "      <td>0.009573</td>\n",
       "      <td>0.008662</td>\n",
       "      <td>0.005048</td>\n",
       "      <td>0.007093</td>\n",
       "      <td>0.007877</td>\n",
       "      <td>-0.000797</td>\n",
       "    </tr>\n",
       "    <tr>\n",
       "      <th>75%</th>\n",
       "      <td>0.014938</td>\n",
       "      <td>0.024001</td>\n",
       "      <td>0.026629</td>\n",
       "      <td>0.007867</td>\n",
       "      <td>0.020004</td>\n",
       "      <td>0.012359</td>\n",
       "      <td>0.010756</td>\n",
       "      <td>0.000000</td>\n",
       "      <td>0.108293</td>\n",
       "      <td>0.025192</td>\n",
       "      <td>...</td>\n",
       "      <td>0.000511</td>\n",
       "      <td>0.006020</td>\n",
       "      <td>0.025770</td>\n",
       "      <td>0.014888</td>\n",
       "      <td>0.030000</td>\n",
       "      <td>0.031095</td>\n",
       "      <td>0.035912</td>\n",
       "      <td>0.017246</td>\n",
       "      <td>0.019398</td>\n",
       "      <td>0.028655</td>\n",
       "    </tr>\n",
       "    <tr>\n",
       "      <th>max</th>\n",
       "      <td>0.076157</td>\n",
       "      <td>0.337432</td>\n",
       "      <td>0.129239</td>\n",
       "      <td>0.071567</td>\n",
       "      <td>0.055869</td>\n",
       "      <td>0.170942</td>\n",
       "      <td>0.068749</td>\n",
       "      <td>0.022393</td>\n",
       "      <td>1.860752</td>\n",
       "      <td>0.233548</td>\n",
       "      <td>...</td>\n",
       "      <td>0.035111</td>\n",
       "      <td>0.062714</td>\n",
       "      <td>0.132061</td>\n",
       "      <td>0.084104</td>\n",
       "      <td>0.326299</td>\n",
       "      <td>0.297292</td>\n",
       "      <td>0.223687</td>\n",
       "      <td>0.099489</td>\n",
       "      <td>0.100748</td>\n",
       "      <td>0.327798</td>\n",
       "    </tr>\n",
       "  </tbody>\n",
       "</table>\n",
       "<p>8 rows × 77 columns</p>\n",
       "</div>"
      ],
      "text/plain": [
       "       GDAM Index  GDAO Index  GDAR Index  GDAW Index  GDAZ Index  GDBB Index  \\\n",
       "count   81.000000  101.000000   29.000000   99.000000   82.000000  168.000000   \n",
       "mean     0.006047    0.006631   -0.030350    0.004066    0.005400    0.003300   \n",
       "std      0.025372    0.105290    0.099993    0.015719    0.026430    0.034696   \n",
       "min     -0.135726   -0.893634   -0.338934   -0.069766   -0.132276   -0.165833   \n",
       "25%     -0.000509   -0.009947   -0.046797    0.000253   -0.006614   -0.004802   \n",
       "50%      0.007061    0.007067   -0.004017    0.004497    0.006777    0.000000   \n",
       "75%      0.014938    0.024001    0.026629    0.007867    0.020004    0.012359   \n",
       "max      0.076157    0.337432    0.129239    0.071567    0.055869    0.170942   \n",
       "\n",
       "       GDBG Index  GDBH Index  GDBO Index  GDBR Index  ...  GDTH Index  \\\n",
       "count  252.000000  211.000000  247.000000  252.000000  ...  252.000000   \n",
       "mean     0.004364    0.000498   -0.028352    0.008063  ...    0.002174   \n",
       "std      0.019377    0.004146    0.375968    0.042023  ...    0.006958   \n",
       "min     -0.147381   -0.028790   -1.386294   -0.210894  ...   -0.026065   \n",
       "25%      0.000000    0.000000   -0.223144   -0.008954  ...    0.000000   \n",
       "50%      0.000000    0.000000    0.000000    0.011402  ...    0.000000   \n",
       "75%      0.010756    0.000000    0.108293    0.025192  ...    0.000511   \n",
       "max      0.068749    0.022393    1.860752    0.233548  ...    0.035111   \n",
       "\n",
       "       GDTN Index  GDTR Index  GDTT Index  GDUA Index  GDUY Index  GDVE Index  \\\n",
       "count  225.000000  252.000000  193.000000  250.000000  252.000000  252.000000   \n",
       "mean     0.002953    0.007207    0.005278    0.009189    0.007198    0.005348   \n",
       "std      0.012721    0.036664    0.022922    0.063254    0.057038    0.068971   \n",
       "min     -0.072523   -0.180034   -0.184918   -0.479180   -0.381083   -0.552361   \n",
       "25%      0.000000   -0.009614   -0.000784   -0.008629   -0.008027   -0.013282   \n",
       "50%      0.000000    0.009581    0.006011    0.009573    0.008662    0.005048   \n",
       "75%      0.006020    0.025770    0.014888    0.030000    0.031095    0.035912   \n",
       "max      0.062714    0.132061    0.084104    0.326299    0.297292    0.223687   \n",
       "\n",
       "       GDVN Index  GDZA Index  GDZM Index  \n",
       "count  193.000000  252.000000   99.000000  \n",
       "mean     0.005765    0.006130   -0.000636  \n",
       "std      0.030727    0.026784    0.080635  \n",
       "min     -0.281614   -0.191556   -0.457734  \n",
       "25%     -0.001286   -0.006053   -0.031190  \n",
       "50%      0.007093    0.007877   -0.000797  \n",
       "75%      0.017246    0.019398    0.028655  \n",
       "max      0.099489    0.100748    0.327798  \n",
       "\n",
       "[8 rows x 77 columns]"
      ]
     },
     "execution_count": 25,
     "metadata": {},
     "output_type": "execute_result"
    }
   ],
   "source": [
    "bnd_index_ret.describe()"
   ]
  },
  {
   "cell_type": "code",
   "execution_count": 26,
   "id": "experienced-script",
   "metadata": {},
   "outputs": [],
   "source": [
    "bnd_index_ret.replace(0, np.nan, inplace=True)"
   ]
  },
  {
   "cell_type": "code",
   "execution_count": 27,
   "id": "disabled-bloom",
   "metadata": {},
   "outputs": [],
   "source": [
    "bnd_index_excess_ret = bnd_index_ret.subtract(libor_monthly['3M_libor'], axis=0).dropna(axis=0, how='all')"
   ]
  },
  {
   "cell_type": "code",
   "execution_count": 28,
   "id": "hybrid-mississippi",
   "metadata": {},
   "outputs": [],
   "source": [
    "macro_factors_ret = np.log(macro_factors_monthly).diff().dropna()"
   ]
  },
  {
   "cell_type": "code",
   "execution_count": 29,
   "id": "acquired-prairie",
   "metadata": {},
   "outputs": [
    {
     "data": {
      "text/html": [
       "<div>\n",
       "<style scoped>\n",
       "    .dataframe tbody tr th:only-of-type {\n",
       "        vertical-align: middle;\n",
       "    }\n",
       "\n",
       "    .dataframe tbody tr th {\n",
       "        vertical-align: top;\n",
       "    }\n",
       "\n",
       "    .dataframe thead th {\n",
       "        text-align: right;\n",
       "    }\n",
       "</style>\n",
       "<table border=\"1\" class=\"dataframe\">\n",
       "  <thead>\n",
       "    <tr style=\"text-align: right;\">\n",
       "      <th></th>\n",
       "      <th>credit</th>\n",
       "      <th>currency</th>\n",
       "      <th>equity</th>\n",
       "      <th>rates</th>\n",
       "    </tr>\n",
       "  </thead>\n",
       "  <tbody>\n",
       "    <tr>\n",
       "      <th>count</th>\n",
       "      <td>191.000000</td>\n",
       "      <td>191.000000</td>\n",
       "      <td>191.000000</td>\n",
       "      <td>191.000000</td>\n",
       "    </tr>\n",
       "    <tr>\n",
       "      <th>mean</th>\n",
       "      <td>0.005827</td>\n",
       "      <td>0.002256</td>\n",
       "      <td>0.006560</td>\n",
       "      <td>0.003693</td>\n",
       "    </tr>\n",
       "    <tr>\n",
       "      <th>std</th>\n",
       "      <td>0.027960</td>\n",
       "      <td>0.019484</td>\n",
       "      <td>0.040996</td>\n",
       "      <td>0.012621</td>\n",
       "    </tr>\n",
       "    <tr>\n",
       "      <th>min</th>\n",
       "      <td>-0.173244</td>\n",
       "      <td>-0.078636</td>\n",
       "      <td>-0.171625</td>\n",
       "      <td>-0.039949</td>\n",
       "    </tr>\n",
       "    <tr>\n",
       "      <th>25%</th>\n",
       "      <td>-0.003483</td>\n",
       "      <td>-0.006882</td>\n",
       "      <td>-0.012876</td>\n",
       "      <td>-0.003229</td>\n",
       "    </tr>\n",
       "    <tr>\n",
       "      <th>50%</th>\n",
       "      <td>0.007352</td>\n",
       "      <td>0.003989</td>\n",
       "      <td>0.013603</td>\n",
       "      <td>0.005135</td>\n",
       "    </tr>\n",
       "    <tr>\n",
       "      <th>75%</th>\n",
       "      <td>0.016999</td>\n",
       "      <td>0.013584</td>\n",
       "      <td>0.030295</td>\n",
       "      <td>0.010941</td>\n",
       "    </tr>\n",
       "    <tr>\n",
       "      <th>max</th>\n",
       "      <td>0.114263</td>\n",
       "      <td>0.050544</td>\n",
       "      <td>0.114004</td>\n",
       "      <td>0.066541</td>\n",
       "    </tr>\n",
       "  </tbody>\n",
       "</table>\n",
       "</div>"
      ],
      "text/plain": [
       "           credit    currency      equity       rates\n",
       "count  191.000000  191.000000  191.000000  191.000000\n",
       "mean     0.005827    0.002256    0.006560    0.003693\n",
       "std      0.027960    0.019484    0.040996    0.012621\n",
       "min     -0.173244   -0.078636   -0.171625   -0.039949\n",
       "25%     -0.003483   -0.006882   -0.012876   -0.003229\n",
       "50%      0.007352    0.003989    0.013603    0.005135\n",
       "75%      0.016999    0.013584    0.030295    0.010941\n",
       "max      0.114263    0.050544    0.114004    0.066541"
      ]
     },
     "execution_count": 29,
     "metadata": {},
     "output_type": "execute_result"
    }
   ],
   "source": [
    "macro_factors_ret.describe()"
   ]
  },
  {
   "cell_type": "code",
   "execution_count": 30,
   "id": "increased-importance",
   "metadata": {},
   "outputs": [],
   "source": [
    "def display_single_factor_performance(df, frequency):\n",
    "    \n",
    "    if frequency == 'M':\n",
    "        df_mean = df.mean() * 12\n",
    "        df_mean.name = 'Avg Return'\n",
    "        df_vol = df.std() * np.sqrt(12)\n",
    "        df_vol.name = 'Volatility'\n",
    "        df_sr = df_mean / df_vol\n",
    "        df_sr.name = 'Sharpe Ratio'\n",
    "        \n",
    "    df_result = df_mean.to_frame().join(df_vol).join(df_sr)\n",
    "    # df_result.columns = ['Avg return', 'Volatility', 'Sharpe ratio']\n",
    "    \n",
    "    return df_result.round(3)"
   ]
  },
  {
   "cell_type": "code",
   "execution_count": 31,
   "id": "fantastic-estate",
   "metadata": {},
   "outputs": [],
   "source": [
    "macro_performance = display_single_factor_performance(macro_factors_ret * 100, frequency='M')"
   ]
  },
  {
   "cell_type": "code",
   "execution_count": 32,
   "id": "smooth-viewer",
   "metadata": {},
   "outputs": [
    {
     "data": {
      "text/html": [
       "<div>\n",
       "<style scoped>\n",
       "    .dataframe tbody tr th:only-of-type {\n",
       "        vertical-align: middle;\n",
       "    }\n",
       "\n",
       "    .dataframe tbody tr th {\n",
       "        vertical-align: top;\n",
       "    }\n",
       "\n",
       "    .dataframe thead th {\n",
       "        text-align: right;\n",
       "    }\n",
       "</style>\n",
       "<table border=\"1\" class=\"dataframe\">\n",
       "  <thead>\n",
       "    <tr style=\"text-align: right;\">\n",
       "      <th></th>\n",
       "      <th>Avg Return</th>\n",
       "      <th>Volatility</th>\n",
       "      <th>Sharpe Ratio</th>\n",
       "    </tr>\n",
       "  </thead>\n",
       "  <tbody>\n",
       "    <tr>\n",
       "      <th>credit</th>\n",
       "      <td>6.992</td>\n",
       "      <td>9.686</td>\n",
       "      <td>0.722</td>\n",
       "    </tr>\n",
       "    <tr>\n",
       "      <th>currency</th>\n",
       "      <td>2.707</td>\n",
       "      <td>6.750</td>\n",
       "      <td>0.401</td>\n",
       "    </tr>\n",
       "    <tr>\n",
       "      <th>equity</th>\n",
       "      <td>7.871</td>\n",
       "      <td>14.201</td>\n",
       "      <td>0.554</td>\n",
       "    </tr>\n",
       "    <tr>\n",
       "      <th>rates</th>\n",
       "      <td>4.432</td>\n",
       "      <td>4.372</td>\n",
       "      <td>1.014</td>\n",
       "    </tr>\n",
       "  </tbody>\n",
       "</table>\n",
       "</div>"
      ],
      "text/plain": [
       "          Avg Return  Volatility  Sharpe Ratio\n",
       "credit         6.992       9.686         0.722\n",
       "currency       2.707       6.750         0.401\n",
       "equity         7.871      14.201         0.554\n",
       "rates          4.432       4.372         1.014"
      ]
     },
     "execution_count": 32,
     "metadata": {},
     "output_type": "execute_result"
    }
   ],
   "source": [
    "macro_performance"
   ]
  },
  {
   "cell_type": "code",
   "execution_count": 33,
   "id": "dirty-marble",
   "metadata": {},
   "outputs": [],
   "source": [
    "results_df = pd.DataFrame()\n",
    "results_dict = {} \n",
    "\n",
    "cols = ['const'] + macro_factors_ret.columns.tolist()\n",
    "beta_cols = [x + '_beta' for x in cols]\n",
    "tval_cols = [x + '_tval' for x in cols]\n",
    "\n",
    "for bnd_index in bnd_index_excess_ret:\n",
    "    \n",
    "    country = ticker_dict[bnd_index]\n",
    "    temp = bnd_index_excess_ret[bnd_index].dropna().to_frame().join(macro_factors_ret, how='inner')\n",
    "    \n",
    "    if temp.shape[0] > 30:\n",
    "\n",
    "        y = temp.iloc[:, 0]\n",
    "        X = temp.iloc[:, 1:]\n",
    "        X = sm.add_constant(X)\n",
    "        model = sm.OLS(y, X)\n",
    "        results = model.fit()\n",
    "\n",
    "        betas = results.params\n",
    "        tvalues = results.tvalues\n",
    "        rsq_adj = results.rsquared_adj\n",
    "        f_pvalue = results.f_pvalue\n",
    "        start_date = y.index.min().strftime('%Y%m')\n",
    "        temp_results_df = pd.DataFrame(data=np.r_[betas, tvalues, rsq_adj, f_pvalue], \n",
    "                                       index=beta_cols + tval_cols + ['rsq_adj', 'f_pvalue']).T\n",
    "        temp_results_df['country'] = country\n",
    "        temp_results_df['start_date'] = start_date\n",
    "        results_df = results_df.append(temp_results_df)\n",
    "    \n",
    "        results_dict[country] = results\n"
   ]
  },
  {
   "cell_type": "code",
   "execution_count": 34,
   "id": "dutch-wales",
   "metadata": {},
   "outputs": [
    {
     "data": {
      "text/html": [
       "<div>\n",
       "<style scoped>\n",
       "    .dataframe tbody tr th:only-of-type {\n",
       "        vertical-align: middle;\n",
       "    }\n",
       "\n",
       "    .dataframe tbody tr th {\n",
       "        vertical-align: top;\n",
       "    }\n",
       "\n",
       "    .dataframe thead th {\n",
       "        text-align: right;\n",
       "    }\n",
       "</style>\n",
       "<table border=\"1\" class=\"dataframe\">\n",
       "  <thead>\n",
       "    <tr style=\"text-align: right;\">\n",
       "      <th></th>\n",
       "      <th>const_beta</th>\n",
       "      <th>credit_beta</th>\n",
       "      <th>currency_beta</th>\n",
       "      <th>equity_beta</th>\n",
       "      <th>rates_beta</th>\n",
       "      <th>const_tval</th>\n",
       "      <th>credit_tval</th>\n",
       "      <th>currency_tval</th>\n",
       "      <th>equity_tval</th>\n",
       "      <th>rates_tval</th>\n",
       "      <th>rsq_adj</th>\n",
       "      <th>f_pvalue</th>\n",
       "    </tr>\n",
       "  </thead>\n",
       "  <tbody>\n",
       "    <tr>\n",
       "      <th>count</th>\n",
       "      <td>64.000000</td>\n",
       "      <td>64.000000</td>\n",
       "      <td>64.000000</td>\n",
       "      <td>64.000000</td>\n",
       "      <td>64.000000</td>\n",
       "      <td>64.000000</td>\n",
       "      <td>64.000000</td>\n",
       "      <td>64.000000</td>\n",
       "      <td>64.000000</td>\n",
       "      <td>64.000000</td>\n",
       "      <td>64.000000</td>\n",
       "      <td>6.400000e+01</td>\n",
       "    </tr>\n",
       "    <tr>\n",
       "      <th>mean</th>\n",
       "      <td>-0.002390</td>\n",
       "      <td>0.751348</td>\n",
       "      <td>0.106040</td>\n",
       "      <td>-0.070305</td>\n",
       "      <td>0.559986</td>\n",
       "      <td>-0.372298</td>\n",
       "      <td>4.670096</td>\n",
       "      <td>0.019016</td>\n",
       "      <td>-0.773608</td>\n",
       "      <td>3.980593</td>\n",
       "      <td>0.423721</td>\n",
       "      <td>1.465004e-02</td>\n",
       "    </tr>\n",
       "    <tr>\n",
       "      <th>std</th>\n",
       "      <td>0.008071</td>\n",
       "      <td>0.806349</td>\n",
       "      <td>0.567295</td>\n",
       "      <td>0.190735</td>\n",
       "      <td>0.553070</td>\n",
       "      <td>1.295290</td>\n",
       "      <td>2.764371</td>\n",
       "      <td>1.439763</td>\n",
       "      <td>1.137473</td>\n",
       "      <td>3.444024</td>\n",
       "      <td>0.192534</td>\n",
       "      <td>7.975603e-02</td>\n",
       "    </tr>\n",
       "    <tr>\n",
       "      <th>min</th>\n",
       "      <td>-0.057076</td>\n",
       "      <td>-0.273499</td>\n",
       "      <td>-0.418816</td>\n",
       "      <td>-1.346559</td>\n",
       "      <td>-1.598084</td>\n",
       "      <td>-2.738879</td>\n",
       "      <td>-1.004248</td>\n",
       "      <td>-3.662358</td>\n",
       "      <td>-3.699185</td>\n",
       "      <td>-0.839482</td>\n",
       "      <td>-0.028561</td>\n",
       "      <td>1.721245e-47</td>\n",
       "    </tr>\n",
       "    <tr>\n",
       "      <th>25%</th>\n",
       "      <td>-0.003041</td>\n",
       "      <td>0.273274</td>\n",
       "      <td>-0.130448</td>\n",
       "      <td>-0.099070</td>\n",
       "      <td>0.254424</td>\n",
       "      <td>-1.192815</td>\n",
       "      <td>2.151888</td>\n",
       "      <td>-1.043907</td>\n",
       "      <td>-1.500113</td>\n",
       "      <td>0.927711</td>\n",
       "      <td>0.269731</td>\n",
       "      <td>1.885005e-28</td>\n",
       "    </tr>\n",
       "    <tr>\n",
       "      <th>50%</th>\n",
       "      <td>-0.000790</td>\n",
       "      <td>0.543780</td>\n",
       "      <td>-0.024736</td>\n",
       "      <td>-0.055490</td>\n",
       "      <td>0.565073</td>\n",
       "      <td>-0.447948</td>\n",
       "      <td>5.333330</td>\n",
       "      <td>-0.207836</td>\n",
       "      <td>-0.701890</td>\n",
       "      <td>3.455733</td>\n",
       "      <td>0.471820</td>\n",
       "      <td>5.495120e-18</td>\n",
       "    </tr>\n",
       "    <tr>\n",
       "      <th>75%</th>\n",
       "      <td>0.000399</td>\n",
       "      <td>0.954905</td>\n",
       "      <td>0.181010</td>\n",
       "      <td>-0.006013</td>\n",
       "      <td>0.912735</td>\n",
       "      <td>0.259847</td>\n",
       "      <td>6.558800</td>\n",
       "      <td>0.914314</td>\n",
       "      <td>-0.091505</td>\n",
       "      <td>6.292737</td>\n",
       "      <td>0.569895</td>\n",
       "      <td>5.809884e-10</td>\n",
       "    </tr>\n",
       "    <tr>\n",
       "      <th>max</th>\n",
       "      <td>0.010109</td>\n",
       "      <td>4.676858</td>\n",
       "      <td>3.977731</td>\n",
       "      <td>0.184428</td>\n",
       "      <td>1.800138</td>\n",
       "      <td>3.250745</td>\n",
       "      <td>10.186300</td>\n",
       "      <td>3.753299</td>\n",
       "      <td>1.903005</td>\n",
       "      <td>11.790931</td>\n",
       "      <td>0.693218</td>\n",
       "      <td>6.138402e-01</td>\n",
       "    </tr>\n",
       "  </tbody>\n",
       "</table>\n",
       "</div>"
      ],
      "text/plain": [
       "       const_beta  credit_beta  currency_beta  equity_beta  rates_beta  \\\n",
       "count   64.000000    64.000000      64.000000    64.000000   64.000000   \n",
       "mean    -0.002390     0.751348       0.106040    -0.070305    0.559986   \n",
       "std      0.008071     0.806349       0.567295     0.190735    0.553070   \n",
       "min     -0.057076    -0.273499      -0.418816    -1.346559   -1.598084   \n",
       "25%     -0.003041     0.273274      -0.130448    -0.099070    0.254424   \n",
       "50%     -0.000790     0.543780      -0.024736    -0.055490    0.565073   \n",
       "75%      0.000399     0.954905       0.181010    -0.006013    0.912735   \n",
       "max      0.010109     4.676858       3.977731     0.184428    1.800138   \n",
       "\n",
       "       const_tval  credit_tval  currency_tval  equity_tval  rates_tval  \\\n",
       "count   64.000000    64.000000      64.000000    64.000000   64.000000   \n",
       "mean    -0.372298     4.670096       0.019016    -0.773608    3.980593   \n",
       "std      1.295290     2.764371       1.439763     1.137473    3.444024   \n",
       "min     -2.738879    -1.004248      -3.662358    -3.699185   -0.839482   \n",
       "25%     -1.192815     2.151888      -1.043907    -1.500113    0.927711   \n",
       "50%     -0.447948     5.333330      -0.207836    -0.701890    3.455733   \n",
       "75%      0.259847     6.558800       0.914314    -0.091505    6.292737   \n",
       "max      3.250745    10.186300       3.753299     1.903005   11.790931   \n",
       "\n",
       "         rsq_adj      f_pvalue  \n",
       "count  64.000000  6.400000e+01  \n",
       "mean    0.423721  1.465004e-02  \n",
       "std     0.192534  7.975603e-02  \n",
       "min    -0.028561  1.721245e-47  \n",
       "25%     0.269731  1.885005e-28  \n",
       "50%     0.471820  5.495120e-18  \n",
       "75%     0.569895  5.809884e-10  \n",
       "max     0.693218  6.138402e-01  "
      ]
     },
     "execution_count": 34,
     "metadata": {},
     "output_type": "execute_result"
    }
   ],
   "source": [
    "results_df.describe()"
   ]
  },
  {
   "cell_type": "markdown",
   "id": "widespread-money",
   "metadata": {},
   "source": [
    "## Regression Results by Cluster"
   ]
  },
  {
   "cell_type": "code",
   "execution_count": 35,
   "id": "interracial-twenty",
   "metadata": {},
   "outputs": [
    {
     "data": {
      "text/html": [
       "<div>\n",
       "<style scoped>\n",
       "    .dataframe tbody tr th:only-of-type {\n",
       "        vertical-align: middle;\n",
       "    }\n",
       "\n",
       "    .dataframe tbody tr th {\n",
       "        vertical-align: top;\n",
       "    }\n",
       "\n",
       "    .dataframe thead th {\n",
       "        text-align: right;\n",
       "    }\n",
       "</style>\n",
       "<table border=\"1\" class=\"dataframe\">\n",
       "  <thead>\n",
       "    <tr style=\"text-align: right;\">\n",
       "      <th></th>\n",
       "      <th>Countries</th>\n",
       "      <th>cluster_label</th>\n",
       "    </tr>\n",
       "  </thead>\n",
       "  <tbody>\n",
       "    <tr>\n",
       "      <th>0</th>\n",
       "      <td>Bulgaria</td>\n",
       "      <td>0</td>\n",
       "    </tr>\n",
       "    <tr>\n",
       "      <th>1</th>\n",
       "      <td>Bolivia</td>\n",
       "      <td>0</td>\n",
       "    </tr>\n",
       "    <tr>\n",
       "      <th>2</th>\n",
       "      <td>Ukraine</td>\n",
       "      <td>0</td>\n",
       "    </tr>\n",
       "    <tr>\n",
       "      <th>3</th>\n",
       "      <td>Venezuela</td>\n",
       "      <td>0</td>\n",
       "    </tr>\n",
       "    <tr>\n",
       "      <th>4</th>\n",
       "      <td>El Salvador</td>\n",
       "      <td>1</td>\n",
       "    </tr>\n",
       "  </tbody>\n",
       "</table>\n",
       "</div>"
      ],
      "text/plain": [
       "     Countries  cluster_label\n",
       "0     Bulgaria              0\n",
       "1      Bolivia              0\n",
       "2      Ukraine              0\n",
       "3    Venezuela              0\n",
       "4  El Salvador              1"
      ]
     },
     "execution_count": 35,
     "metadata": {},
     "output_type": "execute_result"
    }
   ],
   "source": [
    "bond_idx_clusters = pd.read_pickle(os.path.join(cluster_path, 'clusters_bond_idx_ret_full.pkl'))\n",
    "bond_idx_clusters.head()"
   ]
  },
  {
   "cell_type": "code",
   "execution_count": 36,
   "id": "permanent-cable",
   "metadata": {},
   "outputs": [
    {
     "data": {
      "text/plain": [
       "set()"
      ]
     },
     "execution_count": 36,
     "metadata": {},
     "output_type": "execute_result"
    }
   ],
   "source": [
    "set(bond_idx_clusters['Countries']) - set(results_df['country'])"
   ]
  },
  {
   "cell_type": "code",
   "execution_count": 37,
   "id": "juvenile-thirty",
   "metadata": {},
   "outputs": [
    {
     "data": {
      "text/plain": [
       "{'Angola',\n",
       " 'Armenia',\n",
       " 'Aruba',\n",
       " 'Azerbaijan',\n",
       " 'Bahamas',\n",
       " 'Barbados',\n",
       " 'Belarus',\n",
       " 'Belize',\n",
       " 'Ecuador',\n",
       " 'Fiji',\n",
       " 'Gabon',\n",
       " 'Georgia',\n",
       " 'Ghana',\n",
       " 'Honduras',\n",
       " 'Iceland',\n",
       " 'Iraq',\n",
       " 'Kenya',\n",
       " 'Latvia',\n",
       " 'Lithuania',\n",
       " 'Mongolia',\n",
       " 'Namibia',\n",
       " 'Pakistan',\n",
       " 'Paraguay',\n",
       " 'Romania',\n",
       " 'Rwanda',\n",
       " 'Senegal',\n",
       " 'Serbia',\n",
       " 'Slovenia',\n",
       " 'Spain',\n",
       " 'Sri Lanka',\n",
       " 'Trinidad & Tobago',\n",
       " 'Tunisia',\n",
       " 'Vietnam',\n",
       " 'Zambia'}"
      ]
     },
     "execution_count": 37,
     "metadata": {},
     "output_type": "execute_result"
    }
   ],
   "source": [
    "set(results_df['country']) - set(bond_idx_clusters['Countries'])"
   ]
  },
  {
   "cell_type": "code",
   "execution_count": 38,
   "id": "packed-bachelor",
   "metadata": {},
   "outputs": [],
   "source": [
    "results_with_cluster = results_df.merge(bond_idx_clusters, left_on='country', right_on='Countries')"
   ]
  },
  {
   "cell_type": "code",
   "execution_count": 39,
   "id": "encouraging-cosmetic",
   "metadata": {},
   "outputs": [],
   "source": [
    "beta_reformatted = results_with_cluster.set_index('cluster_label')[beta_cols].stack().to_frame().reset_index()\n",
    "beta_reformatted.columns = ['cluster', 'beta', 'value']"
   ]
  },
  {
   "cell_type": "code",
   "execution_count": 40,
   "id": "recovered-sigma",
   "metadata": {},
   "outputs": [
    {
     "data": {
      "image/png": "[encoded data removed]",
      "text/plain": [
       "<Figure size 864x432 with 1 Axes>"
      ]
     },
     "metadata": {},
     "output_type": "display_data"
    }
   ],
   "source": [
    "fig, ax = plt.subplots(figsize=(12, 6))\n",
    "ax = sns.barplot(x='beta', y='value', data=beta_reformatted, hue='cluster')"
   ]
  },
  {
   "cell_type": "code",
   "execution_count": 41,
   "id": "continental-authorization",
   "metadata": {},
   "outputs": [],
   "source": [
    "tval_reformatted = results_with_cluster.set_index('cluster_label')[tval_cols].stack().to_frame().reset_index()\n",
    "tval_reformatted.columns = ['cluster', 'tval', 'value']"
   ]
  },
  {
   "cell_type": "code",
   "execution_count": 42,
   "id": "psychological-garage",
   "metadata": {},
   "outputs": [
    {
     "data": {
      "image/png": "[encoded data removed]",
      "text/plain": [
       "<Figure size 864x432 with 1 Axes>"
      ]
     },
     "metadata": {},
     "output_type": "display_data"
    }
   ],
   "source": [
    "fig, ax = plt.subplots(figsize=(12, 6))\n",
    "ax = sns.barplot(x='tval', y='value', data=tval_reformatted, hue='cluster')"
   ]
  },
  {
   "cell_type": "code",
   "execution_count": 43,
   "id": "continuous-scott",
   "metadata": {},
   "outputs": [],
   "source": [
    "beta_df = results_with_cluster.set_index('country')[beta_cols].T"
   ]
  },
  {
   "cell_type": "code",
   "execution_count": 44,
   "id": "checked-boost",
   "metadata": {},
   "outputs": [],
   "source": [
    "tval_df = results_with_cluster.set_index('country')[tval_cols].T"
   ]
  },
  {
   "cell_type": "code",
   "execution_count": 45,
   "id": "intimate-scale",
   "metadata": {},
   "outputs": [],
   "source": [
    "def plot_cluster_betas(clusters_df, betas_df, cluster_n, ylim, ytitle):\n",
    "    # Plot betas for each cluster\n",
    "    cluster_list = list(clusters_df[clusters_df['cluster_label']==cluster_n]['Countries'])\n",
    "    betas_df_tmp = betas_df[cluster_list]\n",
    "    \n",
    "    #no_const = betas_df_tmp.T[betas_df_tmp.T.columns[~betas_df_tmp.T.columns.isin(['const'])]]\n",
    "    betas_df_tmp.T.plot(kind='bar', rot=0, figsize=(16,3))\n",
    "    plt.legend(loc='upper left')\n",
    "    plt.ylabel(ytitle)\n",
    "    plt.ylim(-ylim,ylim)\n",
    "\n",
    "def plot_multiple_clusters(clusters_df, betas_df, ylim, ytitle):\n",
    "    all_cluster_labels = list(clusters_df['cluster_label'].unique())\n",
    "    #fig, ax = plt.subplots(nrows=len(all_cluster_labels), constrained_layout=True, figsize=(12,8))\n",
    "    for label_ in all_cluster_labels:\n",
    "        plot_cluster_betas(clusters_df, betas_df, label_, ylim, ytitle)"
   ]
  },
  {
   "cell_type": "code",
   "execution_count": 46,
   "id": "assumed-incident",
   "metadata": {},
   "outputs": [
    {
     "data": {
      "image/png": "[encoded data removed]",
      "text/plain": [
       "<Figure size 1152x216 with 1 Axes>"
      ]
     },
     "metadata": {},
     "output_type": "display_data"
    },
    {
     "data": {
      "image/png": "[encoded data removed]",
      "text/plain": [
       "<Figure size 1152x216 with 1 Axes>"
      ]
     },
     "metadata": {},
     "output_type": "display_data"
    },
    {
     "data": {
      "image/png": "[encoded data removed]",
      "text/plain": [
       "<Figure size 1152x216 with 1 Axes>"
      ]
     },
     "metadata": {},
     "output_type": "display_data"
    },
    {
     "data": {
      "image/png": "[encoded data removed]",
      "text/plain": [
       "<Figure size 1152x216 with 1 Axes>"
      ]
     },
     "metadata": {},
     "output_type": "display_data"
    }
   ],
   "source": [
    "plot_multiple_clusters(results_with_cluster, beta_df, 2, 'Betas')"
   ]
  },
  {
   "cell_type": "code",
   "execution_count": 47,
   "id": "excited-affairs",
   "metadata": {},
   "outputs": [
    {
     "data": {
      "image/png": "[encoded data removed]",
      "text/plain": [
       "<Figure size 1152x216 with 1 Axes>"
      ]
     },
     "metadata": {},
     "output_type": "display_data"
    },
    {
     "data": {
      "image/png": "[encoded data removed]",
      "text/plain": [
       "<Figure size 1152x216 with 1 Axes>"
      ]
     },
     "metadata": {},
     "output_type": "display_data"
    },
    {
     "data": {
      "image/png": "[encoded data removed]",
      "text/plain": [
       "<Figure size 1152x216 with 1 Axes>"
      ]
     },
     "metadata": {},
     "output_type": "display_data"
    },
    {
     "data": {
      "image/png": "[encoded data removed]",
      "text/plain": [
       "<Figure size 1152x216 with 1 Axes>"
      ]
     },
     "metadata": {},
     "output_type": "display_data"
    }
   ],
   "source": [
    "plot_multiple_clusters(results_with_cluster, tval_df, 15, 'Tvalues')"
   ]
  },
  {
   "cell_type": "markdown",
   "id": "opposed-albany",
   "metadata": {},
   "source": [
    "## Construct Style Factors"
   ]
  },
  {
   "cell_type": "markdown",
   "id": "suitable-bandwidth",
   "metadata": {},
   "source": [
    "### Load index characteristics data"
   ]
  },
  {
   "cell_type": "code",
   "execution_count": 48,
   "id": "dense-socket",
   "metadata": {},
   "outputs": [],
   "source": [
    "# read oas over gov data for all sov bond indices\n",
    "oas1 = pd.read_csv(os.path.join(style_data_path, 'sov_bond_stats1.csv'), header=1, parse_dates=[0], nrows=7574, skipinitialspace=True)\n",
    "oas1.dropna(axis=1, how=\"all\", inplace=True) # delete empty column\n",
    "\n",
    "oas2 = pd.read_csv(os.path.join(style_data_path, 'sov_bond_stats2.csv'), header=1, parse_dates=[0], nrows=7552, skipinitialspace=True)\n",
    "oas2.dropna(axis=1, how=\"all\", inplace=True)\n",
    "\n",
    "oas3 = pd.read_csv(os.path.join(style_data_path, 'sov_bond_stats3.csv'), header=1, parse_dates=[0], nrows=6764, skipinitialspace=True)\n",
    "oas3.dropna(axis=1, how=\"all\", inplace=True)\n",
    "\n",
    "oas4 = pd.read_csv(os.path.join(style_data_path, 'sov_bond_stats4.csv'), header=1, parse_dates=[0], nrows=6912, skipinitialspace=True)\n",
    "oas4.dropna(axis=1, how=\"all\", inplace=True)\n",
    "\n",
    "oas = oas1[oas1['Date'] > start_date].merge(oas2, on='Date').merge(oas3, on='Date').merge(oas4, on='Date')\n",
    "oas_monthly = oas.set_index('Date').resample('M').last()\n",
    "oas_monthly.columns = oas_monthly.columns + ' Index'"
   ]
  },
  {
   "cell_type": "code",
   "execution_count": 49,
   "id": "marine-bailey",
   "metadata": {},
   "outputs": [],
   "source": [
    "# read foreign currency long term bond Moody's rating data\n",
    "rating = pd.read_csv(os.path.join(style_data_path, 'sov_bond_rating.csv'), parse_dates=[2])\n",
    "rating_unstacked = rating.set_index(['action_date', 'country']).unstack()['rating']\n",
    "rating_daily = rating_unstacked.resample('D').ffill()\n",
    "rating_daily = rating_daily.fillna(method='ffill')\n",
    "rating_monthly = rating_daily[rating_daily.index > start_date].resample('M').last()"
   ]
  },
  {
   "cell_type": "code",
   "execution_count": 50,
   "id": "unexpected-thompson",
   "metadata": {},
   "outputs": [],
   "source": [
    "rating_monthly = rating_monthly.iloc[:-1, :] # drop 2020-Feb data to align with index data "
   ]
  },
  {
   "cell_type": "code",
   "execution_count": 51,
   "id": "dominant-cycle",
   "metadata": {},
   "outputs": [],
   "source": [
    "# read sovereign bond index full market value data\n",
    "mv1 = pd.read_csv(os.path.join(style_data_path, 'sov_bond_value1.csv'), header=1, parse_dates=[0], nrows=350, skipinitialspace=True)\n",
    "mv1.dropna(axis=1, how=\"all\", inplace=True) # delete empty column\n",
    "\n",
    "mv2 = pd.read_csv(os.path.join(style_data_path, 'sov_bond_value2.csv'), header=1, parse_dates=[0], nrows=349, skipinitialspace=True)\n",
    "mv2.dropna(axis=1, how=\"all\", inplace=True)\n",
    "\n",
    "mv3 = pd.read_csv(os.path.join(style_data_path, 'sov_bond_value3.csv'), header=1, parse_dates=[0], nrows=316, skipinitialspace=True)\n",
    "mv3.dropna(axis=1, how=\"all\", inplace=True)\n",
    "\n",
    "mv4 = pd.read_csv(os.path.join(style_data_path, 'sov_bond_value4.csv'), header=1, parse_dates=[0], nrows=350, skipinitialspace=True)\n",
    "mv4.dropna(axis=1, how=\"all\", inplace=True)\n",
    "\n",
    "mv = mv1[mv1['Date'] > start_date].merge(mv2, on='Date').merge(mv3, on='Date').merge(mv4, on='Date')\n",
    "mv_monthly = mv.set_index('Date').resample('M').last()\n",
    "mv_monthly.columns = mv_monthly.columns + ' Index'"
   ]
  },
  {
   "cell_type": "code",
   "execution_count": 52,
   "id": "occupied-separation",
   "metadata": {},
   "outputs": [],
   "source": [
    "# read weighted average maturity data\n",
    "maturity1 = pd.read_csv(os.path.join(style_data_path, 'sov_bond_value1.csv'), skiprows=709, header=0, parse_dates=[0], nrows=350, skipinitialspace=True)\n",
    "maturity1.dropna(axis=1, how=\"all\", inplace=True)\n",
    "\n",
    "maturity2 = pd.read_csv(os.path.join(style_data_path, 'sov_bond_value2.csv'), skiprows=707, header=0, parse_dates=[0], nrows=349, skipinitialspace=True)\n",
    "maturity2.dropna(axis=1, how=\"all\", inplace=True)\n",
    "\n",
    "maturity3 = pd.read_csv(os.path.join(style_data_path, 'sov_bond_value3.csv'), skiprows=641, header=0, parse_dates=[0], nrows=316, skipinitialspace=True)\n",
    "maturity3.dropna(axis=1, how=\"all\", inplace=True)\n",
    "\n",
    "maturity4 = pd.read_csv(os.path.join(style_data_path, 'sov_bond_value4.csv'), skiprows=709, header=0, parse_dates=[0], nrows=350, skipinitialspace=True)\n",
    "maturity4.dropna(axis=1, how=\"all\", inplace=True)\n",
    "\n",
    "maturity = maturity1[maturity1['Date'] > start_date].merge(maturity2, on='Date').merge(maturity3, on='Date').merge(maturity4, on='Date')\n",
    "maturity_monthly = maturity.set_index('Date').resample('M').last()\n",
    "maturity_monthly.columns = maturity_monthly.columns + ' Index'"
   ]
  },
  {
   "cell_type": "code",
   "execution_count": 53,
   "id": "specific-monitoring",
   "metadata": {},
   "outputs": [
    {
     "data": {
      "text/plain": [
       "GDTH Index    110\n",
       "GDDZ Index    110\n",
       "GDGR Index    103\n",
       "GDBG Index     85\n",
       "GDMZ Index     83\n",
       "             ... \n",
       "GDSN Index      0\n",
       "GDTT Index      0\n",
       "GDSV Index      0\n",
       "GDHR Index      0\n",
       "GDID Index      0\n",
       "Length: 77, dtype: int64"
      ]
     },
     "execution_count": 53,
     "metadata": {},
     "output_type": "execute_result"
    }
   ],
   "source": [
    "maturity_monthly[ticker_dict].isna().sum().sort_values(ascending=False)"
   ]
  },
  {
   "cell_type": "markdown",
   "id": "floating-notice",
   "metadata": {},
   "source": [
    "### Filter for countries with cluster results"
   ]
  },
  {
   "cell_type": "code",
   "execution_count": 54,
   "id": "binding-thursday",
   "metadata": {},
   "outputs": [],
   "source": [
    "oas_monthly.columns = oas_monthly.columns.map(ticker_dict)\n",
    "mv_monthly.columns = mv_monthly.columns.map(ticker_dict)\n",
    "maturity_monthly.columns = maturity_monthly.columns.map(ticker_dict)"
   ]
  },
  {
   "cell_type": "code",
   "execution_count": 55,
   "id": "specific-bullet",
   "metadata": {},
   "outputs": [],
   "source": [
    "rating_monthly.rename(columns={'Korea':'South Korea'}, inplace=True)\n",
    "rating_monthly_selected = rating_monthly[results_with_cluster['country']]"
   ]
  },
  {
   "cell_type": "code",
   "execution_count": 56,
   "id": "terminal-module",
   "metadata": {},
   "outputs": [],
   "source": [
    "oas_monthly_selected = oas_monthly[results_with_cluster['country']]\n",
    "mv_monthly_selected = mv_monthly[results_with_cluster['country']]\n",
    "maturity_monthly_selected = maturity_monthly[results_with_cluster['country']]"
   ]
  },
  {
   "cell_type": "markdown",
   "id": "mighty-petite",
   "metadata": {},
   "source": [
    "### Construct value factor - cross sectional regression: OAS over Rating and Maturity"
   ]
  },
  {
   "cell_type": "code",
   "execution_count": 57,
   "id": "electoral-photography",
   "metadata": {},
   "outputs": [],
   "source": [
    "oas_monthly_selected.columns = pd.MultiIndex.from_product([['oas'], oas_monthly_selected.columns])\n",
    "maturity_monthly_selected.columns = pd.MultiIndex.from_product([['maturity'], maturity_monthly_selected.columns])\n",
    "rating_monthly_selected.columns = pd.MultiIndex.from_product([['rating'], rating_monthly_selected.columns])"
   ]
  },
  {
   "cell_type": "code",
   "execution_count": 58,
   "id": "mexican-fitting",
   "metadata": {},
   "outputs": [],
   "source": [
    "value_data = oas_monthly_selected.join(maturity_monthly_selected).join(rating_monthly_selected)"
   ]
  },
  {
   "cell_type": "code",
   "execution_count": 59,
   "id": "complimentary-private",
   "metadata": {},
   "outputs": [],
   "source": [
    "value_data.columns = value_data.columns.sort_values()"
   ]
  },
  {
   "cell_type": "code",
   "execution_count": 60,
   "id": "different-austin",
   "metadata": {},
   "outputs": [],
   "source": [
    "value_data.replace(0, np.nan, inplace=True)"
   ]
  },
  {
   "cell_type": "code",
   "execution_count": 61,
   "id": "tight-things",
   "metadata": {},
   "outputs": [
    {
     "data": {
      "text/plain": [
       "<AxesSubplot:xlabel='Date'>"
      ]
     },
     "execution_count": 61,
     "metadata": {},
     "output_type": "execute_result"
    },
    {
     "data": {
      "image/png": "[encoded data removed]",
      "text/plain": [
       "<Figure size 432x288 with 1 Axes>"
      ]
     },
     "metadata": {},
     "output_type": "display_data"
    }
   ],
   "source": [
    "# check number of missing countries\n",
    "value_data.T.groupby(level=0).apply(lambda x:x.isna().sum()).T.plot()"
   ]
  },
  {
   "cell_type": "code",
   "execution_count": 62,
   "id": "regional-facility",
   "metadata": {},
   "outputs": [
    {
     "ename": "SyntaxError",
     "evalue": "invalid syntax (<ipython-input-62-1940683cacd5>, line 4)",
     "output_type": "error",
     "traceback": [
      "\u001b[0;36m  File \u001b[0;32m\"<ipython-input-62-1940683cacd5>\"\u001b[0;36m, line \u001b[0;32m4\u001b[0m\n\u001b[0;31m    if len(temp) > :\u001b[0m\n\u001b[0m                   ^\u001b[0m\n\u001b[0;31mSyntaxError\u001b[0m\u001b[0;31m:\u001b[0m invalid syntax\n"
     ]
    }
   ],
   "source": [
    "for index, row in value_data.iterrows():\n",
    "    \n",
    "    temp = row.unstack(level=0).dropna()\n",
    "    if len(temp) > :\n",
    "        y = temp['oas']\n",
    "        X = temp[['maturity', 'rating']]\n",
    "    \n",
    "    "
   ]
  },
  {
   "cell_type": "code",
   "execution_count": null,
   "id": "generic-credits",
   "metadata": {},
   "outputs": [],
   "source": []
  }
 ],
 "metadata": {
  "environment": {
   "name": "common-cpu.mnightly-2021-02-02-debian-10-test",
   "type": "gcloud",
   "uri": "gcr.io/deeplearning-platform-release/base-cpu:mnightly-2021-02-02-debian-10-test"
  },
  "kernelspec": {
   "display_name": "Python 3",
   "language": "python",
   "name": "python3"
  },
  "language_info": {
   "codemirror_mode": {
    "name": "ipython",
    "version": 3
   },
   "file_extension": ".py",
   "mimetype": "text/x-python",
   "name": "python",
   "nbconvert_exporter": "python",
   "pygments_lexer": "ipython3",
   "version": "3.7.9"
  }
 },
 "nbformat": 4,
 "nbformat_minor": 5
}
