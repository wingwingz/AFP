{
 "cells": [
  {
   "cell_type": "code",
   "execution_count": null,
   "id": "coastal-actor",
   "metadata": {},
   "outputs": [],
   "source": [
    "import seaborn as sns\n",
    "import networkx as nx\n",
    "import statsmodels.api as sma\n",
    "import statsmodels\n",
    "\n",
    "from sklearn.covariance import GraphicalLassoCV, GraphicalLasso"
   ]
  },
  {
   "cell_type": "code",
   "execution_count": 1,
   "id": "acknowledged-professional",
   "metadata": {},
   "outputs": [],
   "source": [
    "def draw_graph(prec_matrix, names):\n",
    "    plt.figure(figsize=(12, 8))\n",
    "    g = nx.Graph()\n",
    "    for i in range(len(names)):\n",
    "        g.add_node(names[i])\n",
    "    ws = []\n",
    "    for i in range(prec_matrix.shape[0]):\n",
    "        for j in range(i):\n",
    "            if prec_matrix[i,j] != 0:\n",
    "                w = np.abs(prec_matrix[i,j]) * 3\n",
    "                ws.append(w)\n",
    "                g.add_edge(names[i], names[j], weight=prec_matrix[i,j])\n",
    "    cmap = lambda c: 'red' if c > 0 else 'blue'\n",
    "    cs = [cmap(w[2]['weight']) for w in g.edges(data=True)]\n",
    "    nx.draw_circular(g, with_labels = True, node_size=400, edge_size=10, edge_color=cs, font_size=14)\n",
    "    plt.show()\n",
    "\n",
    "def draw_precision(prec_matrix, names):\n",
    "    plt.figure(figsize=(8, 8))\n",
    "    sns.heatmap(prec_matrix, cmap=plt.cm.RdBu_r, center=0, xticklabels=names, yticklabels=names, square=True)\n",
    "    plt.show()"
   ]
  },
  {
   "cell_type": "code",
   "execution_count": 2,
   "id": "backed-advisory",
   "metadata": {},
   "outputs": [],
   "source": [
    "# one should have all the data ready in df, potentially a good idea to center and normalize the data"
   ]
  },
  {
   "cell_type": "code",
   "execution_count": null,
   "id": "mechanical-optimum",
   "metadata": {},
   "outputs": [],
   "source": [
    "# do not rerun it takes a pretty long time\n",
    "model = GraphicalLassoCV()\n",
    "model.fit(df.fillna(method = 'ffill'))\n",
    "print(model.alpha_)\n",
    "col_names = df.columns\n",
    "draw_precision(model.precision_, col_names)\n",
    "draw_graph(model.precision_, col_names)"
   ]
  },
  {
   "cell_type": "code",
   "execution_count": null,
   "id": "caring-secondary",
   "metadata": {},
   "outputs": [],
   "source": [
    "col_names = df.columns\n",
    "draw_precision(model.precision_, col_names)\n",
    "draw_graph(model.precision_, col_names)"
   ]
  }
 ],
 "metadata": {
  "environment": {
   "name": "common-cpu.mnightly-2021-01-20-debian-10-test",
   "type": "gcloud",
   "uri": "gcr.io/deeplearning-platform-release/base-cpu:mnightly-2021-01-20-debian-10-test"
  },
  "kernelspec": {
   "display_name": "Python 3",
   "language": "python",
   "name": "python3"
  },
  "language_info": {
   "codemirror_mode": {
    "name": "ipython",
    "version": 3
   },
   "file_extension": ".py",
   "mimetype": "text/x-python",
   "name": "python",
   "nbconvert_exporter": "python",
   "pygments_lexer": "ipython3",
   "version": "3.7.9"
  }
 },
 "nbformat": 4,
 "nbformat_minor": 5
}
