{
 "cells": [
  {
   "cell_type": "code",
   "execution_count": 100,
   "id": "satellite-population",
   "metadata": {},
   "outputs": [],
   "source": [
    "import pandas as pd\n",
    "import numpy as np\n",
    "from iso3166 import countries_by_name\n",
    "import seaborn as sns\n",
    "import matplotlib.pyplot as plt"
   ]
  },
  {
   "cell_type": "markdown",
   "id": "instant-funeral",
   "metadata": {},
   "source": [
    "## Revealed Competitive Advantage"
   ]
  },
  {
   "cell_type": "code",
   "execution_count": 2,
   "id": "olive-bankruptcy",
   "metadata": {},
   "outputs": [],
   "source": [
    "fname = 'https://raw.githubusercontent.com/QuantEcon/WAMS-2017/master/Matt/df/year_origin_sitc_rev2.csv'\n",
    "df = pd.read_csv(fname)"
   ]
  },
  {
   "cell_type": "code",
   "execution_count": 11,
   "id": "injured-barrel",
   "metadata": {
    "collapsed": true,
    "jupyter": {
     "outputs_hidden": true
    }
   },
   "outputs": [
    {
     "data": {
      "text/html": [
       "<div>\n",
       "<style scoped>\n",
       "    .dataframe tbody tr th:only-of-type {\n",
       "        vertical-align: middle;\n",
       "    }\n",
       "\n",
       "    .dataframe tbody tr th {\n",
       "        vertical-align: top;\n",
       "    }\n",
       "\n",
       "    .dataframe thead th {\n",
       "        text-align: right;\n",
       "    }\n",
       "</style>\n",
       "<table border=\"1\" class=\"dataframe\">\n",
       "  <thead>\n",
       "    <tr style=\"text-align: right;\">\n",
       "      <th></th>\n",
       "      <th>year</th>\n",
       "      <th>origin</th>\n",
       "      <th>sitc</th>\n",
       "      <th>export</th>\n",
       "    </tr>\n",
       "  </thead>\n",
       "  <tbody>\n",
       "    <tr>\n",
       "      <th>0</th>\n",
       "      <td>1962</td>\n",
       "      <td>AFG</td>\n",
       "      <td>230</td>\n",
       "      <td>4000.0</td>\n",
       "    </tr>\n",
       "    <tr>\n",
       "      <th>1</th>\n",
       "      <td>1962</td>\n",
       "      <td>AFG</td>\n",
       "      <td>250</td>\n",
       "      <td>66000.0</td>\n",
       "    </tr>\n",
       "    <tr>\n",
       "      <th>2</th>\n",
       "      <td>1962</td>\n",
       "      <td>AFG</td>\n",
       "      <td>540</td>\n",
       "      <td>74000.0</td>\n",
       "    </tr>\n",
       "    <tr>\n",
       "      <th>3</th>\n",
       "      <td>1962</td>\n",
       "      <td>AFG</td>\n",
       "      <td>545</td>\n",
       "      <td>17000.0</td>\n",
       "    </tr>\n",
       "    <tr>\n",
       "      <th>4</th>\n",
       "      <td>1962</td>\n",
       "      <td>AFG</td>\n",
       "      <td>548</td>\n",
       "      <td>33000.0</td>\n",
       "    </tr>\n",
       "    <tr>\n",
       "      <th>...</th>\n",
       "      <td>...</td>\n",
       "      <td>...</td>\n",
       "      <td>...</td>\n",
       "      <td>...</td>\n",
       "    </tr>\n",
       "    <tr>\n",
       "      <th>3779902</th>\n",
       "      <td>2014</td>\n",
       "      <td>ZWE</td>\n",
       "      <td>9310</td>\n",
       "      <td>910055.0</td>\n",
       "    </tr>\n",
       "    <tr>\n",
       "      <th>3779903</th>\n",
       "      <td>2014</td>\n",
       "      <td>ZWE</td>\n",
       "      <td>9410</td>\n",
       "      <td>NaN</td>\n",
       "    </tr>\n",
       "    <tr>\n",
       "      <th>3779904</th>\n",
       "      <td>2014</td>\n",
       "      <td>ZWE</td>\n",
       "      <td>9510</td>\n",
       "      <td>NaN</td>\n",
       "    </tr>\n",
       "    <tr>\n",
       "      <th>3779905</th>\n",
       "      <td>2014</td>\n",
       "      <td>ZWE</td>\n",
       "      <td>9610</td>\n",
       "      <td>NaN</td>\n",
       "    </tr>\n",
       "    <tr>\n",
       "      <th>3779906</th>\n",
       "      <td>2014</td>\n",
       "      <td>ZWE</td>\n",
       "      <td>9710</td>\n",
       "      <td>532851144.0</td>\n",
       "    </tr>\n",
       "  </tbody>\n",
       "</table>\n",
       "<p>3779907 rows × 4 columns</p>\n",
       "</div>"
      ],
      "text/plain": [
       "         year origin  sitc       export\n",
       "0        1962    AFG   230       4000.0\n",
       "1        1962    AFG   250      66000.0\n",
       "2        1962    AFG   540      74000.0\n",
       "3        1962    AFG   545      17000.0\n",
       "4        1962    AFG   548      33000.0\n",
       "...       ...    ...   ...          ...\n",
       "3779902  2014    ZWE  9310     910055.0\n",
       "3779903  2014    ZWE  9410          NaN\n",
       "3779904  2014    ZWE  9510          NaN\n",
       "3779905  2014    ZWE  9610          NaN\n",
       "3779906  2014    ZWE  9710  532851144.0\n",
       "\n",
       "[3779907 rows x 4 columns]"
      ]
     },
     "execution_count": 11,
     "metadata": {},
     "output_type": "execute_result"
    }
   ],
   "source": [
    "df"
   ]
  },
  {
   "cell_type": "code",
   "execution_count": 4,
   "id": "aboriginal-sequence",
   "metadata": {},
   "outputs": [],
   "source": [
    "total_vol = df[[\"year\", \"origin\", \"export\"]].groupby([\"year\", \"origin\"]).sum()"
   ]
  },
  {
   "cell_type": "code",
   "execution_count": 10,
   "id": "played-subdivision",
   "metadata": {},
   "outputs": [
    {
     "data": {
      "text/html": [
       "<div>\n",
       "<style scoped>\n",
       "    .dataframe tbody tr th:only-of-type {\n",
       "        vertical-align: middle;\n",
       "    }\n",
       "\n",
       "    .dataframe tbody tr th {\n",
       "        vertical-align: top;\n",
       "    }\n",
       "\n",
       "    .dataframe thead th {\n",
       "        text-align: right;\n",
       "    }\n",
       "</style>\n",
       "<table border=\"1\" class=\"dataframe\">\n",
       "  <thead>\n",
       "    <tr style=\"text-align: right;\">\n",
       "      <th></th>\n",
       "      <th></th>\n",
       "      <th>export</th>\n",
       "    </tr>\n",
       "    <tr>\n",
       "      <th>year</th>\n",
       "      <th>origin</th>\n",
       "      <th></th>\n",
       "    </tr>\n",
       "  </thead>\n",
       "  <tbody>\n",
       "    <tr>\n",
       "      <th rowspan=\"5\" valign=\"top\">2000</th>\n",
       "      <th>ABW</th>\n",
       "      <td>1.655866e+09</td>\n",
       "    </tr>\n",
       "    <tr>\n",
       "      <th>AFG</th>\n",
       "      <td>9.806462e+07</td>\n",
       "    </tr>\n",
       "    <tr>\n",
       "      <th>AGO</th>\n",
       "      <td>7.134706e+09</td>\n",
       "    </tr>\n",
       "    <tr>\n",
       "      <th>AIA</th>\n",
       "      <td>3.713320e+06</td>\n",
       "    </tr>\n",
       "    <tr>\n",
       "      <th>ALB</th>\n",
       "      <td>2.645663e+08</td>\n",
       "    </tr>\n",
       "    <tr>\n",
       "      <th>...</th>\n",
       "      <th>...</th>\n",
       "      <td>...</td>\n",
       "    </tr>\n",
       "    <tr>\n",
       "      <th rowspan=\"5\" valign=\"top\">2014</th>\n",
       "      <th>WSM</th>\n",
       "      <td>5.092161e+07</td>\n",
       "    </tr>\n",
       "    <tr>\n",
       "      <th>YEM</th>\n",
       "      <td>2.416888e+09</td>\n",
       "    </tr>\n",
       "    <tr>\n",
       "      <th>ZAF</th>\n",
       "      <td>9.061210e+10</td>\n",
       "    </tr>\n",
       "    <tr>\n",
       "      <th>ZMB</th>\n",
       "      <td>9.687918e+09</td>\n",
       "    </tr>\n",
       "    <tr>\n",
       "      <th>ZWE</th>\n",
       "      <td>3.063741e+09</td>\n",
       "    </tr>\n",
       "  </tbody>\n",
       "</table>\n",
       "<p>3145 rows × 1 columns</p>\n",
       "</div>"
      ],
      "text/plain": [
       "                   export\n",
       "year origin              \n",
       "2000 ABW     1.655866e+09\n",
       "     AFG     9.806462e+07\n",
       "     AGO     7.134706e+09\n",
       "     AIA     3.713320e+06\n",
       "     ALB     2.645663e+08\n",
       "...                   ...\n",
       "2014 WSM     5.092161e+07\n",
       "     YEM     2.416888e+09\n",
       "     ZAF     9.061210e+10\n",
       "     ZMB     9.687918e+09\n",
       "     ZWE     3.063741e+09\n",
       "\n",
       "[3145 rows x 1 columns]"
      ]
     },
     "execution_count": 10,
     "metadata": {},
     "output_type": "execute_result"
    }
   ],
   "source": [
    "total_vol.loc[2000:2019]"
   ]
  },
  {
   "cell_type": "code",
   "execution_count": 13,
   "id": "foreign-vietnam",
   "metadata": {},
   "outputs": [
    {
     "data": {
      "text/html": [
       "<div>\n",
       "<style scoped>\n",
       "    .dataframe tbody tr th:only-of-type {\n",
       "        vertical-align: middle;\n",
       "    }\n",
       "\n",
       "    .dataframe tbody tr th {\n",
       "        vertical-align: top;\n",
       "    }\n",
       "\n",
       "    .dataframe thead th {\n",
       "        text-align: right;\n",
       "    }\n",
       "</style>\n",
       "<table border=\"1\" class=\"dataframe\">\n",
       "  <thead>\n",
       "    <tr style=\"text-align: right;\">\n",
       "      <th></th>\n",
       "      <th>year</th>\n",
       "      <th>origin</th>\n",
       "      <th>sitc</th>\n",
       "      <th>export</th>\n",
       "      <th>cntry_export</th>\n",
       "      <th>prod_export</th>\n",
       "      <th>world_export</th>\n",
       "      <th>rca</th>\n",
       "    </tr>\n",
       "  </thead>\n",
       "  <tbody>\n",
       "    <tr>\n",
       "      <th>0</th>\n",
       "      <td>1962</td>\n",
       "      <td>AFG</td>\n",
       "      <td>230</td>\n",
       "      <td>4000.0</td>\n",
       "      <td>8.613500e+07</td>\n",
       "      <td>4.385810e+08</td>\n",
       "      <td>1.428420e+11</td>\n",
       "      <td>0.015125</td>\n",
       "    </tr>\n",
       "    <tr>\n",
       "      <th>1</th>\n",
       "      <td>1962</td>\n",
       "      <td>AFG</td>\n",
       "      <td>250</td>\n",
       "      <td>66000.0</td>\n",
       "      <td>8.613500e+07</td>\n",
       "      <td>2.614480e+08</td>\n",
       "      <td>1.428420e+11</td>\n",
       "      <td>0.418634</td>\n",
       "    </tr>\n",
       "    <tr>\n",
       "      <th>2</th>\n",
       "      <td>1962</td>\n",
       "      <td>AFG</td>\n",
       "      <td>540</td>\n",
       "      <td>74000.0</td>\n",
       "      <td>8.613500e+07</td>\n",
       "      <td>4.892400e+07</td>\n",
       "      <td>1.428420e+11</td>\n",
       "      <td>2.508338</td>\n",
       "    </tr>\n",
       "    <tr>\n",
       "      <th>3</th>\n",
       "      <td>1962</td>\n",
       "      <td>AFG</td>\n",
       "      <td>545</td>\n",
       "      <td>17000.0</td>\n",
       "      <td>8.613500e+07</td>\n",
       "      <td>3.491880e+08</td>\n",
       "      <td>1.428420e+11</td>\n",
       "      <td>0.080736</td>\n",
       "    </tr>\n",
       "    <tr>\n",
       "      <th>4</th>\n",
       "      <td>1962</td>\n",
       "      <td>AFG</td>\n",
       "      <td>548</td>\n",
       "      <td>33000.0</td>\n",
       "      <td>8.613500e+07</td>\n",
       "      <td>8.512600e+07</td>\n",
       "      <td>1.428420e+11</td>\n",
       "      <td>0.642877</td>\n",
       "    </tr>\n",
       "    <tr>\n",
       "      <th>...</th>\n",
       "      <td>...</td>\n",
       "      <td>...</td>\n",
       "      <td>...</td>\n",
       "      <td>...</td>\n",
       "      <td>...</td>\n",
       "      <td>...</td>\n",
       "      <td>...</td>\n",
       "      <td>...</td>\n",
       "    </tr>\n",
       "    <tr>\n",
       "      <th>3779902</th>\n",
       "      <td>2014</td>\n",
       "      <td>ZWE</td>\n",
       "      <td>9310</td>\n",
       "      <td>910055.0</td>\n",
       "      <td>3.063741e+09</td>\n",
       "      <td>1.764567e+12</td>\n",
       "      <td>1.763851e+13</td>\n",
       "      <td>0.002969</td>\n",
       "    </tr>\n",
       "    <tr>\n",
       "      <th>3779903</th>\n",
       "      <td>2014</td>\n",
       "      <td>ZWE</td>\n",
       "      <td>9410</td>\n",
       "      <td>NaN</td>\n",
       "      <td>3.063741e+09</td>\n",
       "      <td>1.058101e+09</td>\n",
       "      <td>1.763851e+13</td>\n",
       "      <td>NaN</td>\n",
       "    </tr>\n",
       "    <tr>\n",
       "      <th>3779904</th>\n",
       "      <td>2014</td>\n",
       "      <td>ZWE</td>\n",
       "      <td>9510</td>\n",
       "      <td>NaN</td>\n",
       "      <td>3.063741e+09</td>\n",
       "      <td>9.870492e+09</td>\n",
       "      <td>1.763851e+13</td>\n",
       "      <td>NaN</td>\n",
       "    </tr>\n",
       "    <tr>\n",
       "      <th>3779905</th>\n",
       "      <td>2014</td>\n",
       "      <td>ZWE</td>\n",
       "      <td>9610</td>\n",
       "      <td>NaN</td>\n",
       "      <td>3.063741e+09</td>\n",
       "      <td>3.865394e+08</td>\n",
       "      <td>1.763851e+13</td>\n",
       "      <td>NaN</td>\n",
       "    </tr>\n",
       "    <tr>\n",
       "      <th>3779906</th>\n",
       "      <td>2014</td>\n",
       "      <td>ZWE</td>\n",
       "      <td>9710</td>\n",
       "      <td>532851144.0</td>\n",
       "      <td>3.063741e+09</td>\n",
       "      <td>3.002480e+11</td>\n",
       "      <td>1.763851e+13</td>\n",
       "      <td>10.217287</td>\n",
       "    </tr>\n",
       "  </tbody>\n",
       "</table>\n",
       "<p>3779907 rows × 8 columns</p>\n",
       "</div>"
      ],
      "text/plain": [
       "         year origin  sitc       export  cntry_export   prod_export  \\\n",
       "0        1962    AFG   230       4000.0  8.613500e+07  4.385810e+08   \n",
       "1        1962    AFG   250      66000.0  8.613500e+07  2.614480e+08   \n",
       "2        1962    AFG   540      74000.0  8.613500e+07  4.892400e+07   \n",
       "3        1962    AFG   545      17000.0  8.613500e+07  3.491880e+08   \n",
       "4        1962    AFG   548      33000.0  8.613500e+07  8.512600e+07   \n",
       "...       ...    ...   ...          ...           ...           ...   \n",
       "3779902  2014    ZWE  9310     910055.0  3.063741e+09  1.764567e+12   \n",
       "3779903  2014    ZWE  9410          NaN  3.063741e+09  1.058101e+09   \n",
       "3779904  2014    ZWE  9510          NaN  3.063741e+09  9.870492e+09   \n",
       "3779905  2014    ZWE  9610          NaN  3.063741e+09  3.865394e+08   \n",
       "3779906  2014    ZWE  9710  532851144.0  3.063741e+09  3.002480e+11   \n",
       "\n",
       "         world_export        rca  \n",
       "0        1.428420e+11   0.015125  \n",
       "1        1.428420e+11   0.418634  \n",
       "2        1.428420e+11   2.508338  \n",
       "3        1.428420e+11   0.080736  \n",
       "4        1.428420e+11   0.642877  \n",
       "...               ...        ...  \n",
       "3779902  1.763851e+13   0.002969  \n",
       "3779903  1.763851e+13        NaN  \n",
       "3779904  1.763851e+13        NaN  \n",
       "3779905  1.763851e+13        NaN  \n",
       "3779906  1.763851e+13  10.217287  \n",
       "\n",
       "[3779907 rows x 8 columns]"
      ]
     },
     "execution_count": 13,
     "metadata": {},
     "output_type": "execute_result"
    }
   ],
   "source": [
    "df[\"cntry_export\"] = df[[\"year\", \"origin\", \"export\"]].groupby(by=[\"year\", \"origin\"]).transform(sum)\n",
    "df[\"prod_export\"] = df[[\"year\", \"sitc\", \"export\"]].groupby(by=[\"year\", \"sitc\"]).transform(sum)\n",
    "df[\"world_export\"] = df[[\"year\", \"export\"]].groupby(by=[\"year\"]).transform(sum)\n",
    "df[\"rca\"] = (df[\"export\"] / df[\"cntry_export\"]) / (df[\"prod_export\"] / df[\"world_export\"])\n",
    "df"
   ]
  },
  {
   "cell_type": "code",
   "execution_count": 14,
   "id": "valued-reality",
   "metadata": {},
   "outputs": [],
   "source": [
    "# produce yearly rca\n",
    "\n",
    "rca = {}\n",
    "for year in range(2000,2015):\n",
    "    yr = df[df.year == year].set_index(['origin', 'sitc']).unstack('sitc')['rca']\n",
    "    rca[year] = yr"
   ]
  },
  {
   "cell_type": "code",
   "execution_count": 61,
   "id": "encouraging-christopher",
   "metadata": {},
   "outputs": [],
   "source": [
    "# https://www.msci.com/developed-markets\n",
    "# temp = pd.read_html(html)[0]\n",
    "dm_countries = np.concatenate(temp.loc[1:].values)\n",
    "dm_countries = dm_countries[~pd.isnull(dm_countries)]"
   ]
  },
  {
   "cell_type": "code",
   "execution_count": 37,
   "id": "physical-market",
   "metadata": {},
   "outputs": [
    {
     "name": "stdout",
     "output_type": "stream",
     "text": [
      "Czech Republic\n",
      "Iran\n",
      "Russia\n",
      "South Korea\n",
      "Taiwan\n",
      "Venezuela\n",
      "nan\n"
     ]
    }
   ],
   "source": [
    "codemap = {}\n",
    "for k in em_countries:\n",
    "    try:\n",
    "        codemap[k] = countries_by_name[k.upper()].alpha3\n",
    "    except:\n",
    "        print(k)"
   ]
  },
  {
   "cell_type": "code",
   "execution_count": 63,
   "id": "meaningful-strand",
   "metadata": {},
   "outputs": [
    {
     "name": "stdout",
     "output_type": "stream",
     "text": [
      "USA\n",
      "United Kingdom\n"
     ]
    }
   ],
   "source": [
    "for k in dm_countries:\n",
    "    try:\n",
    "        codemap[k] = countries_by_name[k.upper()].alpha3\n",
    "    except:\n",
    "        print(k)"
   ]
  },
  {
   "cell_type": "code",
   "execution_count": 78,
   "id": "critical-munich",
   "metadata": {},
   "outputs": [
    {
     "data": {
      "text/plain": [
       "array(['Canada', 'Austria', 'Italy', 'Australia', 'USA', 'Belgium',\n",
       "       'Netherlands', 'Hong Kong', 'Denmark', 'Norway', 'Japan',\n",
       "       'Finland', 'Portugal', 'New Zealand', 'France', 'Spain',\n",
       "       'Singapore', 'Germany', 'Sweden', 'Ireland', 'Switzerland',\n",
       "       'Israel', 'United Kingdom'], dtype=object)"
      ]
     },
     "execution_count": 78,
     "metadata": {},
     "output_type": "execute_result"
    }
   ],
   "source": [
    "dm_countries"
   ]
  },
  {
   "cell_type": "code",
   "execution_count": 79,
   "id": "prescription-birmingham",
   "metadata": {
    "collapsed": true,
    "jupyter": {
     "outputs_hidden": true
    }
   },
   "outputs": [
    {
     "data": {
      "text/plain": [
       "['Argentina',\n",
       " 'Bangladesh',\n",
       " 'Brazil',\n",
       " 'Bulgaria',\n",
       " 'Chile',\n",
       " 'China',\n",
       " 'Colombia',\n",
       " 'Czech Republic',\n",
       " 'Egypt',\n",
       " 'Greece',\n",
       " 'Hungary',\n",
       " 'India',\n",
       " 'Indonesia',\n",
       " 'Iran',\n",
       " 'Israel',\n",
       " 'Kuwait',\n",
       " 'Malaysia',\n",
       " 'Mauritius',\n",
       " 'Mexico',\n",
       " 'Morocco',\n",
       " 'Nigeria',\n",
       " 'Oman',\n",
       " 'Pakistan',\n",
       " 'Peru',\n",
       " 'Philippines',\n",
       " 'Poland',\n",
       " 'Qatar',\n",
       " 'Romania',\n",
       " 'Russia',\n",
       " 'Saudi Arabia',\n",
       " 'South Africa',\n",
       " 'South Korea',\n",
       " 'Taiwan',\n",
       " 'Thailand',\n",
       " 'Turkey',\n",
       " 'Ukraine',\n",
       " 'United Arab Emirates',\n",
       " 'Venezuela',\n",
       " nan]"
      ]
     },
     "execution_count": 79,
     "metadata": {},
     "output_type": "execute_result"
    }
   ],
   "source": [
    "em_countries"
   ]
  },
  {
   "cell_type": "code",
   "execution_count": 95,
   "id": "conservative-actor",
   "metadata": {},
   "outputs": [],
   "source": [
    "cntry = [codemap[k] for k in codemap]\n",
    "rcacorr = {}\n",
    "for yr in range(2000,2015):\n",
    "    rcadf = rca[yr]\n",
    "    rcacorr[yr] = rcadf[rcadf.index.isin(cntry)].T.corr()"
   ]
  },
  {
   "cell_type": "code",
   "execution_count": 102,
   "id": "acoustic-depression",
   "metadata": {},
   "outputs": [
    {
     "data": {
      "text/plain": [
       "<AxesSubplot:xlabel='origin', ylabel='origin'>"
      ]
     },
     "execution_count": 102,
     "metadata": {},
     "output_type": "execute_result"
    },
    {
     "data": {
      "image/png": "[encoded data removed]",
      "text/plain": [
       "<Figure size 1152x1152 with 2 Axes>"
      ]
     },
     "metadata": {
      "needs_background": "light"
     },
     "output_type": "display_data"
    }
   ],
   "source": [
    "cmap = sns.diverging_palette(220, 20, as_cmap=True)\n",
    "fig,ax = plt.subplots(figsize = (16,16))\n",
    "sns.heatmap(rcacorr[2001],vmax=0.1, center = 0, cmap = cmap, ax = ax)"
   ]
  },
  {
   "cell_type": "code",
   "execution_count": null,
   "id": "manual-wonder",
   "metadata": {},
   "outputs": [],
   "source": []
  }
 ],
 "metadata": {
  "environment": {
   "name": "common-cpu.mnightly-2021-01-20-debian-10-test",
   "type": "gcloud",
   "uri": "gcr.io/deeplearning-platform-release/base-cpu:mnightly-2021-01-20-debian-10-test"
  },
  "kernelspec": {
   "display_name": "Python 3",
   "language": "python",
   "name": "python3"
  },
  "language_info": {
   "codemirror_mode": {
    "name": "ipython",
    "version": 3
   },
   "file_extension": ".py",
   "mimetype": "text/x-python",
   "name": "python",
   "nbconvert_exporter": "python",
   "pygments_lexer": "ipython3",
   "version": "3.7.9"
  }
 },
 "nbformat": 4,
 "nbformat_minor": 5
}
